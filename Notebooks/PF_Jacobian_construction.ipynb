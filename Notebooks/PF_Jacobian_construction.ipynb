{
 "cells": [
  {
   "cell_type": "code",
   "execution_count": null,
   "id": "84b10439",
   "metadata": {},
   "outputs": [],
   "source": [
    "import os\n",
    "import sys\n",
    "import numpy as np\n",
    "if '..' not in sys.path:\n",
    "    sys.path.append('..')\n",
    "from pfcommon import parse_sparse_matrix_file, parse_Amat_vars_file, parse_Jacobian_vars_file"
   ]
  },
  {
   "cell_type": "code",
   "execution_count": null,
   "id": "bdd2e044",
   "metadata": {},
   "outputs": [],
   "source": [
    "def print_matrix(M, var_names, outfile=None):\n",
    "    n_vars = len(var_names)\n",
    "    n_char = max(max(map(len, var_names)), 8)\n",
    "    fmt_str = ' {:>' + str(n_char) + 's}'\n",
    "    fmt_int = ' {:' + str(n_char) + 'g}'\n",
    "    fmt_num = ' {:' + str(n_char) + '.4f}'\n",
    "    if outfile is not None:\n",
    "        out = open(outfile,'w')\n",
    "    else:\n",
    "        out = sys.stdout\n",
    "    out.write(' ' * 5)\n",
    "    for var_name in var_names:\n",
    "        out.write(fmt_str.format(var_name))\n",
    "    out.write('\\n')\n",
    "    for i,row in enumerate(M):\n",
    "        out.write(f'[{i+1:02d}] ')\n",
    "        for val in row:\n",
    "            if np.abs(val)<1e-6 or np.abs(1-np.abs(val))<1e-6:\n",
    "                out.write(fmt_int.format(val))\n",
    "            else:\n",
    "                out.write(fmt_num.format(val))\n",
    "        out.write('\\n')\n",
    "    if outfile is not None:\n",
    "        out.close()"
   ]
  },
  {
   "cell_type": "code",
   "execution_count": null,
   "id": "03d36e8d",
   "metadata": {},
   "outputs": [],
   "source": [
    "model_name = 'SM_with_load'\n",
    "dynamic = True\n",
    "load_type = 'const_S'\n",
    "V_gen_pu = None\n",
    "if not dynamic and load_type != 'const_Z':\n",
    "    raise Exception('Load type must be \"const_Z\" if load is static')\n",
    "expt_name = '{}_{}_{}'.format('adynamic' if dynamic else 'static',\n",
    "                              'loads' if 'loads' in model_name else 'load',\n",
    "                              load_type)\n",
    "if dynamic and load_type == 'const_Z' and V_gen_pu is not None:\n",
    "    expt_name += '_Vgen={:.2f}_pu'.format(V_gen_pu)\n",
    "folder = os.path.join('..', 'data', model_name, expt_name, 'LD1')\n",
    "filename = os.path.join(folder, 'VariableToIdx_Jacobian.txt')\n",
    "vars_idx,state_vars,voltages,currents,signals = parse_Jacobian_vars_file(filename)\n",
    "filename = os.path.join(folder, 'Jacobian.mtl')\n",
    "J = parse_sparse_matrix_file(filename, )\n",
    "filename = os.path.join(folder, model_name + '_AC.npz')\n",
    "data = np.load(filename, allow_pickle=True)\n",
    "S = data['S'].item()\n",
    "PF = data['PF_without_slack'].item()\n",
    "gen_names = [n for n in list(PF['SMs']) if n not in ('Ptot','Qtot')]\n",
    "PF_buses = PF['buses']\n",
    "bus_names = [k for k,v in PF_buses.items() if isinstance(v,dict)]\n",
    "PF_loads = PF['loads']\n",
    "PF_load = PF['loads']['LD1']\n",
    "PF_gen = PF['SMs']['G1']\n",
    "cosphi = PF_gen['cosphi']\n",
    "ϕ = np.arccos(cosphi)\n",
    "print('cos(ϕ) = {:7.3f}'.format(cosphi))\n",
    "print('     ϕ = {:7.3f} deg'.format(np.rad2deg(ϕ)))"
   ]
  },
  {
   "cell_type": "code",
   "execution_count": null,
   "id": "71913805",
   "metadata": {},
   "outputs": [],
   "source": [
    "flatten = lambda D: [k+'.'+el for k,subl in D.items() for el in subl]\n",
    "var_names = flatten(state_vars) + flatten(voltages) + flatten(currents)\n",
    "n_vars = len(var_names)\n",
    "print('State variables: \"{}\".'.format('\", \"'.join(flatten(state_vars))))\n",
    "print('       Voltages: \"{}\".'.format('\", \"'.join(flatten(voltages))))\n",
    "print('       Currents: \"{}\".'.format('\", \"'.join(flatten(currents))))"
   ]
  },
  {
   "cell_type": "markdown",
   "id": "49079c84",
   "metadata": {},
   "source": [
    "#### Base parameters\n",
    "These values are used by PowerFactory for display purposes"
   ]
  },
  {
   "cell_type": "code",
   "execution_count": null,
   "id": "4fe36c62",
   "metadata": {},
   "outputs": [],
   "source": [
    "PF_bus = PF_buses[bus_names[0]]\n",
    "F      = 50.   # [Hz] default frequency\n",
    "S_base = 1e6   # [VA] base apparent power\n",
    "T_base = S_base / (2 * np.pi * F) # [Nm] base torque\n",
    "V_base = PF_bus['Vl']/PF_bus['u']*1e3  # [V] base voltage (line-to-line)\n",
    "I_base = S_base/V_base                 # [A] base current\n",
    "Z_base = V_base**2/S_base              # [Ω] base impedance\n",
    "Y_base = 1/Z_base                      # [S] base admittance\n",
    "print('====== System ======')\n",
    "print('S_base = {:7.3f} MVA'.format(S_base*1e-6))\n",
    "print('T_base = {:7.3f} kNm'.format(T_base*1e-3))\n",
    "print('V_base = {:7.3f} kV'.format(V_base*1e-3))\n",
    "print('I_base = {:7.3f} kA'.format(I_base*1e-3))\n",
    "print('Z_base = {:7.3f} Ω'.format(Z_base))\n",
    "print('Y_base = {:7.3f} S'.format(Y_base))"
   ]
  },
  {
   "cell_type": "markdown",
   "id": "a7775b52",
   "metadata": {},
   "source": [
    "#### Generator parameters\n",
    "Base parameters of the single generator in the network"
   ]
  },
  {
   "cell_type": "code",
   "execution_count": null,
   "id": "6ffc7bce",
   "metadata": {},
   "outputs": [],
   "source": [
    "S_base_gen = S['G1']*1e6                      # [VA]\n",
    "V_base_gen = PF_gen['Vl']*1e3 / PF_gen['u']   # [V]\n",
    "I_base_gen = S_base_gen/V_base_gen            # [A]\n",
    "Z_base_gen = V_base_gen**2 / S_base_gen       # [Ω]\n",
    "Y_base_gen = 1 / Z_base_gen                   # [S]\n",
    "rstr,xstr = 0.2, 0.4                          # [pu] stator parameters\n",
    "R_gen,X_gen = rstr*Z_base_gen,xstr*Z_base_gen # [Ω]\n",
    "Z_gen = R_gen + 1j*X_gen                      # [Ω]\n",
    "Y_gen = 1/Z_gen                               # [S]\n",
    "Z_gen_pu = Z_gen/Z_base                       # [pu]\n",
    "Y_gen_pu = Y_gen/Y_base                       # [pu]\n",
    "R_gen_pu,X_gen_pu = Z_gen_pu.real, Z_gen_pu.imag\n",
    "gen_coeffs = np.array([[R_gen_pu, -X_gen_pu],[X_gen_pu, R_gen_pu]])\n",
    "\n",
    "V = (Z_gen/Z_base_gen) * (PF_gen['ir'] + 1j*PF_gen['ii'])\n",
    "e = (PF_bus['ur'] + 1j*PF_bus['ui']) + V\n",
    "E0, ϕg = np.abs(e), np.angle(e)\n",
    "phase_coeffs = np.array([E0*np.sin(ϕg), -E0*np.cos(ϕg)])\n",
    "\n",
    "print('===== Generator ====')\n",
    "print('S_base = {:7.3f} MVA'.format(S_base_gen*1e-6))\n",
    "print('V_base = {:7.3f} kV'.format(V_base_gen*1e-3))\n",
    "print('I_base = {:7.3f} kA'.format(I_base_gen*1e-3))\n",
    "print('Z_base = {:7.3f} Ω'.format(Z_base_gen))\n",
    "print('Y_base = {:7.3f} S'.format(Y_base_gen))"
   ]
  },
  {
   "cell_type": "code",
   "execution_count": null,
   "id": "594add33-66af-43de-8aa8-f0093c658999",
   "metadata": {},
   "outputs": [],
   "source": [
    "S_base_load = np.abs(PF_load['P'] * 1e6 + 1j * PF_load['Q'] * 1e6)\n",
    "I_base_load = PF_load['I'] * 1e3 / PF_load['i']\n",
    "V_base_load = PF_load['Vl'] * 1e3 / PF_load['u']\n",
    "# I_base_load = S_base_load / V_base_load\n",
    "Z_base_load = V_base_load ** 2 / S_base_load\n",
    "Y_base_load = 1 / Z_base_load\n",
    "print('======= Load ======')\n",
    "print('S_base = {:7.3f} MVA'.format(S_base_load*1e-6))\n",
    "print('V_base = {:7.3f} kV'.format(V_base_load*1e-3))\n",
    "print('I_base = {:7.3f} kA'.format(I_base_load*1e-3))\n",
    "print('Z_base = {:7.3f} Ω'.format(Z_base_load))\n",
    "print('Y_base = {:7.3f} S'.format(Y_base_load))"
   ]
  },
  {
   "cell_type": "markdown",
   "id": "8718dbc1",
   "metadata": {},
   "source": [
    "#### Load parameters\n",
    "The p.u. values of the load impedance are referred to the system base."
   ]
  },
  {
   "cell_type": "code",
   "execution_count": null,
   "id": "07e0a63d",
   "metadata": {},
   "outputs": [],
   "source": [
    "load_names = [k for k,v in PF_loads.items() if isinstance(v,dict)]\n",
    "load_types = {name: load_type for name in load_names}\n",
    "load_coeffs = {name: np.zeros((2,2)) for name in load_names}\n",
    "for load_name in load_names:\n",
    "    PF_load = PF_loads[load_name]\n",
    "    ld_typ = load_types[load_name]\n",
    "    if ld_typ == 'const_Z':\n",
    "        u = np.sqrt(3) * PF_load['V'] * np.exp(1j*np.deg2rad(PF_load['phiu'])) # [kV]\n",
    "        i = np.sqrt(3) * PF_load['I'] * np.exp(1j*np.deg2rad(PF_load['phii'])) # [kA]\n",
    "        S = u*i.conjugate() # [MVA]\n",
    "        if len(bus_names) == 1:\n",
    "            assert np.abs(S.real - PF_load['P']) < 1e-6\n",
    "            assert np.abs(S.imag - PF_load['Q']) < 1e-6\n",
    "        Y_load    = i/u                                      # [S]\n",
    "        Y_load_pu = Y_load/Y_base                            # [pu]\n",
    "        G_load,B_load       = Y_load.real, Y_load.imag       # [S]\n",
    "        G_load_pu,B_load_pu = Y_load_pu.real, Y_load_pu.imag # [pu]\n",
    "        load_coeffs[load_name] = np.array([[G_load_pu,-B_load_pu],[B_load_pu,G_load_pu]])\n",
    "        print('========== {} ========='.format(load_name))\n",
    "        print('G = {:7.5f} S, {:5.3f} pu'.format(G_load, G_load_pu))\n",
    "        print('B = {:7.5f} S, {:5.3f} pu'.format(B_load, B_load_pu))\n",
    "    elif ld_typ == 'const_S':\n",
    "        P = PF_load['P']*1e6/S_base  # [pu]\n",
    "        Q = PF_load['Q']*1e6/S_base  # [pu]\n",
    "        ur,ui = PF_bus['ur'], PF_bus['ui']\n",
    "        den = (ur**2+ui**2)**2       # [pu]\n",
    "        load_coeffs[load_name] = np.array([[(P*(ui**2-ur**2) - 2*Q*ur*ui) / den, (Q*(ur**2-ui**2) - 2*P*ur*ui) / den],\n",
    "                                           [(Q*(ur**2-ui**2) - 2*P*ur*ui) / den, (P*(ur**2-ui**2) + 2*Q*ur*ui) / den]])\n",
    "        print('======== {} ========'.format(load_name))\n",
    "        print('S = {:g} MVA = {:g} pu'.format(PF_load['P']+1j*PF_load['Q'], P+1j*Q))\n",
    "    else:\n",
    "        raise Exception('Unknown load type `{ld_typ}`')"
   ]
  },
  {
   "cell_type": "markdown",
   "id": "27dd636e",
   "metadata": {},
   "source": [
    "## Power flow results\n",
    "#### Generator"
   ]
  },
  {
   "cell_type": "code",
   "execution_count": null,
   "id": "366359db",
   "metadata": {},
   "outputs": [],
   "source": [
    "print('     P = {:7.3f} MW'.format(PF_gen['P']))\n",
    "print('     Q = {:7.3f} Mvar'.format(PF_gen['Q']))\n",
    "print('     u = {:7.3f} pu'.format(PF_gen['u']))\n",
    "print('    ur = {:7.3f} pu'.format(PF_gen['ur']))\n",
    "print('    ui = {:7.3f} pu'.format(PF_gen['ui']))\n",
    "print(' V_l2l = {:7.3f} kV'.format(PF_gen['Vl']))\n",
    "print(' V_l2g = {:7.3f} kV'.format(PF_gen['V']))\n",
    "print('   V_ϕ = {:7.3f} deg'.format(PF_gen['phiu']))\n",
    "print('     I = {:7.3f} kA'.format(PF_gen['I']))\n",
    "print('     i = {:7.3f} pu'.format(PF_gen['i']))\n",
    "print('    ir = {:7.3f} pu'.format(PF_gen['ir']))\n",
    "print('    ii = {:7.3f} pu'.format(PF_gen['ii']))"
   ]
  },
  {
   "cell_type": "markdown",
   "id": "5492d69b",
   "metadata": {},
   "source": [
    "#### Load(s)"
   ]
  },
  {
   "cell_type": "code",
   "execution_count": null,
   "id": "fc2d7b22",
   "metadata": {},
   "outputs": [],
   "source": [
    "for load_name in load_names:\n",
    "    PF_load = PF_loads[load_name]\n",
    "    print('>>> Load \"{}\"'.format(load_name))\n",
    "    print('     P = {:7.3f} MW'.format(PF_load['P']))\n",
    "    print('     Q = {:7.3f} Mvar'.format(PF_load['Q']))\n",
    "    print('     u = {:7.3f} pu'.format(PF_load['u']))\n",
    "    print('    ur = {:7.3f} pu'.format(PF_load['ur']))\n",
    "    print('    ui = {:7.3f} pu'.format(PF_load['ui']))\n",
    "    print(' V_l2l = {:7.3f} kV'.format(PF_load['Vl']))\n",
    "    print(' V_l2g = {:7.3f} kV'.format(PF_load['V']))\n",
    "    print('   V_ϕ = {:7.3f} deg'.format(PF_load['phiu']))\n",
    "    print('     I = {:7.3f} kA'.format(PF_load['I']))\n",
    "    print('     i = {:7.3f} pu'.format(PF_load['i']))\n",
    "    print('    ir = {:7.3f} pu'.format(PF_load['ir']))\n",
    "    print('    ii = {:7.3f} pu'.format(PF_load['ii']))"
   ]
  },
  {
   "cell_type": "markdown",
   "id": "5d086a90",
   "metadata": {},
   "source": [
    "#### Bus"
   ]
  },
  {
   "cell_type": "code",
   "execution_count": null,
   "id": "5ed526f8",
   "metadata": {},
   "outputs": [],
   "source": [
    "for bus_name in bus_names:\n",
    "    PF_bus = PF_buses[bus_name]\n",
    "    print('>>> Bus \"{}\"\"'.format(bus_name))\n",
    "    print('     u = {:7.3f} pu'.format(PF_bus['u']))\n",
    "    print('    ur = {:7.3f} pu'.format(PF_bus['ur']))\n",
    "    print('    ui = {:7.3f} pu'.format(PF_bus['ui']))\n",
    "    print(' V_l2l = {:7.3f} kV'.format(PF_bus['Vl']))\n",
    "    print(' V_l2g = {:7.3f} kV'.format(PF_bus['V']))\n",
    "    print('     ϕ = {:7.3f} deg'.format(PF_bus['phi']))"
   ]
  },
  {
   "cell_type": "markdown",
   "id": "5817b2ca-ddea-4aaa-8af2-84602c89e643",
   "metadata": {},
   "source": [
    "### State equations\n",
    "\n",
    "When using a classical model for the generator and a (a)dynamic load, the system has only two state variables, the speed and the phase of of the generator, $n$ and $\\phi$ respectively. The following two ODEs describe the behavior of the state variables:\n",
    "\n",
    "$\n",
    "\\frac{dn}{dt} = \\left[ \\frac{pt}{n} - xmdm - dpu\\cdot n - addmt - \\frac{i_G^i (u_B^i + r i_G^i) + i_G^r (u_B^r + r i_G^r)}{1\\cdot cosn} - dkd\\cdot (n - nref) - \\frac{dpe}{n}\\cdot (n - nref) \\right] / tag\n",
    "$\n",
    "\n",
    "$\n",
    "\\frac{d\\phi}{dt} = 0\n",
    "$\n",
    "\n",
    "The $1$ at the denominator in the first equation above is a consequence of the fact that rotor speed variations are not taken into account in the model. This behavior can be changed in the ``Advanced`` tab of the RMS simulation of the generator type: if rotor speed variations are to be considered, then the $1$ has to be changed to $n$ and the coefficient $c_{11}$ below should be changed accordingly.\n",
    "\n",
    "The first two rows of the Jacobian matrix have the following form:\n",
    "\n",
    "|Equation|$\\frac{\\partial}{\\partial n}$|$\\frac{\\partial}{\\partial\\phi}$|$\\frac{\\partial}{\\partial u_B^r}$|$\\frac{\\partial}{\\partial u_B^i}$|$\\frac{\\partial}{\\partial i_L^r}$|$\\frac{\\partial}{\\partial i_L^i}$|$\\frac{\\partial}{\\partial i_G^r}$|$\\frac{\\partial}{\\partial i_G^i}$|\n",
    "|:---:|:---:|:---:|:---:|:---:|:---:|:---:|:---:|:---:|\n",
    "|1| $c_{11}$ | 0 | $c_{13}$ | $c_{14}$ | 0 | 0 | $c_{17}$ |  $c_{18}$ |\n",
    "|2| 0 | 0 | 0 | 0 | 0 | 0 |  0 | 0 |\n",
    "\n",
    "where $(u_B^r,u_B^i)$ are the real and imaginary parts of the voltage at the bus, $(i_G^r,i_G^i)$ are the real and imaginary parts of the generator current, and $(i_L^r,i_L^i)$ are the real and imaginary parts of the load current.\n",
    "\n",
    "The coefficients $c_{11}$, $c_{13}$, $c_{14}$, $c_{17}$ and $c_{18}$ are given by the following expressions:\n",
    "\n",
    "$c_{11} = (-\\frac{pt}{n^2} - dpu - dkd - \\frac{dpe\\cdot nref}{n^2}) / tag$\n",
    "\n",
    "$c_{13} = -\\frac{i_G^r}{n\\cdot cosn\\cdot tag}$\n",
    "\n",
    "$c_{14} = -\\frac{i_G^i}{n\\cdot cosn\\cdot tag}$\n",
    "\n",
    "$c_{17} = -\\frac{u_B^r + 2 r i_G^r}{n\\cdot cosn\\cdot tag}$\n",
    "\n",
    "$c_{18} = -\\frac{u_B^i + 2 r i_G^i}{n\\cdot cosn\\cdot tag}$\n"
   ]
  },
  {
   "cell_type": "code",
   "execution_count": null,
   "id": "73ac80b5-07d8-440e-96a1-f1dc77b34901",
   "metadata": {},
   "outputs": [],
   "source": [
    "tag = 8 # [s]\n",
    "dpu, dkd, dpe = 0, 0, 0\n",
    "xmdm = 0\n",
    "nref = 1\n",
    "cosn = 1\n",
    "n = 1\n",
    "ur, ui = PF_gen['ur'], PF_gen['ui']\n",
    "ir, ii = PF_gen['ir'], PF_gen['ii']\n",
    "u = ur + 1j * ui\n",
    "i = ir + 1j * ii\n",
    "ψ = (u + rstr*i) / (1j * n)\n",
    "Te = (i.imag * ψ.real - i.real * ψ.imag) / cosn\n",
    "pt = Te + dpu * n + xmdm\n",
    "print(f'Electrical torque: {Te:g} pu.')\n",
    "swing_eq_coeffs = np.zeros(n_vars)\n",
    "swing_eq_coeffs[0] = (- pt / n**2 - dpu - dkd - dpe * nref / n**2) / tag\n",
    "swing_eq_coeffs[2] = - ir / (n * cosn) / tag\n",
    "swing_eq_coeffs[3] = - ii / (n * cosn) / tag\n",
    "swing_eq_coeffs[6] = - (ur + 2 * rstr * ir) / (n * cosn) / tag\n",
    "swing_eq_coeffs[7] = - (ui + 2 * rstr * ii) / (n * cosn) / tag\n",
    "neglect_rotor_speed_variations = True # see comment above\n",
    "if not neglect_rotor_speed_variations:\n",
    "    swing_eq_coeffs[0] += (ii * (ui + rstr * ii) + ir * (ur + rstr * ir)) / (n**2 * cosn) / tag"
   ]
  },
  {
   "cell_type": "markdown",
   "id": "e6577eed",
   "metadata": {},
   "source": [
    "### Static load\n",
    "  1. A static load is represented as a constant impedance.\n",
    "  1. The number of variables is equal to 6.\n",
    "  1. The submatrix has the following structure, where all the values are in per unit:\n",
    "\n",
    "|Equation|$\\frac{\\partial}{\\partial n}$|$\\frac{\\partial}{\\partial\\phi}$|$\\frac{\\partial}{\\partial u_B^r}$|$\\frac{\\partial}{\\partial u_B^i}$|$\\frac{\\partial}{\\partial i_G^r}$|$\\frac{\\partial}{\\partial i_G^i}$|\n",
    "|:---:|:---:|:---:|:---:|:---:|:---:|:---:|\n",
    "| 3 | 0 | 0 | $G_L$ | $-B_L$ | -1 |  0 |\n",
    "| 4 | 0 | 0 | $B_L$ | $G_L$ |  0 | -1 |\n",
    "| 5 | 0 | $E_0\\sin(\\phi)$ | 1 | 0 | $R_G$ | $-X_G$ |\n",
    "| 6 | 0 | $E_0\\cos(\\phi)$ | 0 | 1 | $X_G$ | $R_G$ |\n",
    "\n",
    "where $(R_G,X_G)$ are the resistance and reactance of the synchronous machine's stator, and $(G_L,B_L)$ are the conductance and susceptance of the load."
   ]
  },
  {
   "cell_type": "markdown",
   "id": "1ed590c2",
   "metadata": {},
   "source": [
    "### Dynamic load\n",
    "  1. Dynamic load with constant power.\n",
    "  1. The number of variables is equal to 8.\n",
    "  1. The submatrix has the following structure, where all the values are in per unit:\n",
    "\n",
    "|Equation|$\\frac{\\partial}{\\partial n}$|$\\frac{\\partial}{\\partial\\phi}$|$\\frac{\\partial}{\\partial u_r}$|$\\frac{\\partial}{\\partial u_i}$|$\\frac{\\partial}{\\partial i_r^L}$|$\\frac{\\partial}{\\partial i_i^L}$|$\\frac{\\partial}{\\partial i_r^G}$|$\\frac{\\partial}{\\partial i_i^G}$|\n",
    "|:---:|:---:|:---:|:---:|:---:|:---:|:---:|:---:|:---:|\n",
    "|3| 0 | 0 | 0 | 0 | 1 | 0 | -1 |  0 |\n",
    "|4| 0 | 0 | 0 | 0 | 0 | 1 |  0 | -1 |\n",
    "|5| 0 | 0 | $c_{53}$ | $c_{54}$ | -1 |  0 | 0 | 0 |\n",
    "|6| 0 | 0 | $c_{63}$ | $c_{64}$ |  0 | -1 | 0 | 0 |\n",
    "|7| 0 |  $E_0 \\sin(\\phi)$ | 1 | 0 | 0 | 0 | $R_G$ | $-X_G$ |\n",
    "|8| 0 | $-E_0 \\cos(\\phi)$ | 0 | 1 | 0 | 0 | $X_g$ |  $R_G$ |\n",
    "\n",
    "where $(R_G,X_G)$ are the resistance and reactance of the synchronous machine's stator, and $E_0$ is the nominal value of the generator voltage.\n",
    "\n",
    "The coefficients $c_{53}$, $c_{54}$, $c_{63}$ and $c_{64}$ are given by the following expressions:\n",
    "\n",
    "$c_{53} = \\frac{\\partial}{\\partial u_B^r} \\frac{P u_B^r + Q u_B^i}{(u_B^r)^2 + (u_B^i)^2} = \\frac{P((u_B^i)^2-(u_B^r)^2) - 2Q u_B^r u_B^i}{((u_B^r)^2+(u_B^i)^2)^2}$\n",
    "\n",
    "$c_{53} = \\frac{\\partial}{\\partial u_B^i} \\frac{P u_B^r + Q u_B^i}{(u_B^r)^2 + (u_B^i)^2} = \\frac{Q((u_B^r)^2-(u_B^i)^2) - 2P u_B^r u_B^i}{((u_B^r)^2+(u_B^i)^2)^2}$\n",
    "\n",
    "$c_{63} = \\frac{\\partial}{\\partial u_B^r} \\frac{-Q u_B^r + P u_B^i}{(u_B^r)^2 + (u_B^i)^2} = \\frac{Q((u_B^r)^2-(u_B^i)^2) - 2P u_B^r u_B^i}{((u_B^r)^2+(u_B^i)^2)^2}$\n",
    "\n",
    "$c_{64} = \\frac{\\partial}{\\partial u_B^i} \\frac{-Q u_B^r + P u_B^i}{(u_B^r)^2 + (u_B^i)^2} = \\frac{P((u_B^r)^2-(u_B^i)^2) + 2Q u_B^r u_B^i}{((u_B^r)^2+(u_B^i)^2)^2}$"
   ]
  },
  {
   "cell_type": "code",
   "execution_count": null,
   "id": "49013b52-f733-4d08-843d-85c9616d37bf",
   "metadata": {},
   "outputs": [],
   "source": [
    "assert n_vars == 8, 'Only dynamic loads are supported'\n",
    "IDX = lambda name: var_names.index(name)\n",
    "assert len(load_names) == 1, 'Only 1 load is supported'\n",
    "load_name = load_names[0]\n",
    "assert len(gen_names) == 1, 'Only 1 generator is supported'\n",
    "gen_name = gen_names[0]\n",
    "assert len(bus_names) == 1, 'Only 1 bus is supported'\n",
    "bus_name = bus_names[0]\n",
    "J_guess = np.zeros((n_vars, n_vars), dtype=float)"
   ]
  },
  {
   "cell_type": "markdown",
   "id": "fb1af9b9-7cc0-486f-9ea9-e056888e3652",
   "metadata": {},
   "source": [
    "### State equations"
   ]
  },
  {
   "cell_type": "code",
   "execution_count": null,
   "id": "b2be3173-3702-4400-b0b0-bfb88292d425",
   "metadata": {},
   "outputs": [],
   "source": [
    "J_guess[0, :] = swing_eq_coeffs\n",
    "J_guess[1, :] = np.zeros(n_vars)"
   ]
  },
  {
   "cell_type": "markdown",
   "id": "dbbcb391-657d-4997-ac29-da580f557112",
   "metadata": {},
   "source": [
    "#### KCL equation at the bus\n",
    "\n",
    "$\\bar{\\imath}_L + G_{\\mathrm{gnd}} \\bar{u}_B - \\bar{\\imath}_G = 0$\n",
    "\n",
    "$i_L^r + j i_L^i + G_{\\mathrm{gnd}} u_B^r + G_{\\mathrm{gnd}} u_B^i - i_G^r - j i_G^i = 0$\n",
    "\n",
    "Row 3: $i_L^r + G_{\\mathrm{gnd}} u_B^r - i_G^r = 0$\n",
    "\n",
    "Row 4: $i_L^i + G_{\\mathrm{gnd}} u_B^i - i_G^i = 0$"
   ]
  },
  {
   "cell_type": "code",
   "execution_count": null,
   "id": "1813a212-2339-4084-b43b-21b1b55af563",
   "metadata": {},
   "outputs": [],
   "source": [
    "Ggnd = 1.1e-4\n",
    "for i,ki in enumerate('ri'):\n",
    "    idx = 2 + i\n",
    "    jdx = IDX(f'Grid-{bus_name}.ElmTerm.u{ki}')\n",
    "    J_guess[idx, jdx] = Ggnd\n",
    "    jdx = IDX(f'Grid-{load_name}.ElmLod.i{ki}')\n",
    "    J_guess[idx, jdx] = 1\n",
    "    jdx = IDX(f'Grid-{gen_name}.ElmSym.i{ki}')\n",
    "    J_guess[idx, jdx] = -1"
   ]
  },
  {
   "cell_type": "markdown",
   "id": "159fb5d3-7de1-4abf-862f-51aee09ce024",
   "metadata": {},
   "source": [
    "### Current equations in the load"
   ]
  },
  {
   "cell_type": "code",
   "execution_count": null,
   "id": "aa0724e2-2288-4f30-8b0f-dd4ce1fed605",
   "metadata": {},
   "outputs": [],
   "source": [
    "for i,ki in enumerate('ri'):\n",
    "    idx = 4 + i\n",
    "    for j,kj in enumerate('ri'):\n",
    "        jdx = IDX(f'Grid-{bus_name}.ElmTerm.u{kj}')\n",
    "        J_guess[idx, jdx] = load_coeffs[load_name][i, j]\n",
    "    jdx = IDX(f'Grid-{load_name}.ElmLod.i{ki}')\n",
    "    J_guess[idx, jdx] = -1"
   ]
  },
  {
   "cell_type": "markdown",
   "id": "278b114c-7f83-4b37-b53b-1886a9eb958c",
   "metadata": {},
   "source": [
    "### KVL equation of the system"
   ]
  },
  {
   "cell_type": "code",
   "execution_count": null,
   "id": "a046c28c-17df-421f-a5b3-36e4136343fb",
   "metadata": {},
   "outputs": [],
   "source": [
    "for i,ki in enumerate('ri'):\n",
    "    idx = 6 + i\n",
    "    jdx = IDX(f'Grid-{gen_name}.ElmSym.phi')\n",
    "    J_guess[idx, jdx] = phase_coeffs[i]\n",
    "    jdx = IDX(f'Grid-{bus_name}.ElmTerm.u{ki}')\n",
    "    J_guess[idx, jdx] = 1\n",
    "    for j,kj in enumerate('ri'):\n",
    "        jdx = IDX(f'Grid-{gen_name}.ElmSym.i{kj}')\n",
    "        J_guess[idx, jdx] = gen_coeffs[i, j]"
   ]
  },
  {
   "cell_type": "code",
   "execution_count": null,
   "id": "44066b13-15ef-4908-ac3b-c0ef3545de2f",
   "metadata": {},
   "outputs": [],
   "source": [
    "assert np.allclose(J[:n_vars, :n_vars], J_guess, atol=1e-5)"
   ]
  },
  {
   "cell_type": "code",
   "execution_count": null,
   "id": "4a1f3645",
   "metadata": {},
   "outputs": [],
   "source": [
    "print_matrix(J[:n_vars,:n_vars], var_names, 'J.out' if n_vars > 5 else None)"
   ]
  },
  {
   "cell_type": "code",
   "execution_count": null,
   "id": "6d51806e",
   "metadata": {},
   "outputs": [],
   "source": [
    "print_matrix(J_guess, var_names, 'J_guess.out' if n_vars > 5 else None)"
   ]
  }
 ],
 "metadata": {
  "kernelspec": {
   "display_name": "Python 3 (ipykernel)",
   "language": "python",
   "name": "python3"
  },
  "language_info": {
   "codemirror_mode": {
    "name": "ipython",
    "version": 3
   },
   "file_extension": ".py",
   "mimetype": "text/x-python",
   "name": "python",
   "nbconvert_exporter": "python",
   "pygments_lexer": "ipython3",
   "version": "3.10.17"
  }
 },
 "nbformat": 4,
 "nbformat_minor": 5
}
