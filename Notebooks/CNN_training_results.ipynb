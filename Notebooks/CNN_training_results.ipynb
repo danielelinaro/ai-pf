{
 "cells": [
  {
   "cell_type": "code",
   "execution_count": null,
   "id": "1674f882",
   "metadata": {},
   "outputs": [],
   "source": [
    "import os\n",
    "import re\n",
    "import json\n",
    "import pickle\n",
    "from datetime import timedelta\n",
    "\n",
    "import numpy as np\n",
    "import pandas as pd\n",
    "from sklearn.metrics import mean_absolute_percentage_error\n",
    "import matplotlib.pyplot as plt\n",
    "import seaborn as sns\n",
    "\n",
    "from comet_ml.api import API, APIExperiment\n",
    "from comet_ml.query import Tag"
   ]
  },
  {
   "cell_type": "code",
   "execution_count": null,
   "id": "3b9338fd",
   "metadata": {},
   "outputs": [],
   "source": [
    "import matplotlib\n",
    "import matplotlib.pyplot as plt\n",
    "import seaborn as sns\n",
    "\n",
    "fontsize = 9\n",
    "lw = 0.75\n",
    "matplotlib.rc('font', **{'family': 'Times', 'size': fontsize})\n",
    "matplotlib.rc('axes', **{'linewidth': 0.75, 'labelsize': fontsize})\n",
    "matplotlib.rc('xtick', **{'labelsize': fontsize})\n",
    "matplotlib.rc('ytick', **{'labelsize': fontsize})\n",
    "matplotlib.rc('xtick.major', **{'width': lw, 'size':3})\n",
    "matplotlib.rc('ytick.major', **{'width': lw, 'size':3})\n",
    "matplotlib.rc('ytick.minor', **{'width': lw, 'size':1.5})"
   ]
  },
  {
   "cell_type": "code",
   "execution_count": null,
   "id": "1c5969fd",
   "metadata": {},
   "outputs": [],
   "source": [
    "CORRECT_M_VALUES = True"
   ]
  },
  {
   "cell_type": "code",
   "execution_count": null,
   "id": "696f161c",
   "metadata": {},
   "outputs": [],
   "source": [
    "api = API(api_key = os.environ['COMET_API_KEY'])\n",
    "workspace = 'danielelinaro'\n",
    "project_name = 'inertia'\n",
    "query = Tag('Sardinia')# & Tag('low_high_prediction')\n",
    "experiments = api.query(workspace, project_name, query, archived=False)\n",
    "n_experiments = len(experiments)\n",
    "print(f'Found {n_experiments} experiments.')"
   ]
  },
  {
   "cell_type": "code",
   "execution_count": null,
   "id": "8822ccfe",
   "metadata": {},
   "outputs": [],
   "source": [
    "val_loss = {'low_high': 1000, 'continuous': 1000}\n",
    "experiment = {}\n",
    "for i,expt in enumerate(experiments):\n",
    "    metrics = expt.get_metrics_summary()\n",
    "    tags = expt.get_tags()\n",
    "    key = 'low_high' if 'low_high_prediction' in tags else 'continuous'\n",
    "    metric_names = [m['name'] for m in metrics]\n",
    "    if 'val_loss' in metric_names:\n",
    "        idx = metric_names.index('val_loss')\n",
    "        loss = float(metrics[idx]['valueMin'])\n",
    "        if loss < val_loss[key]:\n",
    "            val_loss[key] = loss\n",
    "            experiment[key] = expt\n",
    "    print('[{:2d}] {} {:g}{}'.format(i+1, expt.id, loss, ' *' if key == 'low_high' else ''))\n",
    "for key in experiment:\n",
    "    print(\"Best experiment for key '{}': {}[...]. Validation loss: {:.4f}.\".\\\n",
    "          format(key, experiment[key].id[:8], val_loss[key]))\n",
    "experiment_IDs = {k: v.id for k,v in experiment.items()}\n",
    "metrics = {k: v.get_metrics() for k,v in experiment.items()}"
   ]
  },
  {
   "cell_type": "code",
   "execution_count": null,
   "id": "b484b3c1",
   "metadata": {},
   "outputs": [],
   "source": [
    "val_loss = {k: np.array([float(m['metricValue']) for m in v if m['metricName'] == 'val_loss'])\n",
    "            for k,v in metrics.items()}\n",
    "loss = {k: np.array([float(m['metricValue']) for m in v if m['metricName'] == 'loss'])\n",
    "        for k,v in metrics.items()}\n",
    "epochs = {k: np.arange(v.size) for k,v in loss.items()}"
   ]
  },
  {
   "cell_type": "code",
   "execution_count": null,
   "id": "f72105a2",
   "metadata": {},
   "outputs": [],
   "source": [
    "base_dir = '..'\n",
    "experiments_path = os.path.join(base_dir, 'experiments', 'neural_network')\n",
    "y,y_pred,MAPE = {},{},{}\n",
    "for k,ID in experiment_IDs.items():\n",
    "    experiment_path = os.path.join(experiments_path, ID)\n",
    "    checkpoint_path = os.path.join(experiment_path, 'checkpoints')\n",
    "    test_results_path = os.path.join(experiments_path, ID, 'test_results.pkl')\n",
    "    test_results = pickle.load(open(test_results_path, 'rb'))\n",
    "    y[k] = test_results['y_test']\n",
    "    y_pred[k] = test_results['y_prediction']\n",
    "    MAPE[k] = test_results['mape_prediction'][0]"
   ]
  },
  {
   "cell_type": "code",
   "execution_count": null,
   "id": "fba5848a",
   "metadata": {},
   "outputs": [],
   "source": [
    "if CORRECT_M_VALUES:\n",
    "    old = np.load(os.path.join('..','HEM_old.npz'))\n",
    "    new = np.load(os.path.join('..','HEM.npz'))\n",
    "    M_map = {o: n for o,n in zip(old['M'],new['M']) if o > 0}\n",
    "    y_new = {}\n",
    "    y_pred_new = {}\n",
    "    for k in y:\n",
    "        y_new[k] = np.zeros_like(y[k])\n",
    "        y_pred_new[k] = np.zeros_like(y_pred[k])\n",
    "        for i,old_val in enumerate(y[k]):\n",
    "            idx = np.argmin(np.abs(old_val - old['M']))\n",
    "            y_new[k][i] = M_map[old['M'][idx]]\n",
    "            y_pred_new[k][i] = y_pred[k][i] + (y_new[k][i] - old_val)"
   ]
  },
  {
   "cell_type": "code",
   "execution_count": null,
   "id": "593ee99e",
   "metadata": {},
   "outputs": [],
   "source": [
    "fig,ax = plt.subplots(3, 1, figsize=(3.25,4), height_ratios=(1,1,2))\n",
    "\n",
    "light_gray = .8 + np.zeros(3)\n",
    "dark_gray = .2 + np.zeros(3)\n",
    "for i,k in enumerate(['low_high','continuous']):\n",
    "    ax[i].plot(epochs[k], loss[k], color=light_gray, lw=1, label='Batch loss')\n",
    "    ax[i].plot(epochs[k], val_loss[k], color=dark_gray, lw=1, label='Validation loss')\n",
    "for a in ax[:2]:\n",
    "    a.set_yscale('log')\n",
    "    a.set_ylabel('Loss')\n",
    "    a.set_ylim([1e-3, 1e1])\n",
    "ax[1].set_xlabel('Epoch')\n",
    "ax[0].legend(loc='upper right', frameon=False, fontsize=8)\n",
    "\n",
    "if CORRECT_M_VALUES:\n",
    "    limits = [0.25,0.60]\n",
    "    ticks = np.r_[0.25 : 0.61 : 0.05]\n",
    "else:\n",
    "    limits = [0.13,0.47]\n",
    "    ticks = np.r_[0.15 : 0.46 : 0.1]\n",
    "ax[2].plot(limits, limits, ':', color=[.6,.6,.6], lw=2)\n",
    "cmap = {'low_high': 'tab:red', 'continuous': np.zeros(3)}\n",
    "ms = {'low_high': 6, 'continuous': 3}\n",
    "coeff = 3\n",
    "if CORRECT_M_VALUES:\n",
    "    Y,Y_pred = y_new,y_pred_new\n",
    "else:\n",
    "    Y,Y_pred = y,y_pred\n",
    "for k in ('low_high','continuous'):\n",
    "    flag = True\n",
    "    for m in np.unique(Y[k]):\n",
    "        idx, = np.where(Y[k] == m)\n",
    "        mean,std = Y_pred[k][idx].mean(),Y_pred[k][idx].std()\n",
    "        ax[2].vlines(m, mean-coeff*std, mean+coeff*std, color=cmap[k], lw=1.25)\n",
    "        if flag:\n",
    "            ax[2].plot(m, mean, 's', color=cmap[k], ms=ms[k], markerfacecolor='w',\n",
    "                       markeredgewidth=1.25, label=f'MAPE = {MAPE[k]:.2f}%')\n",
    "            flag = False\n",
    "        else:\n",
    "            ax[2].plot(m, mean, 's', color=cmap[k], ms=ms[k], markerfacecolor='w',\n",
    "                       markeredgewidth=1.25)\n",
    "\n",
    "\n",
    "ax[2].set_xticks(ticks)\n",
    "ax[2].set_yticks(ticks)\n",
    "ax[2].set_xlabel(r'Momentum [GW$\\cdot$s$^2$]')\n",
    "ax[2].set_ylabel(r'Predicted momentum [GW$\\cdot$s$^2$]')\n",
    "ax[2].legend(loc='upper left', frameon=False, fontsize=8)\n",
    "sns.despine()\n",
    "fig.tight_layout(pad=0)\n",
    "plt.savefig('CNN_prediction.pdf')"
   ]
  }
 ],
 "metadata": {
  "kernelspec": {
   "display_name": "Python 3 (ipykernel)",
   "language": "python",
   "name": "python3"
  },
  "language_info": {
   "codemirror_mode": {
    "name": "ipython",
    "version": 3
   },
   "file_extension": ".py",
   "mimetype": "text/x-python",
   "name": "python",
   "nbconvert_exporter": "python",
   "pygments_lexer": "ipython3",
   "version": "3.10.14"
  }
 },
 "nbformat": 4,
 "nbformat_minor": 5
}
