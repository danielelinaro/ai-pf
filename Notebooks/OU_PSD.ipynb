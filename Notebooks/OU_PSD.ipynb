{
 "cells": [
  {
   "cell_type": "code",
   "execution_count": null,
   "id": "6275dbe4",
   "metadata": {},
   "outputs": [],
   "source": [
    "import numpy as np\n",
    "from scipy.signal import welch\n",
    "import matplotlib.pyplot as plt\n",
    "import seaborn as sns\n",
    "import sys\n",
    "if not '..' in sys.path:\n",
    "    sys.path.append('..')\n",
    "from pfcommon import OU_2"
   ]
  },
  {
   "cell_type": "code",
   "execution_count": null,
   "id": "bae8934c",
   "metadata": {},
   "outputs": [],
   "source": [
    "tend = 4000\n",
    "dt = 5e-3\n",
    "mean,stddev,tau = 0,0.01*322,20e-3\n",
    "μ,c,α = mean,stddev*np.sqrt(2/tau),1/tau\n",
    "# μ,c,α = 0,1,10*2*np.pi\n",
    "# mean,stddev,tau = μ,np.sqrt(c**2/(2*α)),1/α\n",
    "time = np.r_[0 : tend+dt/2 : dt]\n",
    "N = time.size\n",
    "cutoff = α/(2*np.pi)\n",
    "x = OU_2(dt, α, μ, c, N)"
   ]
  },
  {
   "cell_type": "code",
   "execution_count": null,
   "id": "4358325c",
   "metadata": {},
   "outputs": [],
   "source": [
    "window = 200 / dt\n",
    "onesided = True\n",
    "freq,P = welch(x, 1/dt, window='hamming', nperseg=window, noverlap=window/2,\n",
    "               return_onesided=onesided, scaling='density')\n",
    "if onesided:\n",
    "    P /= 2\n",
    "else:\n",
    "    Nf = freq.size\n",
    "    freq = freq[:Nf//2]\n",
    "    P = P[:Nf//2]\n",
    "P_theor = (c/α)**2 / (1 + (2*np.pi*freq/α)**2)"
   ]
  },
  {
   "cell_type": "code",
   "execution_count": null,
   "id": "53f615f2",
   "metadata": {},
   "outputs": [],
   "source": [
    "P_db = 10*np.log10(P)\n",
    "P_theor_db = 10*np.log10(P_theor)"
   ]
  },
  {
   "cell_type": "code",
   "execution_count": null,
   "id": "849cab66",
   "metadata": {},
   "outputs": [],
   "source": [
    "fig,ax = plt.subplots(1, 1, figsize=(5,3))\n",
    "# ax.plot(freq, P, 'k', lw=0.75)\n",
    "# ax.plot(freq, P_theor, 'r', lw=2)\n",
    "# ax.plot(cutoff+np.zeros(2), [0, (c/α)**2], 'g--', lw=1)\n",
    "ax.plot(freq, P_db, 'k', lw=0.75)\n",
    "ax.plot(freq, P_theor_db, 'r', lw=2)\n",
    "ax.plot(cutoff+np.zeros(2), ax.get_ylim(), 'g--', lw=1)\n",
    "ax.set_xscale('log')\n",
    "ax.set_xlabel('Frequency [Hz]')\n",
    "ax.set_ylabel('PSD')\n",
    "sns.despine()\n",
    "fig.tight_layout()"
   ]
  },
  {
   "cell_type": "markdown",
   "id": "75d849ed",
   "metadata": {},
   "source": [
    "The variance of a process is the integral of its PSD over all frequencies:"
   ]
  },
  {
   "cell_type": "code",
   "execution_count": null,
   "id": "be7770e7",
   "metadata": {},
   "outputs": [],
   "source": [
    "from scipy.integrate import simpson\n",
    "var = simpson(P_theor, freq)\n",
    "if onesided:\n",
    "    var *= 2\n",
    "print(f'Theoretical variance: {var:.4f}.')\n",
    "print(f'Numerically computed variance: {x.var():.4f}.')"
   ]
  }
 ],
 "metadata": {
  "kernelspec": {
   "display_name": "Python 3 (ipykernel)",
   "language": "python",
   "name": "python3"
  },
  "language_info": {
   "codemirror_mode": {
    "name": "ipython",
    "version": 3
   },
   "file_extension": ".py",
   "mimetype": "text/x-python",
   "name": "python",
   "nbconvert_exporter": "python",
   "pygments_lexer": "ipython3",
   "version": "3.10.14"
  }
 },
 "nbformat": 4,
 "nbformat_minor": 5
}
