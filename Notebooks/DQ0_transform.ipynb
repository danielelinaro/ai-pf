{
 "cells": [
  {
   "cell_type": "code",
   "execution_count": null,
   "id": "88428805-222a-4836-9976-d94f100034e4",
   "metadata": {},
   "outputs": [],
   "source": [
    "import numpy as np\n",
    "import matplotlib.pyplot as plt\n",
    "import seaborn as sns"
   ]
  },
  {
   "cell_type": "code",
   "execution_count": null,
   "id": "1748b819-dc37-414a-b4a4-b128faabfe66",
   "metadata": {},
   "outputs": [],
   "source": [
    "f = 50\n",
    "T = 1 / f\n",
    "π = np.pi\n",
    "ω = 2 * π * f\n",
    "\n",
    "M_clark = np.sqrt(2/3) * np.array([\n",
    "    [1, -1/2, -1/2],\n",
    "    [0, np.sqrt(3)/2, -np.sqrt(3)/2],\n",
    "    [1/np.sqrt(2), 1/np.sqrt(2), 1/np.sqrt(2)]\n",
    "])\n",
    "M_park = lambda θ: np.array([\n",
    "    [np.cos(θ), np.sin(θ), 0],\n",
    "    [-np.sin(θ), np.cos(θ), 0],\n",
    "    [0, 0, 1]\n",
    "])"
   ]
  },
  {
   "cell_type": "code",
   "execution_count": null,
   "id": "3618e439-0c23-4989-bfe3-a36595874cce",
   "metadata": {},
   "outputs": [],
   "source": [
    "def dq0_tranform(ω, time, a, b, c):\n",
    "    d = np.zeros_like(time)\n",
    "    q = np.zeros_like(time)\n",
    "    zero = np.zeros_like(time)\n",
    "    for i, (t, x, y, z) in enumerate(zip(time, a, b, c)):\n",
    "        θ = ω * t\n",
    "        d[i], q[i], zero[i] = M_park(θ) @ M_clark @ np.array([x, y, z])\n",
    "    return d, q, zero"
   ]
  },
  {
   "cell_type": "code",
   "execution_count": null,
   "id": "1d6ae2ec-b75a-42ed-8d6f-ab8a3acd717e",
   "metadata": {},
   "outputs": [],
   "source": [
    "t = np.linspace(0, 2*T, 100)\n",
    "ϕv = π / 10  # initial phase of the voltage\n",
    "V = 10\n",
    "va = V * np.cos(ω*t + ϕv)\n",
    "vb = V * np.cos(ω*t + ϕv - 2 / 3 * π)\n",
    "vc = V * np.cos(ω*t + ϕv + 2 / 3 * π)\n",
    "vd, vq, v0 = dq0_tranform(ω, t, va, vb, vc)"
   ]
  },
  {
   "cell_type": "code",
   "execution_count": null,
   "id": "9e15dfc8-ce59-47bf-b913-63cad164c5b3",
   "metadata": {},
   "outputs": [],
   "source": [
    "VA = V * np.exp(1j * (ϕv))\n",
    "VB = V * np.exp(1j * (ϕv - 2 / 3 * π))\n",
    "VC = V * np.exp(1j * (ϕv + 2 / 3 * π))"
   ]
  },
  {
   "cell_type": "code",
   "execution_count": null,
   "id": "5e48b430-d03e-41cc-b158-d190614ed6eb",
   "metadata": {},
   "outputs": [],
   "source": [
    "R = 100   # [Ω]\n",
    "L = 0.2   # [H]\n",
    "Z = R + 1j * ω * L\n",
    "abs_Z = np.abs(Z)\n",
    "ϕ = np.atan2(Z.imag, Z.real)\n",
    "print('Z = {} Ω'.format(Z))\n",
    "print('ϕ = {:g} deg'.format(np.rad2deg(ϕ)))\n",
    "print('cos(ϕ) = {:g}'.format(np.cos(ϕ)))"
   ]
  },
  {
   "cell_type": "code",
   "execution_count": null,
   "id": "01466c0f-2412-4f51-b4bb-c86726e015ad",
   "metadata": {},
   "outputs": [],
   "source": [
    "correct_power_factor = True\n",
    "COSPHI = 0.98\n",
    "if correct_power_factor and np.cos(ϕ) < COSPHI:\n",
    "    P_one_phase = 1 / 2 * V**2 / abs_Z * np.cos(ϕ)\n",
    "    ϕr = np.acos(COSPHI)\n",
    "    C = 2 * P_one_phase * (np.tan(ϕ) - np.tan(ϕr)) / (ω * V**2)\n",
    "    Z = (Z / (1j*ω*C)) / (Z + 1/(1j*ω*C))\n",
    "    abs_Z = np.abs(Z)\n",
    "    ϕ = np.atan2(Z.imag, Z.real)\n",
    "    print('C = {:g} μF'.format(C*1e6))\n",
    "    print('Z = {:g} Ω'.format(Z))\n",
    "    print('ϕ = {:g} deg'.format(np.rad2deg(ϕ)))\n",
    "    print('cos(ϕ) = {:g}'.format(np.cos(ϕ)))"
   ]
  },
  {
   "cell_type": "code",
   "execution_count": null,
   "id": "113a5932-b749-4516-9de1-a4186a68109d",
   "metadata": {},
   "outputs": [],
   "source": [
    "IA = VA / Z\n",
    "IB = VB / Z\n",
    "IC = VC / Z"
   ]
  },
  {
   "cell_type": "code",
   "execution_count": null,
   "id": "3581dd60-8e2c-4555-9237-e0d80e3b605f",
   "metadata": {},
   "outputs": [],
   "source": [
    "ia = (IA * np.exp(1j * ω * t)).real\n",
    "ib = (IB * np.exp(1j * ω * t)).real\n",
    "ic = (IC * np.exp(1j * ω * t)).real\n",
    "id, iq, i0 = dq0_tranform(ω, t, ia, ib, ic)\n",
    "print('I = {:g} A'.format(ia.max()))"
   ]
  },
  {
   "cell_type": "code",
   "execution_count": null,
   "id": "5b014c8d-52ae-4516-bbf1-5e6d7f3467d3",
   "metadata": {},
   "outputs": [],
   "source": [
    "P = 3 / 2 * V**2 / abs_Z * np.cos(ϕ)\n",
    "Q = 3 / 2 * V**2 / abs_Z * np.sin(ϕ)\n",
    "print(f'P = {P:g} W')\n",
    "print(f'Q = {Q:g} VAR')"
   ]
  },
  {
   "cell_type": "code",
   "execution_count": null,
   "id": "07bf0654-87d2-4010-bc72-d85e6c3e9761",
   "metadata": {},
   "outputs": [],
   "source": [
    "assert np.max(np.abs((vd - vd[0]))) < 1e-12\n",
    "assert abs(vd[0] * id[0] + vq[0] * iq[0] - P) < 1e-12\n",
    "assert abs(vq[0] * id[0] - vd[0] * iq[0] - Q) < 1e-12"
   ]
  },
  {
   "cell_type": "code",
   "execution_count": null,
   "id": "05b75a72-ec68-41bf-a65c-150bb0c7ff95",
   "metadata": {},
   "outputs": [],
   "source": [
    "fig,ax = plt.subplots(2, 1, figsize=(5,3), sharex=True)\n",
    "ax[0].plot(t/T, va, 'r', lw=1, label='va')\n",
    "ax[0].plot(t/T, vb, 'g', lw=1, label='vb')\n",
    "ax[0].plot(t/T, vc, 'b', lw=1, label='vc')\n",
    "ax[1].plot(t/T, vd, 'k', lw=1, label='vd')\n",
    "ax[1].plot(t/T, vq, 'm', lw=1, label='vq')\n",
    "ax[1].plot(t/T, v0, 'c--', lw=1, label='v0')\n",
    "ax[1].set_xlabel('Time [T]')\n",
    "ax[0].legend(loc='best', fontsize=8)\n",
    "ax[1].legend(loc='best', fontsize=8)\n",
    "sns.despine()\n",
    "fig.tight_layout()"
   ]
  },
  {
   "cell_type": "code",
   "execution_count": null,
   "id": "0e5ed8f9-40f5-4681-8787-5451e6f36cd8",
   "metadata": {},
   "outputs": [],
   "source": [
    "fig,ax = plt.subplots(2, 1, figsize=(5,3), sharex=True)\n",
    "ax[0].plot(t/T, ia, 'r', lw=1, label='ia')\n",
    "ax[0].plot(t/T, ib, 'g', lw=1, label='ib')\n",
    "ax[0].plot(t/T, ic, 'b', lw=1, label='ic')\n",
    "ax[1].plot(t/T, id, 'k', lw=1, label='id')\n",
    "ax[1].plot(t/T, iq, 'm', lw=1, label='iq')\n",
    "ax[1].plot(t/T, i0, 'c--', lw=1, label='i0')\n",
    "ax[1].set_xlabel('Time [T]')\n",
    "ax[0].legend(loc='best', fontsize=8)\n",
    "ax[1].legend(loc='best', fontsize=8)\n",
    "sns.despine()\n",
    "fig.tight_layout()"
   ]
  }
 ],
 "metadata": {
  "kernelspec": {
   "display_name": "Python 3 (ipykernel)",
   "language": "python",
   "name": "python3"
  },
  "language_info": {
   "codemirror_mode": {
    "name": "ipython",
    "version": 3
   },
   "file_extension": ".py",
   "mimetype": "text/x-python",
   "name": "python",
   "nbconvert_exporter": "python",
   "pygments_lexer": "ipython3",
   "version": "3.10.17"
  }
 },
 "nbformat": 4,
 "nbformat_minor": 5
}
