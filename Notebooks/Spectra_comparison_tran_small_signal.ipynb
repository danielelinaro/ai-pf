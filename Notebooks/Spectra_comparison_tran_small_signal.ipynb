{
 "cells": [
  {
   "cell_type": "code",
   "execution_count": null,
   "id": "b7f3e3a4",
   "metadata": {},
   "outputs": [],
   "source": [
    "import os\n",
    "import re\n",
    "import sys\n",
    "import h5py\n",
    "import numpy as np\n",
    "from numpy.random import RandomState, SeedSequence, MT19937\n",
    "from pathlib import Path\n",
    "\n",
    "if '..' not in sys.path:\n",
    "    sys.path = ['..'] + sys.path\n",
    "from pfcommon import OU, combine_output_spectra\n",
    "from filter_OU_inputs import run_welch\n",
    "\n",
    "FIGURES_DIR = Path('figures')"
   ]
  },
  {
   "cell_type": "code",
   "execution_count": null,
   "id": "88ceb861",
   "metadata": {},
   "outputs": [],
   "source": [
    "import seaborn as sns\n",
    "import matplotlib\n",
    "import matplotlib.pyplot as plt\n",
    "fontsize = 9\n",
    "lw = 0.75\n",
    "matplotlib.rc('font', **{'family': 'Arial', 'size': fontsize})\n",
    "matplotlib.rc('axes', **{'linewidth': 0.75, 'labelsize': fontsize})\n",
    "matplotlib.rc('xtick', **{'labelsize': fontsize})\n",
    "matplotlib.rc('ytick', **{'labelsize': fontsize})\n",
    "matplotlib.rc('xtick.major', **{'width': lw, 'size': 3})\n",
    "matplotlib.rc('ytick.major', **{'width': lw, 'size': 3})\n",
    "matplotlib.rc('ytick.minor', **{'width': lw, 'size': 1.5})"
   ]
  },
  {
   "cell_type": "code",
   "execution_count": null,
   "id": "0fbbd55f",
   "metadata": {},
   "outputs": [],
   "source": [
    "use_dBs = True\n",
    "dB = 20\n",
    "dP = 0.01\n",
    "assert dP >= 0.01\n",
    "suffix = '_{:.02f}'.format(dP)\n",
    "\n",
    "network_name = 'IEEE39_stoch'\n",
    "network_name = 'SMs_with_line_and_loads'\n",
    "network_name = 'SM_with_load'\n",
    "if network_name == 'IEEE39_stoch':\n",
    "    stoch_loads = ['Load_03']\n",
    "    stoch_load_buses = [ld.replace('Load', 'Bus') for ld in stoch_loads]\n",
    "    short_sim = True\n",
    "    load_type = 'general_load'\n",
    "elif network_name == 'SMs_with_line_and_loads':\n",
    "    stoch_loads = ['LD1']\n",
    "    stoch_load_buses = [ld.replace('LD', 'Bus') for ld in stoch_loads]\n",
    "    short_sim = False\n",
    "    load_type = 'general_load'\n",
    "elif network_name == 'SM_with_load':\n",
    "    stoch_loads = ['LD1']\n",
    "    stoch_load_buses = [ld.replace('LD', 'Bus') for ld in stoch_loads]\n",
    "    short_sim = False\n",
    "    load_type = 'dynamic_load_const_S'"
   ]
  },
  {
   "cell_type": "markdown",
   "id": "819e762a",
   "metadata": {},
   "source": [
    "The folder where data are stored:"
   ]
  },
  {
   "cell_type": "code",
   "execution_count": null,
   "id": "900b9ef3",
   "metadata": {},
   "outputs": [],
   "source": [
    "base_data_dir = Path('../data')\n",
    "data_dir = base_data_dir / network_name / load_type / '_'.join(stoch_loads)\n",
    "assert os.path.isdir(data_dir)\n",
    "tran_file = '{}_tran{}{}.npz'.format(network_name, suffix, '_short' if short_sim else '')\n",
    "assert os.path.isfile(data_dir / tran_file)"
   ]
  },
  {
   "cell_type": "markdown",
   "id": "d2e5cfbb",
   "metadata": {},
   "source": [
    "Load the data from the transient simulation performed by PowerFactory:"
   ]
  },
  {
   "cell_type": "code",
   "execution_count": null,
   "id": "04256e38",
   "metadata": {},
   "outputs": [],
   "source": [
    "tran_data = np.load(data_dir / tran_file, allow_pickle=True)\n",
    "data = tran_data['data'].item()"
   ]
  },
  {
   "cell_type": "markdown",
   "id": "66f2bd3b",
   "metadata": {},
   "source": [
    "Make sure that the generators' speeds are constant around 1 p.u. (i.e., the network is stable):"
   ]
  },
  {
   "cell_type": "code",
   "execution_count": null,
   "id": "95596213",
   "metadata": {},
   "outputs": [],
   "source": [
    "t_tran = tran_data['time']\n",
    "try:\n",
    "    gen_speed = data['gen']['s:speed']\n",
    "except:\n",
    "    gen_speed = data['gen']['s:xspeed']\n",
    "fig,ax = plt.subplots(1, 1, figsize=(5,3))\n",
    "ax.plot(t_tran, gen_speed, lw=0.75)\n",
    "ax.set_xlabel('Time [s]')\n",
    "ax.set_ylabel(r'$\\omega_{gen}$ [p.u.]')\n",
    "sns.despine()\n",
    "fig.tight_layout()"
   ]
  },
  {
   "cell_type": "markdown",
   "id": "148775ff",
   "metadata": {},
   "source": [
    "#### Loads checks\n",
    "\n",
    "Here I perform the following checks:\n",
    "1. the generated active power of the load should match the one recorded from PF.\n",
    "2. the PSD of both time series should match the theoretical one.\n",
    "\n",
    "The PSD of an OU process is given by\n",
    "$$\n",
    "\\mathrm{PSD}(f) = \\frac{(\\frac{c}{\\alpha})^2}{1 + (\\frac{2\\pi f}{\\alpha})^2},\n",
    "$$\n",
    "where $f$ is the frequency, $\\alpha=1/\\tau$, with $\\tau$ the autocorrelation time constant of the process and $c=\\sigma \\sqrt{2/\\tau}$, with $\\sigma$ the (steady-state) standard deviation of the process."
   ]
  },
  {
   "cell_type": "code",
   "execution_count": null,
   "id": "65f0a16d-9cc5-40da-8934-c2c29624b2b6",
   "metadata": {},
   "outputs": [],
   "source": [
    "assert stoch_loads == tran_data['stoch_load_names'].tolist()\n",
    "P0 = tran_data['stoch_load_P']\n",
    "Q0 = tran_data['stoch_load_Q']\n",
    "OU_seeds = tran_data['OU_seeds']\n",
    "print('{:10s} {:>6s} {:>8s} {:>8s}'.format('LOAD NAME', 'P [MW]', 'Q [MVAR]', 'SEED'))\n",
    "print('=' * 35)\n",
    "for ld,p,q,seed in zip(stoch_loads, P0, Q0, OU_seeds):\n",
    "    print('{:10s} {:6.2f} {:8.2f} {:8d}'.format(ld, p, q, seed))"
   ]
  },
  {
   "cell_type": "code",
   "execution_count": null,
   "id": "87bb73f5",
   "metadata": {},
   "outputs": [],
   "source": [
    "config = tran_data['config'].item()\n",
    "dt_tran = config['dt']\n",
    "N_samples = int(np.ceil(config['tstop'] / dt_tran)) + 1\n",
    "t_OU = np.arange(N_samples) * dt_tran\n",
    "P_OU_from_file = tran_data['OU_P']\n",
    "\n",
    "τ = config['tau']['P']        # time constant\n",
    "α = 1 / τ\n",
    "P_OU = []\n",
    "for i, (μ, seed) in enumerate(zip(P0, OU_seeds)):\n",
    "    σ = config['sigma']['P'] * μ  # standard deviation\n",
    "    c = σ * np.sqrt(2 / τ)\n",
    "    rs = RandomState(MT19937(SeedSequence(seed)))\n",
    "    ou = OU(dt_tran, μ, σ, τ, N_samples, rs)\n",
    "    assert np.allclose(ou, P_OU_from_file[:,i]), 'Data from file does not match the generated OU time series'\n",
    "    P_OU.append(ou)\n",
    "P_OU = np.array(P_OU)"
   ]
  },
  {
   "cell_type": "code",
   "execution_count": null,
   "id": "a91943a5-4667-49ea-9153-326be03bc80f",
   "metadata": {},
   "outputs": [],
   "source": [
    "U, phiu = [], []\n",
    "I, phii = [], []\n",
    "P_from_PF, Q_from_PF = [], []\n",
    "device_names = tran_data['device_names'].item()\n",
    "for ld, bus in zip(stoch_loads, stoch_load_buses):\n",
    "    bus_idx = device_names['bus'].index(bus)\n",
    "    ld_idx = device_names['load'].index(ld)\n",
    "    try:\n",
    "        U.append(data['bus']['m:U'][:, bus_idx])\n",
    "        phiu.append(np.deg2rad(data['bus']['m:phiu'][:, bus_idx]))\n",
    "        I.append(data['load']['m:I:bus1'][:, ld_idx])\n",
    "        phii.append(np.deg2rad(data['load']['m:phii:bus1'][:, ld_idx]))\n",
    "        P_from_PF.append(data['load']['m:Psum:bus1'][:, ld_idx])\n",
    "        Q_from_PF.append(data['load']['m:Qsum:bus1'][:, ld_idx])\n",
    "    except:\n",
    "        assert len(stoch_loads) == 1 and bus_idx == 0 and ld_idx == 0\n",
    "        U, phiu = data['bus']['m:U'], np.deg2rad(data['bus']['m:phiu'])\n",
    "        I, phii = data['load']['m:I:bus1'], np.deg2rad(data['load']['m:phii:bus1'])\n",
    "        P_from_PF = data['load']['m:Psum:bus1']\n",
    "        Q_from_PF = data['load']['m:Qsum:bus1']\n",
    "        break\n",
    "U, phiu = np.array(U, ndmin=2), np.array(phiu, ndmin=2)\n",
    "I, phii = np.array(I, ndmin=2), np.array(phii, ndmin=2)\n",
    "P_from_PF, Q_from_PF = np.array(P_from_PF, ndmin=2), np.array(Q_from_PF, ndmin=2)\n",
    "\n",
    "u = U * np.exp(1j * phiu)\n",
    "i = I * np.exp(1j * phii)\n",
    "S = 3 * u * i.conjugate()\n",
    "P_from_PF_2 = S.real\n",
    "Q_from_PF_2 = S.imag\n",
    "assert np.allclose(P_from_PF, P_from_PF_2) and np.allclose(Q_from_PF, Q_from_PF_2)\n",
    "Z = u / i"
   ]
  },
  {
   "cell_type": "code",
   "execution_count": null,
   "id": "a1d399a2-edc1-47a1-95c5-e9d7e962325c",
   "metadata": {},
   "outputs": [],
   "source": [
    "def plot_loads(mean, stddev, tau, t_pf, P_pf, P_pf_2, Z_abs, t_ou, P_ou, window, Fmin, Fmax, onesided, ax):\n",
    "    freq = np.logspace(Fmin, Fmax, 50*(Fmax-Fmin+1))\n",
    "    alpha = 1 / tau\n",
    "    c = stddev * np.sqrt(2 / tau)\n",
    "    PSD_theor = (c / alpha) ** 2 / (1 + (2 * np.pi * freq / alpha) ** 2)\n",
    "    freq_ou, PSD_ou, _ = run_welch(P_ou - mean, t_ou[1] - t_ou[0], window=window, onesided=onesided)\n",
    "    freq_pf, PSD_pf, _ = run_welch(P_pf - P_pf.mean(), t_pf[1] - t_pf[0], window=window, onesided=onesided)\n",
    "\n",
    "    tstop = 5\n",
    "    jdx = t_pf <= tstop\n",
    "    ax[0].plot([0, tstop], mean + np.zeros(2), 'k', lw=2, label='Pmean')\n",
    "    ax[0].plot(t_pf[jdx], P_pf[jdx], color='tab:green', lw=0.75, label='From PF')\n",
    "    ax[0].plot(t_pf[jdx], P_pf_2[jdx], '--', color='tab:red', lw=0.75, label='From PF - 2')\n",
    "    ax[1].plot(t_pf[jdx], Z_abs[jdx], 'k', lw=0.75)\n",
    "    jdx = t_ou <= tstop\n",
    "    ax[0].plot(t_ou[jdx], P_ou[jdx], color='m', lw=1, label='OU computed from seed')\n",
    "    ax[2].plot(freq_pf, PSD_pf, color='tab:green', lw=0.5, label='From PF')\n",
    "    ax[2].plot(freq_ou, PSD_ou, color='m', lw=0.5, label='From file')\n",
    "    ax[2].plot(freq, PSD_theor, 'k', lw=2, label='Theory')\n",
    "\n",
    "\n",
    "N_window = 50 if short_sim else 200\n",
    "N_loads = len(stoch_loads)\n",
    "Fmin, Fmax, onesided = -6, 2, True\n",
    "fig,ax = plt.subplots(3, N_loads, figsize=(3 * N_loads, 5.5), squeeze=False)\n",
    "for i, (μ, p_ou, p_pf, p_pf_2, z) in enumerate(zip(P0, P_OU, P_from_PF, P_from_PF_2, Z)):\n",
    "    σ = config['sigma']['P'] * μ\n",
    "    plot_loads(μ, σ, τ, t_tran, p_pf, p_pf_2, np.abs(z), t_OU, p_ou, N_window/dt_tran, Fmin, Fmax, onesided, ax[:,i])\n",
    "\n",
    "for i in range(N_loads):\n",
    "    ax[0,i].set_xlabel('Time [s]')\n",
    "    ax[1,i].set_xlabel('Time [s]')\n",
    "    ax[2,i].set_xlabel('Frequency [Hz]')\n",
    "    ax[2,i].set_xscale('log')\n",
    "    ax[2,i].set_xlim([1e-2, 10**Fmax])\n",
    "ax[0,0].set_ylabel('P [MW]')\n",
    "ax[1,0].set_ylabel('|Z| [Ω]')\n",
    "ax[2,0].set_ylabel(r'|Y(j$\\omega$)|')\n",
    "ax[0,0].legend(loc='best', frameon=True, fontsize=fontsize-2)\n",
    "sns.despine()\n",
    "fig.tight_layout(pad=0)\n",
    "outfile = 'loads_and_spectra_{}_{}_{}{}.pdf'.format(network_name, load_type, '_'.join(stoch_loads), suffix)\n",
    "print(f\"Saving to file '{outfile}'\")\n",
    "plt.savefig(FIGURES_DIR / outfile)"
   ]
  },
  {
   "cell_type": "markdown",
   "id": "15ad26b7-168e-4d18-994e-f6d01d002429",
   "metadata": {},
   "source": [
    "Compute the spectra of the data obtained from the transient simulation:"
   ]
  },
  {
   "cell_type": "code",
   "execution_count": null,
   "id": "d5bf49c4-7da4-4693-b1a5-13ac7b30090f",
   "metadata": {},
   "outputs": [],
   "source": [
    "var_group_tran = 'bus'\n",
    "if var_group_tran == 'gen':\n",
    "    if network_name == 'IEEE39_stoch':\n",
    "        device_name_tran = 'G_01'\n",
    "    elif network_name == 'SMs_with_line_and_loads':\n",
    "        device_name_tran = 'G2'\n",
    "    elif network_name == 'SM_with_load':\n",
    "        device_name_tran = 'G1'\n",
    "    var_type_tran = 's:speed'\n",
    "    # var_type_tran = 's:phi'\n",
    "elif var_group_tran == 'bus':\n",
    "    device_name_tran = stoch_load_buses[0]\n",
    "    var_type_tran = 'm:ur'\n",
    "    var_type_tran = 'm:ui'\n",
    "    var_type_tran = 'm:u'\n",
    "    var_type_tran = 'm:fe'\n",
    "elif var_group_tran == 'load':\n",
    "    device_name_tran = stoch_loads[0]\n",
    "    var_type_tran = 's:xu'\n",
    "    var_type_tran = 'm:ir:bus1'\n",
    "    # var_type_tran = 'm:ii:bus1'\n",
    "idx = device_names[var_group_tran].index(device_name_tran)\n",
    "try:\n",
    "    x_tran = data[var_group_tran][var_type_tran][:,idx]\n",
    "except:\n",
    "    assert idx == 0\n",
    "    x_tran = data[var_group_tran][var_type_tran]\n",
    "if var_type_tran == 'm:u':\n",
    "    try:\n",
    "        ur = data[var_group_tran]['m:ur'][:,idx]\n",
    "        ui = data[var_group_tran]['m:ui'][:,idx]\n",
    "    except:\n",
    "        ur = data[var_group_tran]['m:ur']\n",
    "        ui = data[var_group_tran]['m:ui']\n",
    "    x_tran_check = np.sqrt(ur**2 + ui**2)\n",
    "    assert np.allclose(x_tran, x_tran_check)\n",
    "jdx = t_tran > 100\n",
    "x_tran = x_tran[jdx]\n",
    "t_tran = t_tran[jdx]\n",
    "Δx_tran = x_tran - x_tran.mean()\n",
    "freq_tran,P_tran,abs_tran = run_welch(Δx_tran, dt_tran, window=N_window/dt_tran, onesided=onesided)\n",
    "\n",
    "if use_dBs:\n",
    "    abs_tran = dB * np.log10(abs_tran)\n",
    "    ylbl = r'|Y(j$\\omega$)| [dB{}]'.format(dB)\n",
    "else:\n",
    "    ylbl = r'|Y(j$\\omega$)|'"
   ]
  },
  {
   "cell_type": "markdown",
   "id": "94a6edf6",
   "metadata": {},
   "source": [
    "Load additional information about the transfer functions:"
   ]
  },
  {
   "cell_type": "code",
   "execution_count": null,
   "id": "757bdea2-d118-40bf-bc0e-492c7dba2521",
   "metadata": {},
   "outputs": [],
   "source": [
    "steps_per_decade = 100 if 'IEEE39' in network_name else 1000\n",
    "TF_file = '{}_TF_-6.0_2.0_{}_{:.2f}.npz'.format(network_name, steps_per_decade, dP)\n",
    "assert os.path.isfile(data_dir / TF_file)\n",
    "TF_data = np.load(data_dir / TF_file, allow_pickle=True)\n",
    "assert stoch_loads == TF_data['load_names'].tolist()\n",
    "PF = TF_data['PF'].item()\n",
    "# these are the loads for which individual TFs were computed by compute_spectra.py:\n",
    "# they are NOT necessarily all the loads that are present in the power network\n",
    "all_load_names = TF_data['load_names'].tolist()\n",
    "all_var_names = TF_data['var_names'].tolist()\n",
    "assert all([ld in all_load_names for ld in stoch_loads])"
   ]
  },
  {
   "cell_type": "markdown",
   "id": "817492c6",
   "metadata": {},
   "source": [
    "Load the data from the small-signal simulation, i.e., the variables obtained by filtering the input(s) with the appropriate transfer functions:"
   ]
  },
  {
   "cell_type": "code",
   "execution_count": null,
   "id": "ec8594bd",
   "metadata": {},
   "outputs": [],
   "source": [
    "small_signal_file = '{}_ss{}.h5'.format(network_name, suffix)\n",
    "fid = h5py.File(data_dir / small_signal_file)\n",
    "t_ss = np.array(fid['time'])\n",
    "def read_list(fid, key):\n",
    "    names = fid['parameters'][key].tolist()[0]\n",
    "    return list(map(lambda n: n.decode('utf-8'), names))\n",
    "load_names = read_list(fid, 'load_names')\n",
    "assert load_names == stoch_loads\n",
    "var_names_ss = read_list(fid, 'var_names')\n",
    "\n",
    "var_type_ss = var_type_tran.split(':')[1]\n",
    "if var_group_tran == 'bus':\n",
    "    var_group_ss = 'Term'\n",
    "elif var_group_tran == 'gen':\n",
    "    var_group_ss = 'Sym'\n",
    "elif var_group_tran == 'load':\n",
    "    var_group_ss = 'Lod'\n",
    "else:\n",
    "    raise Exception(f\"Unknown variable group '{var_group_tran}'\")\n",
    "var_name_ss = 'Grid-{}.Elm{}.{}'.format(device_name_tran, var_group_ss, var_type_ss)\n",
    "if var_name_ss not in var_names_ss:\n",
    "    var_names_ss.append(var_name_ss)\n",
    "var_name_ss = var_name_ss.replace('-', '_').replace('.', '_')\n",
    "\n",
    "try:\n",
    "    x_ss = np.array(fid[var_name_ss]).squeeze()\n",
    "    print(f\"Variable '{var_name_ss}' present in data file.\")\n",
    "except:\n",
    "    print(f\"Variable '{var_name_ss}' not directly available in data file: composing it from other variables.\")\n",
    "    if var_type_ss == 'u':\n",
    "        ur, ui = PF['buses'][device_name_tran]['ur'], PF['buses'][device_name_tran]['ui']\n",
    "        coeff_ur, coeff_ui = np.array([ur, ui]) / np.sqrt(ur**2 + ui**2)\n",
    "        x_ss = coeff_ur * np.array(fid[var_name_ss[:-1] + 'ur']).squeeze() + \\\n",
    "               coeff_ui * np.array(fid[var_name_ss[:-1] + 'ui']).squeeze()\n",
    "    else:\n",
    "        print(f\"Do not know how to compose variable '{var_name_ss}'.\")\n",
    "        if 'phi' in var_name_ss:\n",
    "            print(\"Are you sure you are not asking for the angle of the slack generator? That wouldn't make sense.\")\n",
    "fid.close()"
   ]
  },
  {
   "cell_type": "markdown",
   "id": "edb4070f-6c39-4326-bbc9-549d6188933e",
   "metadata": {},
   "source": [
    "Build the theoretical PSDs of the output variables:"
   ]
  },
  {
   "cell_type": "code",
   "execution_count": null,
   "id": "ee04c2d2",
   "metadata": {},
   "outputs": [],
   "source": [
    "F0 = 50.\n",
    "F = TF_data['F']\n",
    "var_types = [os.path.splitext(name)[1][1:] for name in var_names_ss]\n",
    "OUT_multi = combine_output_spectra(TF_data['OUT'], stoch_loads, var_names_ss, all_load_names,\n",
    "                                   all_var_names, var_types, F, PF,\n",
    "                                   TF_data['bus_equiv_terms'].item(), ref_freq=F0,\n",
    "                                   ref_SM_name=TF_data['ref_SM_name'].item())\n",
    "out = np.abs(OUT_multi)\n",
    "if use_dBs:\n",
    "    out = dB*np.log10(out)"
   ]
  },
  {
   "cell_type": "markdown",
   "id": "1ed20fba",
   "metadata": {},
   "source": [
    "Compute the spectra of the data obtained from the small signal simulation:"
   ]
  },
  {
   "cell_type": "code",
   "execution_count": null,
   "id": "db84d634",
   "metadata": {},
   "outputs": [],
   "source": [
    "dt_ss = t_ss[1] - t_ss[0]\n",
    "Δx_ss = x_ss - x_ss.mean()\n",
    "freq_ss,P_ss,abs_ss = run_welch(Δx_ss, dt_ss, window=N_window/dt_ss, onesided=onesided)\n",
    "if use_dBs:\n",
    "    abs_ss = dB * np.log10(abs_ss)"
   ]
  },
  {
   "cell_type": "code",
   "execution_count": null,
   "id": "b9181195",
   "metadata": {},
   "outputs": [],
   "source": [
    "from scipy.integrate import trapezoid\n",
    "idx = [n.replace('.','_').replace('-','_') for n in var_names_ss].index(var_name_ss)\n",
    "print('\\n===== Small signal data =====')\n",
    "print('Integral of the theoretical PSD: {:g}'.format(trapezoid(out[idx]**2 * (1 + onesided), F)))\n",
    "print('Integral of the numerical PSD: {:g}'.format(trapezoid(P_ss * (1 + onesided), freq_ss)))\n",
    "print('Variance of the signal: {:g}'.format(np.var(x_ss)))\n",
    "print('\\n===== PF transient data =====')\n",
    "print('Integral of the PSD: {:g}'.format(trapezoid(P_tran * (1 + onesided), freq_tran)))\n",
    "print('Variance of the signal: {:g}'.format(np.var(x_tran)))"
   ]
  },
  {
   "cell_type": "code",
   "execution_count": null,
   "id": "dcb06ba4-edd0-444f-a9a9-22ed4fbc33b3",
   "metadata": {},
   "outputs": [],
   "source": [
    "typ = var_name_ss.split('_')[-1]\n",
    "fig,ax = plt.subplots(2, 1, figsize=(5,5))\n",
    "\n",
    "remove_mean = True\n",
    "if remove_mean:\n",
    "    ax[0].plot(t_tran, Δx_tran, 'k', lw=0.75, label='Tran')\n",
    "    ax[0].plot(t_ss, Δx_ss, 'tab:green', lw=0.75, label='S.S.', alpha=0.75)\n",
    "    ax[0].set_ylabel(f'Δ{typ} [p.u.]')\n",
    "else:\n",
    "    twin_ax = ax[0].twinx()\n",
    "    ax[0].plot(t_tran, x_tran, 'k', lw=0.75, label='Tran')\n",
    "    twin_ax.plot(t_ss, x_ss, 'tab:green', lw=0.75, label='S.S.', alpha=0.75)\n",
    "    ax[0].set_ylabel(r'${}_t$ [p.u.]'.format(typ))\n",
    "    twin_ax.set_ylabel(r'${}_s$ [p.u.]'.format(typ))\n",
    "ax[0].set_xlabel('Time [s]')\n",
    "\n",
    "ax[1].plot(freq_tran, abs_tran, 'k', lw=0.75, label=r'Tran ($\\sigma^2$ = {:.1e})'.\\\n",
    "               format(trapezoid(P_tran * (1 + onesided), freq_tran)))\n",
    "ax[1].plot(freq_ss, abs_ss, 'tab:green', lw=0.75, label='S.S. ($\\sigma^2$ = {:.1e})'.\\\n",
    "               format(trapezoid(P_ss * (1 + onesided), freq_ss)), alpha=0.75)\n",
    "ax[1].plot(F, out[idx], 'tab:red', lw=2, label='Theory')\n",
    "loc = 'lower left' if use_dBs else 'best'\n",
    "ax[1].legend(loc=loc, frameon=False, fontsize=fontsize-1)\n",
    "ax[1].set_xscale('log')\n",
    "ax[1].set_xlabel('Frequency [Hz]')\n",
    "ax[1].set_ylabel(ylbl)\n",
    "ax[1].set_xlim([1e-3, F[-1]])\n",
    "# ax[1].set_xlim([1, 5])\n",
    "if remove_mean:\n",
    "    sns.despine()\n",
    "fig.tight_layout()\n",
    "outfile = 'spectra_comparison_tran_ss_{}_{}_{}{}_{}_{}.pdf'.format(network_name, load_type, '_'.join(stoch_loads),\n",
    "                                                                   suffix, device_name_tran.split('__')[0], typ)\n",
    "print(f\"Saving to file '{outfile}'\")\n",
    "plt.savefig(FIGURES_DIR / outfile)"
   ]
  }
 ],
 "metadata": {
  "kernelspec": {
   "display_name": "Python 3 (ipykernel)",
   "language": "python",
   "name": "python3"
  },
  "language_info": {
   "codemirror_mode": {
    "name": "ipython",
    "version": 3
   },
   "file_extension": ".py",
   "mimetype": "text/x-python",
   "name": "python",
   "nbconvert_exporter": "python",
   "pygments_lexer": "ipython3",
   "version": "3.10.17"
  }
 },
 "nbformat": 4,
 "nbformat_minor": 5
}
