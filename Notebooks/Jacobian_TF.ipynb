{
 "cells": [
  {
   "cell_type": "code",
   "execution_count": null,
   "id": "120f9edd-3018-4eb6-8a28-aea65e00ac1e",
   "metadata": {},
   "outputs": [],
   "source": [
    "import os\n",
    "import sys\n",
    "import numpy as np\n",
    "from numpy.linalg import inv\n",
    "if '..' not in sys.path:\n",
    "    sys.path = ['..'] + sys.path\n",
    "from pfcommon import parse_Jacobian_vars_file, parse_sparse_matrix_file\n",
    "from filter_OU_inputs import run_welch\n",
    "import matplotlib.pyplot as plt\n",
    "import seaborn as sns"
   ]
  },
  {
   "cell_type": "code",
   "execution_count": null,
   "id": "915b0eb1-dc84-4bed-bdda-4bb1ec193d53",
   "metadata": {},
   "outputs": [],
   "source": [
    "folder = '../data/SM_with_load/adynamic_load_const_S/LD1'\n",
    "Amat = parse_sparse_matrix_file(os.path.join(folder, 'Amat.mtl'))\n",
    "N_state_vars = Amat.shape[0]\n",
    "J = parse_sparse_matrix_file(os.path.join(folder, 'Jacobian.mtl'))\n",
    "J[-2:, :] *= -1\n",
    "N_vars = J.shape[0]\n",
    "N_algebraic_vars = N_vars - N_state_vars\n",
    "print('# of state variables: {}'.format(N_state_vars))\n",
    "print('# of algebraic variables: {}'.format(N_algebraic_vars))"
   ]
  },
  {
   "cell_type": "code",
   "execution_count": null,
   "id": "0bc6065e-89b1-44f2-814a-4c8176ff5fbd",
   "metadata": {},
   "outputs": [],
   "source": [
    "vars_idx, state_vars, voltages, currents, signals = parse_Jacobian_vars_file(os.path.join(folder, 'VariableToIdx_Jacobian.txt'))\n",
    "element_names = {'gen': 'ElmSym', 'bus': 'ElmTerm', 'load': 'ElmLod'}\n",
    "# generator speed\n",
    "device_group = 'gen'\n",
    "device_name = 'G1'\n",
    "var_name = 's:speed'\n",
    "# bus voltage\n",
    "device_group = 'bus'\n",
    "device_name = 'Bus1'\n",
    "var_name = 'm:ur'\n",
    "# load current\n",
    "device_group = 'load'\n",
    "device_name = 'LD1'\n",
    "var_name = 'm:ir:bus1'\n",
    "output_var_idx = vars_idx['Grid-{}.{}'.format(device_name, element_names[device_group])][var_name.split(':')[1]][0]"
   ]
  },
  {
   "cell_type": "code",
   "execution_count": null,
   "id": "c3e0de48-fd6b-4e57-858e-d72a021b7a93",
   "metadata": {},
   "outputs": [],
   "source": [
    "Jfx = J[:N_state_vars, :N_state_vars]\n",
    "Jfy = J[:N_state_vars, N_state_vars:]\n",
    "Jgx = J[N_state_vars:, :N_state_vars]\n",
    "Jgy = J[N_state_vars:, N_state_vars:]\n",
    "\n",
    "print('Shape of Jfx: {}'.format(Jfx.shape))\n",
    "print('Shape of Jfy: {}'.format(Jfy.shape))\n",
    "print('Shape of Jgx: {}'.format(Jgx.shape))\n",
    "print('Shape of Jgy: {}'.format(Jgy.shape))"
   ]
  },
  {
   "cell_type": "code",
   "execution_count": null,
   "id": "276df704-b1ea-4c26-b692-285a61dbf843",
   "metadata": {},
   "outputs": [],
   "source": [
    "Jgy_inv = inv(Jgy)\n",
    "A = Jfx - np.dot(np.dot(Jfy, Jgy_inv), Jgx)\n",
    "assert np.allclose(A, Amat), 'Error in the computation of the matrix A'\n",
    "B = - np.dot(Jfy, Jgy_inv)\n",
    "C = - np.dot(Jgy_inv, Jgx)\n",
    "D = - Jgy_inv\n",
    "print('Shape of A: {}'.format(A.shape))\n",
    "print('Shape of B: {}'.format(B.shape))\n",
    "print('Shape of C: {}'.format(C.shape))\n",
    "print('Shape of D: {}'.format(D.shape))"
   ]
  },
  {
   "cell_type": "code",
   "execution_count": null,
   "id": "bc6c4eeb-8ca5-47f6-a15e-686b23f8493f",
   "metadata": {},
   "outputs": [],
   "source": [
    "load_type = 'stochastic'\n",
    "tran_filename = 'SM_with_load_tran_0.01'\n",
    "if load_type == 'sinusoidal':\n",
    "    tran_filename += '_sin'\n",
    "tran_data = np.load(os.path.join(folder, tran_filename + '.npz'), allow_pickle=True)\n",
    "PF = tran_data['PF_without_slack'].item()\n",
    "t_tran = tran_data['time']\n",
    "dt_tran = t_tran[1] - t_tran[0]\n",
    "data = tran_data['data'].item()\n",
    "\n",
    "device_names = tran_data['device_names'].item()\n",
    "idx = device_names[device_group].index(device_name)\n",
    "if data[device_group][var_name].ndim == 1:\n",
    "    assert idx == 0\n",
    "    x_tran = data[device_group][var_name][t_tran > 100]\n",
    "else:\n",
    "    x_tran = data[device_group][var_name][t_tran > 100, idx]\n",
    "\n",
    "Δx_tran = (x_tran - x_tran.mean())\n",
    "freq_tran, P_tran, abs_tran = run_welch(Δx_tran, dt_tran, window=100/dt_tran, onesided=True)"
   ]
  },
  {
   "cell_type": "raw",
   "id": "b9cef8bc-ec73-427e-9b6c-db730582e2ac",
   "metadata": {},
   "source": [
    "ω_base = 2 * np.pi * 50\n",
    "S_base = 1e6\n",
    "V_base = 10e3 / np.sqrt(3)"
   ]
  },
  {
   "cell_type": "code",
   "execution_count": null,
   "id": "b7d14867-32e4-4921-a879-16e2757cd021",
   "metadata": {},
   "outputs": [],
   "source": [
    "I = np.eye(N_state_vars)\n",
    "Fmin, Fmax = -6, 2\n",
    "steps_per_decade = 100\n",
    "F = np.logspace(Fmin, Fmax, (Fmax - Fmin) * steps_per_decade + 1)\n",
    "input_loads = 'LD1',\n",
    "N_input_loads = len(input_loads)\n",
    "TF = np.zeros((F.size, N_input_loads, N_vars), dtype=complex)\n",
    "OUT = np.zeros((F.size, N_input_loads, N_vars), dtype=complex)\n",
    "\n",
    "input_rows = {ld: np.zeros(2, dtype=int) for ld in input_loads}\n",
    "coeffs = {ld: np.zeros(2, dtype=float) for ld in input_loads}\n",
    "for ld in input_loads:\n",
    "    bus_name = 'Bus1' # this must be the name of the bus ld is connected to\n",
    "    ur, ui = PF['buses'][bus_name]['ur'], PF['buses'][bus_name]['ui']\n",
    "    # den = 3 * np.abs(ur + 1j * ui) ** 2\n",
    "    den = np.abs(ur + 1j * ui) ** 2\n",
    "    for i, suffix in enumerate('ri'):\n",
    "        cols = vars_idx['Grid-{}.ElmLod'.format(ld)]['i' + suffix]\n",
    "        assert len(cols) == 1\n",
    "        col = cols[0]\n",
    "        input_rows[ld][i] = int(np.argmin(np.abs(J[:, col] - (-1))))\n",
    "        coeffs[ld][i] = PF['buses'][bus_name][f'u{suffix}'] / den\n",
    "        print(\"Variable 'i{}' of object '{}' is at column {}: equation #{}.\".\\\n",
    "            format(suffix, ld, col + 1, input_rows[ld][i] + 1))\n",
    "\n",
    "τ = 20e-3\n",
    "if load_type == 'stochastic':\n",
    "    μ = tran_data['stoch_load_P']\n",
    "elif load_type == 'sinusoidal':\n",
    "    μ = tran_data['sin_load_P']    \n",
    "dP = 0.01\n",
    "σ = np.array([m * dP for m in μ])\n",
    "α = np.array([1 / τ for _ in range(N_input_loads)])\n",
    "c = np.array([s * np.sqrt(2 / τ) for s in σ])\n",
    "for i, f in enumerate(F):\n",
    "    M = 1j * 2 * np.pi * f * I - A # sI - A\n",
    "    MINVxB = np.dot(inv(M), B)            # (sI - A)^-1 x B\n",
    "    for j, ld in enumerate(input_loads):\n",
    "        psd = np.sqrt((c[j] / α[j])**2 / (1 + (2 * np.pi * F[i] / α[j])**2))\n",
    "        v = np.zeros(N_algebraic_vars)\n",
    "        v[input_rows[ld] - N_state_vars] = 1.\n",
    "        v[input_rows[ld] - N_state_vars] *= coeffs[ld]\n",
    "        TF[i, j, :N_state_vars] = np.dot(MINVxB, v)\n",
    "        TF[i, j, N_state_vars:] = np.dot(np.dot(C, MINVxB) + D, v)\n",
    "        v[input_rows[ld] - N_state_vars] = psd\n",
    "        v[input_rows[ld] - N_state_vars] *= coeffs[ld]\n",
    "        OUT[i, j, :N_state_vars] = np.dot(MINVxB, v)\n",
    "        OUT[i, j, N_state_vars:] = np.dot(np.dot(C, MINVxB) + D, v)"
   ]
  },
  {
   "cell_type": "code",
   "execution_count": null,
   "id": "7011f961-1241-46dc-befb-e93cbd6bcab7",
   "metadata": {},
   "outputs": [],
   "source": [
    "dB = 10\n",
    "input_var_idx = 0\n",
    "if load_type == 'stochastic':\n",
    "    Y = OUT[:, input_var_idx, output_var_idx]\n",
    "elif load_type == 'sinusoidal':\n",
    "    Y = TF[:, input_var_idx, output_var_idx]\n",
    "y = dB * np.log10(np.abs(Y)) if dB in (10, 20) else np.abs(Y)\n",
    "fig,ax = plt.subplots(1, 1, figsize=(5,3))\n",
    "ax.plot(freq_tran, dB * np.log10(abs_tran) if dB in (10, 20) else abs_tran, 'k', lw=1)\n",
    "ax.plot(F, y, 'tab:red', lw=2)\n",
    "ax.set_xscale('log')\n",
    "ax.set_xlabel('Frequency [Hz]')\n",
    "ax.set_ylabel('|Y(jω)|')\n",
    "ax.set_xlim([1e-3, 10**Fmax])\n",
    "sns.despine()\n",
    "fig.tight_layout()"
   ]
  }
 ],
 "metadata": {
  "kernelspec": {
   "display_name": "Python 3 (ipykernel)",
   "language": "python",
   "name": "python3"
  },
  "language_info": {
   "codemirror_mode": {
    "name": "ipython",
    "version": 3
   },
   "file_extension": ".py",
   "mimetype": "text/x-python",
   "name": "python",
   "nbconvert_exporter": "python",
   "pygments_lexer": "ipython3",
   "version": "3.10.17"
  }
 },
 "nbformat": 4,
 "nbformat_minor": 5
}
