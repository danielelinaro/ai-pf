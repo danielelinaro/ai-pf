{
 "cells": [
  {
   "cell_type": "code",
   "execution_count": null,
   "id": "aae8fdec",
   "metadata": {},
   "outputs": [],
   "source": [
    "import os\n",
    "import re\n",
    "import sys\n",
    "import json\n",
    "import networkx as nx\n",
    "import numpy as np\n",
    "\n",
    "powerfactory_path = r'C:\\Program Files\\DIgSILENT\\PowerFactory 2024 SP1\\Python\\3.10'\n",
    "if powerfactory_path not in sys.path:\n",
    "    sys.path.append(powerfactory_path)\n",
    "import powerfactory as pf\n",
    "\n",
    "if '..' not in sys.path:\n",
    "    sys.path.append('..')\n",
    "from pfcommon import make_full_object_name, get_objects"
   ]
  },
  {
   "cell_type": "markdown",
   "id": "a23d38ab",
   "metadata": {},
   "source": [
    "Start PowerFactory and activate the project:"
   ]
  },
  {
   "cell_type": "code",
   "execution_count": null,
   "id": "2b64c72d",
   "metadata": {},
   "outputs": [],
   "source": [
    "project_name = '\\\\Terna_Inerzia\\\\V2020_Rete_Sardegna_2021_06_03cr'\n",
    "app = pf.GetApplication()\n",
    "if app is None:\n",
    "    raise Exception('Cannot get PowerFactory application')\n",
    "print('Got PowerFactory application.')\n",
    "err = app.ActivateProject(project_name)\n",
    "if err:\n",
    "    raise Exception(f'Cannot activate project {project_name}')\n",
    "print(f'Activated project \"{project_name}\".')"
   ]
  },
  {
   "cell_type": "markdown",
   "id": "bd950f42",
   "metadata": {},
   "source": [
    "Collect all (in service) sites, lines, terminals (i.e., buses), and loads of the network:"
   ]
  },
  {
   "cell_type": "code",
   "execution_count": null,
   "id": "c0307536",
   "metadata": {},
   "outputs": [],
   "source": [
    "sites = get_objects(app, 'ElmSite', sort=True, keep_out_of_service=False)\n",
    "n_sites = len(sites)\n",
    "lines = get_objects(app, 'ElmLne', sort=True, keep_out_of_service=False)\n",
    "n_lines = len(lines)\n",
    "obj_types = 'ElmTerm','ElmLod','ElmSym'\n",
    "obj_type_names = {'ElmTerm': 'terminal', 'ElmLod': 'load', 'ElmSym': 'SM'}\n",
    "OBJECTS = {typ: get_objects(app, typ, sort=True, keep_out_of_service=typ=='ElmSym') for typ in obj_types}\n",
    "\n",
    "print(f'Found {n_sites} sites.')\n",
    "print(f'Found {n_lines} lines.')\n",
    "for typ in obj_types:\n",
    "    print('Found {} {}s.'.format(len(OBJECTS[typ]), obj_type_names[typ]))"
   ]
  },
  {
   "cell_type": "markdown",
   "id": "42e4c15e",
   "metadata": {},
   "source": [
    "Here we define two classes that will be used in the following:\n",
    "1. `SiteNode` contains information about a site and will be a node in the graph.\n",
    "1. `LineSiteEdge` contains information about the line connecting two sites."
   ]
  },
  {
   "cell_type": "code",
   "execution_count": null,
   "id": "b2b2ccc6",
   "metadata": {},
   "outputs": [],
   "source": [
    "class SiteNode (object):\n",
    "    def __init__(self, site):\n",
    "        self.name = site.loc_name\n",
    "        self.full_name = make_full_object_name(site)\n",
    "        self._coords = [site.GPSlat, site.GPSlon]\n",
    "        self._lat,self._lon = self._coords\n",
    "    @property\n",
    "    def coords(self):\n",
    "        return self._coords\n",
    "    @coords.setter\n",
    "    def coords(self, c):\n",
    "        assert len(c) == 2\n",
    "        self._coords = np.squeeze(np.array(c))\n",
    "        self._lat,self._lon = self._coords\n",
    "    @property\n",
    "    def lat(self):\n",
    "        return self._lat\n",
    "    @property\n",
    "    def lon(self):\n",
    "        return self._lon\n",
    "    def __eq__(self, o):\n",
    "        if o is None:\n",
    "            return False\n",
    "        return self.full_name == o.full_name and self.lat == o.lat and self.lon == o.lon\n",
    "    def __hash__(self):\n",
    "        return hash(repr(self))\n",
    "\n",
    "class LineSiteEdge (object):\n",
    "    def __init__(self, line, sites, nodes):\n",
    "        self.name = line.loc_name\n",
    "        self.full_name = make_full_object_name(line)\n",
    "        self.coords = line.GPScoords\n",
    "        self.length = line.dline if line.HasAttribute('dline') else 1e-3\n",
    "        self.vrating = line.typ_id.uline\n",
    "        self.terminals = [line.bus1.cterm, line.bus2.cterm]\n",
    "        self.nodes = [None,None]\n",
    "        for site in sites:\n",
    "            for subst in site.GetContents():\n",
    "                for obj in subst.GetContents():\n",
    "                    try:\n",
    "                        idx = self.terminals.index(obj)\n",
    "                        self.nodes[idx] = nodes[site.loc_name]\n",
    "                    except:\n",
    "                        pass\n",
    "                    if self.nodes.count(None) == 0:\n",
    "                        break\n",
    "                else:\n",
    "                    continue\n",
    "                break\n",
    "            else:\n",
    "                continue\n",
    "            break\n",
    "        self.node1,self.node2 = self.nodes"
   ]
  },
  {
   "cell_type": "markdown",
   "id": "6d352cf9",
   "metadata": {},
   "source": [
    "This dictionary contains a mapping between site name and the objects it contains (i.e., all objects contained in every substation of the site):"
   ]
  },
  {
   "cell_type": "code",
   "execution_count": null,
   "id": "df23b05a",
   "metadata": {},
   "outputs": [],
   "source": [
    "site_contents = {site.loc_name: [obj for subst in site.GetContents() for obj in subst.GetContents()] for site in sites}"
   ]
  },
  {
   "cell_type": "markdown",
   "id": "f1969231",
   "metadata": {},
   "source": [
    "Instantiate all nodes and edges (this takes a while):"
   ]
  },
  {
   "cell_type": "code",
   "execution_count": null,
   "id": "ab066be6",
   "metadata": {},
   "outputs": [],
   "source": [
    "nodes = {site.loc_name: SiteNode(site) for site in sites}\n",
    "edges = [LineSiteEdge(line, sites, nodes) for line in lines]\n",
    "n_nodes = len(nodes)\n",
    "n_edges = len(edges)"
   ]
  },
  {
   "cell_type": "markdown",
   "id": "4ce1e307",
   "metadata": {},
   "source": [
    "Build a graph using all the nodes' and edges' information, and make sure it is connected:"
   ]
  },
  {
   "cell_type": "code",
   "execution_count": null,
   "id": "911b49d4",
   "metadata": {},
   "outputs": [],
   "source": [
    "G = nx.MultiGraph()\n",
    "for e in edges:\n",
    "    G.add_edge(e.node1, e.node2, coords=e.coords, length=e.length, vrating=e.vrating, label=e.name)\n",
    "assert n_nodes == len(G.nodes)\n",
    "assert n_edges == len(G.edges)\n",
    "assert nx.is_connected(G)\n",
    "\n",
    "print('No. of nodes: {}'.format(n_nodes))\n",
    "print('No. of edges: {}'.format(n_edges))\n",
    "if nx.is_connected(G):\n",
    "    print('The graph is connected.')\n",
    "else:\n",
    "    print('The graph is not connected. No. of connected components: {}'.format(nx.number_connected_components(G)))"
   ]
  },
  {
   "cell_type": "markdown",
   "id": "902dbdc6",
   "metadata": {},
   "source": [
    "Add GPS coordinates to those nodes that don't have them. To do that, we assign to a node either:\n",
    "1. the coordinates of one of the endpoints of a line it is connected to; or,\n",
    "1. the coordinates of the closest node (i.e., site).\n",
    "\n",
    "Notice that in the code below we perform more than one pass, since a node might have connected neighbors with GPS coordinates."
   ]
  },
  {
   "cell_type": "code",
   "execution_count": null,
   "id": "a6f675b3",
   "metadata": {},
   "outputs": [],
   "source": [
    "n_nodes_with_coords = 0\n",
    "for node in G.nodes:\n",
    "    if node.lat > 0:\n",
    "        n_nodes_with_coords += 1\n",
    "print(f'{n_nodes_with_coords}/{n_nodes} nodes have GPS coordinates.')\n",
    "while n_nodes_with_coords < n_nodes:\n",
    "    for edge in G.edges:\n",
    "        data = G.get_edge_data(*edge)\n",
    "        coords = data['coords']\n",
    "        line_name = data['label']\n",
    "        loc1,loc2 = line_name[:6],line_name[6:12]\n",
    "        node1,node2 = edge[:2] if edge[0].name==loc1 else edge[1::-1]\n",
    "        if len(coords) > 0:\n",
    "            if node1.lat == 0 or (hasattr(node1,'dst') and node1.dst > 0):\n",
    "                node1.coords = coords[0]\n",
    "                if hasattr(node1,'dst'):\n",
    "                    node1.dst = 0\n",
    "                else:\n",
    "                    n_nodes_with_coords += 1\n",
    "            elif abs(node1.lat-coords[0][0]) > 1e-1 or abs(node1.lon-coords[0][1]) > 1e-1:\n",
    "                print('{} [1]: ({:6.3f},{:6.3f}) != ({:6.3f},{:6.3f})'.\\\n",
    "                      format(node1.name, node1.lat,node1.lon,coords[0][0],coords[0][1]))\n",
    "            if node2.lat == 0 or (hasattr(node2,'dst') and node2.dst > 0):\n",
    "                node2.coords = coords[-1]\n",
    "                if hasattr(node2,'dst'):\n",
    "                    node2.dst = 0\n",
    "                else:\n",
    "                    n_nodes_with_coords += 1\n",
    "            elif abs(node2.lat-coords[-1][0]) > 1e-1 or abs(node2.lon-coords[-1][1]) > 1e-1:\n",
    "                print('{} [2]: ({:6.3f},{:6.3f}) != ({:6.3f},{:6.3f})'.\\\n",
    "                      format(node2.name,node2.lat,node2.lon,coords[-1][0],coords[-1][1]))\n",
    "        elif node1.lat != 0 and node2.lat == 0 and (not hasattr(node2,'dst') or data['length'] < node2.dst):\n",
    "            node2.coords = [node1.lat, node1.lon]\n",
    "            node2.dst = data['length']\n",
    "            n_nodes_with_coords += 1\n",
    "        elif node2.lat != 0 and node1.lat == 0 and (not hasattr(node1,'dst') or data['length'] < node1.dst):\n",
    "            node1.coords = [node2.lat, node2.lon]\n",
    "            node1.dst = data['length']\n",
    "            n_nodes_with_coords += 1\n",
    "    print(f'{n_nodes_with_coords}/{n_nodes} nodes have GPS coordinates.')"
   ]
  },
  {
   "cell_type": "markdown",
   "id": "91edac81",
   "metadata": {},
   "source": [
    "Build an `INFO` dictionary with information about sites, lines and all the objects contained in the `OBJECTS` dictionary:"
   ]
  },
  {
   "cell_type": "code",
   "execution_count": null,
   "id": "4827aec5",
   "metadata": {},
   "outputs": [],
   "source": [
    "sort_dict_keys = lambda D: {k: D[k] for k in sorted(D.keys())}\n",
    "\n",
    "def find_containing_site(obj, site_contents):\n",
    "    site_names = [k for k,v in site_contents.items() if obj in v]\n",
    "    assert len(site_names) == 1\n",
    "    return site_names[0]\n",
    "\n",
    "INFO = {\n",
    "    'ElmSite': {name: {'coords': [node.lat,node.lon]} for name,node in nodes.items()},\n",
    "    'ElmLne': {edge.name: {'coords': edge.coords, 'vrating': edge.vrating} for edge in edges}\n",
    "}\n",
    "for k,v in INFO['ElmSite'].items():\n",
    "    v['contents'] = [obj.loc_name for obj in site_contents[k]]\n",
    "for typ in obj_types:\n",
    "    INFO[typ] = {}\n",
    "    for obj in OBJECTS[typ]:\n",
    "        site_name = find_containing_site(obj, site_contents)\n",
    "        lat,lon = INFO['ElmSite'][site_name]['coords']\n",
    "        INFO[typ][obj.loc_name] = {'coords': [lat,lon]}\n",
    "        if typ == 'ElmLod':\n",
    "            INFO[typ][obj.loc_name]['P'] = obj.plini\n",
    "            INFO[typ][obj.loc_name]['Q'] = obj.qlini\n",
    "        elif typ == 'ElmSym':\n",
    "            INFO[typ][obj.loc_name]['S'] = obj.typ_id.sgn\n",
    "            INFO[typ][obj.loc_name]['H'] = obj.typ_id.h\n",
    "    INFO[typ] = sort_dict_keys(INFO[typ])\n",
    "outfile = os.path.join('..',project_name.split(os.path.sep)[-1] + '_FULL_INFO.json')\n",
    "json.dump(INFO, open(outfile,'w'), indent=4)"
   ]
  },
  {
   "cell_type": "code",
   "execution_count": null,
   "id": "f7fa2b05",
   "metadata": {},
   "outputs": [],
   "source": [
    "import matplotlib.pyplot as plt\n",
    "\n",
    "fig,ax = plt.subplots(1, 1, figsize=(4,6))\n",
    "for edge in G.edges:\n",
    "    data = G.get_edge_data(*edge)\n",
    "    coords = np.array(data['coords'])\n",
    "    lw = data['vrating'] / 100\n",
    "    if coords.shape[0] > 0:\n",
    "        x,y = coords[:,1],coords[:,0]\n",
    "    else:\n",
    "        x = [edge[0].lon, edge[1].lon]\n",
    "        y = [edge[0].lat, edge[1].lat]\n",
    "    ax.plot(x, y, 'k', lw=lw)\n",
    "    if coords.shape[0] > 0:\n",
    "        ax.plot(x[0], y[0], 'g.')\n",
    "        ax.plot(x[-1], y[-1], 'r.')\n",
    "for node in G.nodes:\n",
    "    ax.plot(node.lon, node.lat, 'ko', markerfacecolor='w', markersize=5, markeredgewidth=1.5)\n",
    "plt.axis('off')\n",
    "fig.tight_layout()"
   ]
  }
 ],
 "metadata": {
  "kernelspec": {
   "display_name": "Python 3 (ipykernel)",
   "language": "python",
   "name": "python3"
  },
  "language_info": {
   "codemirror_mode": {
    "name": "ipython",
    "version": 3
   },
   "file_extension": ".py",
   "mimetype": "text/x-python",
   "name": "python",
   "nbconvert_exporter": "python",
   "pygments_lexer": "ipython3",
   "version": "3.10.9"
  }
 },
 "nbformat": 4,
 "nbformat_minor": 5
}
