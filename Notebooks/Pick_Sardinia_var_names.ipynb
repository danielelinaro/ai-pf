{
 "cells": [
  {
   "cell_type": "markdown",
   "id": "0eef7acd",
   "metadata": {},
   "source": [
    "This notebook is used to randomly select a certain number of buses (among those that have GPS coordinates) and save the corresponding variable names to a JSON file to be used in training a CNN for momentum estimation."
   ]
  },
  {
   "cell_type": "code",
   "execution_count": null,
   "id": "4e693c34",
   "metadata": {},
   "outputs": [],
   "source": [
    "import os\n",
    "import sys\n",
    "import json\n",
    "import numpy as np\n",
    "from numpy.random import RandomState, SeedSequence, MT19937\n",
    "import pandas as pd\n",
    "import geopandas as gpd\n",
    "from shapely.geometry import Point\n",
    "from pyproj import CRS"
   ]
  },
  {
   "cell_type": "code",
   "execution_count": null,
   "id": "179dd592",
   "metadata": {},
   "outputs": [],
   "source": [
    "import matplotlib\n",
    "import matplotlib.pyplot as plt\n",
    "from matplotlib_scalebar.scalebar import ScaleBar\n",
    "fontsize = 9\n",
    "lw = 0.75\n",
    "matplotlib.rc('font', **{'family': 'Arial', 'size': fontsize})\n",
    "matplotlib.rc('axes', **{'linewidth': 0.75, 'labelsize': fontsize})\n",
    "matplotlib.rc('xtick', **{'labelsize': fontsize})\n",
    "matplotlib.rc('ytick', **{'labelsize': fontsize})\n",
    "matplotlib.rc('xtick.major', **{'width': lw, 'size':3})\n",
    "matplotlib.rc('ytick.major', **{'width': lw, 'size':3})\n",
    "matplotlib.rc('ytick.minor', **{'width': lw, 'size':1.5})"
   ]
  },
  {
   "cell_type": "markdown",
   "id": "d31cac9e",
   "metadata": {},
   "source": [
    "#### The coordinate reference systems"
   ]
  },
  {
   "cell_type": "code",
   "execution_count": null,
   "id": "0d694c5b",
   "metadata": {},
   "outputs": [],
   "source": [
    "# 3035: Lambert azimuthal equal area\n",
    "# 3857: spherical Mercator projection\n",
    "# 4326: world geodetic system 1984\n",
    "source_coord_ref = 4326\n",
    "coord_ref = 3857"
   ]
  },
  {
   "cell_type": "markdown",
   "id": "5f6f6f6c",
   "metadata": {},
   "source": [
    "Load the coordinates of the terminals and convert them to the reference system:"
   ]
  },
  {
   "cell_type": "code",
   "execution_count": null,
   "id": "72422aa2",
   "metadata": {},
   "outputs": [],
   "source": [
    "coords_file = os.path.join('..','V2020_Rete_Sardegna_2021_06_03cr_terminals_coords.json')\n",
    "coords = json.load(open(coords_file))\n",
    "terminal_names_with_coords = list(coords.keys())\n",
    "XY = np.array(list(coords.values()))\n",
    "# remove the terminals in Corse\n",
    "idx, = np.where(XY[:,0] != np.max(XY[:,0]))\n",
    "terminal_names_with_coords = [terminal_names_with_coords[i] for i in idx]\n",
    "terminal_coords = [Point(long,lat) for lat,long in zip(XY[idx,0],XY[idx,1])]\n",
    "terminal_gdf = gpd.GeoDataFrame(data={'name': terminal_names_with_coords, 'geometry': terminal_coords})\n",
    "terminal_gdf.crs = CRS.from_user_input(source_coord_ref)\n",
    "terminal_gdf = terminal_gdf.to_crs(epsg=coord_ref)"
   ]
  },
  {
   "cell_type": "raw",
   "id": "6f3e9104",
   "metadata": {},
   "source": [
    "coords_file = os.path.join('..','V2020_Rete_Sardegna_2021_06_03cr_coords.json')\n",
    "coords = json.load(open(coords_file))\n",
    "terminal_names_with_coords = []\n",
    "XY = []\n",
    "for name,data in coords['Term'].items():\n",
    "    xy = [data['lat'],data['lon']]\n",
    "    if xy not in XY:\n",
    "        XY.append(xy)\n",
    "        terminal_names_with_coords.append(name)\n",
    "XY = np.array(XY)\n",
    "idx, = np.where(XY[:,0] != np.max(XY[:,0]))\n",
    "terminal_names_with_coords = [terminal_names_with_coords[i] for i in idx]\n",
    "terminal_coords = [Point(long,lat) for lat,long in zip(XY[idx,0],XY[idx,1])]\n",
    "terminal_gdf = gpd.GeoDataFrame(data={'name': terminal_names_with_coords, 'geometry': terminal_coords})\n",
    "terminal_gdf.crs = CRS.from_user_input(source_coord_ref)\n",
    "terminal_gdf = terminal_gdf.to_crs(epsg=coord_ref)"
   ]
  },
  {
   "cell_type": "markdown",
   "id": "c6be21eb",
   "metadata": {},
   "source": [
    "Load the coordinates of the sychronous machines and convert them to the reference system:"
   ]
  },
  {
   "cell_type": "code",
   "execution_count": null,
   "id": "91459268",
   "metadata": {},
   "outputs": [],
   "source": [
    "coords_file = os.path.join('..','V2020_Rete_Sardegna_2021_06_03cr_coords.json')\n",
    "coords = json.load(open(coords_file))\n",
    "SM_names_with_coords = []\n",
    "XY = []\n",
    "for name,data in coords['Sym'].items():\n",
    "    xy = [data['lat'],data['lon']]\n",
    "    if xy not in XY:\n",
    "        XY.append(xy)\n",
    "        SM_names_with_coords.append(name)\n",
    "XY = np.array(XY)\n",
    "idx, = np.where(XY[:,0] != np.max(XY[:,0]))\n",
    "SM_names_with_coords = [terminal_names_with_coords[i] for i in idx]\n",
    "SM_coords = [Point(long,lat) for lat,long in zip(XY[idx,0],XY[idx,1])]\n",
    "# SM_coords = [Point(lon,lat) for lat,lon in zip(XY[:,0],XY[:,1])]\n",
    "SM_gdf = gpd.GeoDataFrame(data={'name': SM_names_with_coords, 'geometry': SM_coords})\n",
    "SM_gdf.crs = CRS.from_user_input(source_coord_ref)\n",
    "SM_gdf = SM_gdf.to_crs(epsg=coord_ref)"
   ]
  },
  {
   "cell_type": "markdown",
   "id": "51f743b3",
   "metadata": {},
   "source": [
    "Pick `N_buses` terminals that have coordinates:"
   ]
  },
  {
   "cell_type": "code",
   "execution_count": null,
   "id": "b9527a8c",
   "metadata": {},
   "outputs": [],
   "source": [
    "seed = 41920\n",
    "if seed is None:\n",
    "    with open('/dev/urandom', 'rb') as fid:\n",
    "        seed = int.from_bytes(fid.read(4), 'little') % 100000\n",
    "rs = RandomState(MT19937(SeedSequence(seed)))\n",
    "\n",
    "N_buses = 20\n",
    "data_dir = os.path.join('..','data','Sardinia','SM_configs_from_data','001')\n",
    "fname = 'V2020_Rete_Sardegna_2021_06_03cr_AC.npz'\n",
    "TF_fname = 'V2020_Rete_Sardegna_2021_06_03cr_AC_TF_-6.0_2.0_100.npz'\n",
    "data = np.load(os.path.join(data_dir,fname), allow_pickle=True)\n",
    "TF_data = np.load(os.path.join(data_dir,TF_fname), allow_pickle=True)\n",
    "TF = TF_data['TF']\n",
    "TF_var_names = TF_data['var_names']\n",
    "vars_idx = data['vars_idx'].item()\n",
    "all_var_names = list(vars_idx.keys())\n",
    "\n",
    "extract_terminal_name = lambda name: name.split('-')[-1].split('.')[0]\n",
    "\n",
    "var_names = []\n",
    "terminals_idx = []\n",
    "terminal_names = []\n",
    "fun = lambda var_name,terminal_name: \\\n",
    "    terminal_name in var_name and \\\n",
    "    'ElmTerm' in var_name and \\\n",
    "    '__BUS__' in var_name\n",
    "for i in rs.permutation(len(terminal_names_with_coords)):\n",
    "    terminal_name = terminal_names_with_coords[i]\n",
    "    if terminal_name in terminal_names:\n",
    "        print(f'{terminal_name} already in terminal names')\n",
    "        continue\n",
    "    full_terminal_names = list(filter(lambda item: fun(item,terminal_name), all_var_names))\n",
    "    if len(full_terminal_names) == 1:\n",
    "        var_name = full_terminal_names[0] + '.ur'\n",
    "        idx, = np.where(TF_var_names == var_name)\n",
    "        if len(idx) == 1:\n",
    "            if np.std(10*np.log10(np.abs(TF[0,:,idx[0]]))) > 1e-3:\n",
    "                terminals_idx.append(i)\n",
    "                var_names.append(var_name)\n",
    "    if len(var_names) == N_buses:\n",
    "        break\n",
    "    terminal_names.append(terminal_name)\n",
    "\n",
    "slack = 'CODCTI0201'\n",
    "bus_names = [n for n in all_var_names if 'ElmTerm' in n and '__BUS__' in n and slack in n]\n",
    "for name in bus_names:\n",
    "    var_names.append(name + '.ur')\n",
    "    terminal_name = name.split('-')[-1].split('.')[0]\n",
    "    try:\n",
    "        terminals_idx.append(terminal_names.index(terminal_name))\n",
    "    except:\n",
    "        print('Terminal {} does not have GPS coordinates.'.format(terminal_name))\n",
    "gen_names = [n for n in all_var_names if 'ElmSym' in n and '__GEN__' in n and slack in n]\n",
    "for name in gen_names:\n",
    "    var_names.append(name + '.speed')\n",
    "\n",
    "outfile = os.path.join('..','config','Sardinia',f'var_names_{seed}.json')\n",
    "json.dump({'var_names': var_names}, open(outfile,'w'), indent=4)\n",
    "print(f'Saved variable names to file {outfile}.')"
   ]
  },
  {
   "cell_type": "markdown",
   "id": "5c06d90d",
   "metadata": {},
   "source": [
    "### Map of Sardinia\n",
    "\n",
    "First define the bounding box:"
   ]
  },
  {
   "cell_type": "code",
   "execution_count": null,
   "id": "65616a85",
   "metadata": {},
   "outputs": [],
   "source": [
    "limits = {'WS': Point(8, 38.75), 'EN': Point(10, 41)}\n",
    "bbox = gpd.GeoDataFrame(data=limits.values(),\n",
    "                        index=pd.Index(data=limits.keys(), name='name'),\n",
    "                        columns=['geometry'])\n",
    "bbox.crs = CRS.from_user_input(source_coord_ref)\n",
    "bbox = bbox.to_crs(epsg=coord_ref)"
   ]
  },
  {
   "cell_type": "markdown",
   "id": "71d245c6",
   "metadata": {},
   "source": [
    "Then load the geo data of Europe and keep only those coordinates that fall within the bounding box:"
   ]
  },
  {
   "cell_type": "code",
   "execution_count": null,
   "id": "330397df",
   "metadata": {},
   "outputs": [],
   "source": [
    "scale = 1 # 1 : 1,000,000\n",
    "year = 2021\n",
    "europe_folder = f'geography/ref-nuts-{year}-{scale:02d}m'\n",
    "N_levels = 4\n",
    "map_types = 'BN', #'LB' # BN: boundary, LB: label, RG: region\n",
    "europe = {map_type: {} for map_type in map_types}\n",
    "for level in range(N_levels):\n",
    "    for map_type in map_types:\n",
    "        if map_type == 'LB':\n",
    "            europe_file = f'{europe_folder}/NUTS_{map_type}_{year}_{coord_ref}_LEVL_{level}.json'\n",
    "        else:\n",
    "            europe_file = f'{europe_folder}/NUTS_{map_type}_{scale:02d}M_{year}_{coord_ref}_LEVL_{level}.json'\n",
    "        tmp = gpd.read_file(europe_file)\n",
    "        tmp.crs = CRS.from_user_input(coord_ref)\n",
    "        europe[map_type][level] = tmp.cx[bbox.loc['WS','geometry'].x : bbox.loc['EN','geometry'].x,\n",
    "                                         bbox.loc['WS','geometry'].y : bbox.loc['EN','geometry'].y]"
   ]
  },
  {
   "cell_type": "code",
   "execution_count": null,
   "id": "1a159d1a",
   "metadata": {},
   "outputs": [],
   "source": [
    "ms = 8\n",
    "width,height = 3.5,2.75\n",
    "fig,ax = plt.subplots(1, 1, figsize=(width, height))\n",
    "light_gray = .8 + np.zeros(3)\n",
    "dark_gray = .2 + np.zeros(3)\n",
    "europe['BN'][0].plot(ax=ax, lw=1.25, color=dark_gray)\n",
    "europe['BN'][3].plot(ax=ax, lw=0.5, color=light_gray)\n",
    "# terminal_gdf.plot(marker='o', ax=ax, markersize=ms, color=light_gray-0.3, label='Terminal')\n",
    "terminal_gdf.iloc[terminals_idx,:].plot(marker='o', ax=ax, markersize=ms*2, color='tab:red',\n",
    "                                        label='Selected terminal')\n",
    "SM_gdf.plot(marker='s', ax=ax, markersize=ms*2, color='k', facecolor='k',\n",
    "            lw=1.5, label='Synch. generator')\n",
    "ax.legend(loc='lower left', bbox_to_anchor=(-0.85, 0.5, 0.5, 0.3), fontsize=8, frameon=False)\n",
    "ax.axis('off')\n",
    "ax.add_artist(ScaleBar(dx=1, fixed_value=50, fixed_units='km', location='lower right'))\n",
    "fig.tight_layout()\n",
    "plt.savefig(f'Sardinia_geo_with_selected_terminals_{seed}.pdf')"
   ]
  }
 ],
 "metadata": {
  "kernelspec": {
   "display_name": "Python 3 (ipykernel)",
   "language": "python",
   "name": "python3"
  },
  "language_info": {
   "codemirror_mode": {
    "name": "ipython",
    "version": 3
   },
   "file_extension": ".py",
   "mimetype": "text/x-python",
   "name": "python",
   "nbconvert_exporter": "python",
   "pygments_lexer": "ipython3",
   "version": "3.10.14"
  }
 },
 "nbformat": 4,
 "nbformat_minor": 5
}
