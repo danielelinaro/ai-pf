{
 "cells": [
  {
   "cell_type": "markdown",
   "id": "0eef7acd",
   "metadata": {},
   "source": [
    "This notebook is used to randomly select a certain number of buses (among those that have GPS coordinates) and save the corresponding variable names to a JSON file to be used in training a CNN for momentum estimation."
   ]
  },
  {
   "cell_type": "code",
   "execution_count": null,
   "id": "4e693c34",
   "metadata": {},
   "outputs": [],
   "source": [
    "import os\n",
    "import sys\n",
    "import json\n",
    "import numpy as np\n",
    "from numpy.random import RandomState, SeedSequence, MT19937\n",
    "from sklearn.cluster import KMeans\n",
    "import pandas as pd\n",
    "import geopandas as gpd\n",
    "from shapely.geometry import Point\n",
    "from pyproj import CRS"
   ]
  },
  {
   "cell_type": "code",
   "execution_count": null,
   "id": "179dd592",
   "metadata": {},
   "outputs": [],
   "source": [
    "import matplotlib\n",
    "import matplotlib.pyplot as plt\n",
    "from matplotlib_scalebar.scalebar import ScaleBar\n",
    "import seaborn as sns\n",
    "fontsize = 9\n",
    "lw = 0.75\n",
    "matplotlib.rc('font', **{'family': 'Arial', 'size': fontsize})\n",
    "matplotlib.rc('axes', **{'linewidth': 0.75, 'labelsize': fontsize})\n",
    "matplotlib.rc('xtick', **{'labelsize': fontsize})\n",
    "matplotlib.rc('ytick', **{'labelsize': fontsize})\n",
    "matplotlib.rc('xtick.major', **{'width': lw, 'size':3})\n",
    "matplotlib.rc('ytick.major', **{'width': lw, 'size':3})\n",
    "matplotlib.rc('ytick.minor', **{'width': lw, 'size':1.5})"
   ]
  },
  {
   "cell_type": "markdown",
   "id": "d31cac9e",
   "metadata": {},
   "source": [
    "#### The coordinate reference systems"
   ]
  },
  {
   "cell_type": "code",
   "execution_count": null,
   "id": "0d694c5b",
   "metadata": {},
   "outputs": [],
   "source": [
    "# 3035: Lambert azimuthal equal area\n",
    "# 3857: spherical Mercator projection\n",
    "# 4326: world geodetic system 1984\n",
    "source_coord_ref = 4326\n",
    "coord_ref = 3857"
   ]
  },
  {
   "cell_type": "markdown",
   "id": "efd456da",
   "metadata": {},
   "source": [
    "Load the file containing all coordinates:"
   ]
  },
  {
   "cell_type": "code",
   "execution_count": null,
   "id": "8f0906be",
   "metadata": {},
   "outputs": [],
   "source": [
    "info_file = os.path.join('..','V2020_Rete_Sardegna_2021_06_03cr_FULL_INFO.json')\n",
    "info = json.load(open(info_file))"
   ]
  },
  {
   "cell_type": "markdown",
   "id": "5f6f6f6c",
   "metadata": {},
   "source": [
    "Make dataframes for sites, synchronous machines and terminals:"
   ]
  },
  {
   "cell_type": "code",
   "execution_count": null,
   "id": "882cab12",
   "metadata": {},
   "outputs": [],
   "source": [
    "def make_df(info, obj_type, source_coord_ref, dst_coord_ref, remove_max=True):\n",
    "    names = list(info[obj_type].keys())\n",
    "    XY = np.array([v['coords'] for v in info[obj_type].values()])\n",
    "    if remove_max:\n",
    "        # remove the terminals in Corse\n",
    "        idx, = np.where(XY[:,0] != np.max(XY[:,0]))\n",
    "    else:\n",
    "        idx = np.arange(len(names))\n",
    "    names = [names[i] for i in idx]\n",
    "    coords = [Point(long,lat) for lat,long in zip(XY[idx,0],XY[idx,1])]\n",
    "    gdf = gpd.GeoDataFrame(data={'name': names, 'geometry': coords})\n",
    "    gdf.crs = CRS.from_user_input(source_coord_ref)\n",
    "    return gdf.to_crs(epsg=dst_coord_ref), XY[idx]\n",
    "\n",
    "site_gdf,site_XY = make_df(info, 'ElmSite', source_coord_ref, coord_ref, remove_max=True)\n",
    "SM_gdf,SM_XY = make_df(info, 'ElmSym', source_coord_ref, coord_ref, remove_max=True)\n",
    "terminal_gdf,terminal_XY = make_df(info, 'ElmTerm', source_coord_ref, coord_ref, remove_max=True)\n",
    "site_gdf.head()"
   ]
  },
  {
   "cell_type": "markdown",
   "id": "76131de3",
   "metadata": {},
   "source": [
    "### Cluster the sites\n",
    "\n",
    "First of all, remove duplicate coordinates and perform K-Means clustering with a variable number of clusters to choose how many we shall use:"
   ]
  },
  {
   "cell_type": "code",
   "execution_count": null,
   "id": "def86e8e",
   "metadata": {},
   "outputs": [],
   "source": [
    "kmeans_seed = 1000\n",
    "XY,XY_index = np.unique(site_XY, return_index=True, axis=0)\n",
    "max_N_clusters = 30\n",
    "N_clusters = np.arange(max_N_clusters) + 1\n",
    "inertia = np.zeros_like(N_clusters)\n",
    "for i,nc in enumerate(N_clusters):\n",
    "    km = KMeans(n_clusters=nc, random_state=kmeans_seed).fit(XY)\n",
    "    inertia[i] = km.inertia_"
   ]
  },
  {
   "cell_type": "code",
   "execution_count": null,
   "id": "fa4fc7b7",
   "metadata": {},
   "outputs": [],
   "source": [
    "fig,ax = plt.subplots(1, 1, figsize=(4,2.5))\n",
    "ax.plot(N_clusters, inertia, 'k', lw=1.5)\n",
    "ax.set_yscale('log')\n",
    "ax.set_xlabel('# of clusters')\n",
    "ax.set_ylabel('Inertia')\n",
    "sns.despine()\n",
    "fig.tight_layout()"
   ]
  },
  {
   "cell_type": "markdown",
   "id": "ac946d95",
   "metadata": {},
   "source": [
    "10-15 clusters look like a reasonable value. Perform the actual clustering and find the site closest to the center of each cluster:"
   ]
  },
  {
   "cell_type": "code",
   "execution_count": null,
   "id": "fc05a42b",
   "metadata": {},
   "outputs": [],
   "source": [
    "N_clusters = 15\n",
    "km = KMeans(n_clusters=N_clusters, random_state=kmeans_seed).fit(XY)\n",
    "site_idx = []\n",
    "for i in range(N_clusters):\n",
    "    idx, = np.where(km.labels_ == i)\n",
    "    jdx = np.argmin(np.sqrt(np.sum((XY[idx] - km.cluster_centers_[i])**2, axis=1)))\n",
    "    site_idx.append(idx[jdx])\n",
    "selected_sites = np.sort(XY_index[site_idx])"
   ]
  },
  {
   "cell_type": "markdown",
   "id": "85193903",
   "metadata": {},
   "source": [
    "Plot the results of the clustering with each cluster's center and selected site shown with a black dot and red cross, respectively:"
   ]
  },
  {
   "cell_type": "code",
   "execution_count": null,
   "id": "9a4cc075",
   "metadata": {},
   "outputs": [],
   "source": [
    "fig,ax = plt.subplots(1, 1,  figsize=(3,4.5))\n",
    "cmap = plt.get_cmap('Paired')\n",
    "for i in range(N_clusters):\n",
    "    idx, = np.where(km.labels_ == i)\n",
    "    ax.plot(XY[idx,1], XY[idx,0], '.', color=cmap(i), ms=4)\n",
    "    ax.plot(XY[site_idx[i],1], XY[site_idx[i],0], 'x', color='tab:red', ms=7, lw=1)\n",
    "ax.plot(km.cluster_centers_[:,1], km.cluster_centers_[:,0], 'ko',\n",
    "        markerfacecolor='w', markeredgewidth=1.5, ms=5)\n",
    "ax.axis('equal')\n",
    "ax.axis('off')\n",
    "fig.tight_layout()"
   ]
  },
  {
   "cell_type": "markdown",
   "id": "51f743b3",
   "metadata": {},
   "source": [
    "Pick `N_buses` terminals that have coordinates:"
   ]
  },
  {
   "cell_type": "raw",
   "id": "ecac2997",
   "metadata": {},
   "source": [
    "seed = 41920\n",
    "if seed is None:\n",
    "    with open('/dev/urandom', 'rb') as fid:\n",
    "        seed = int.from_bytes(fid.read(4), 'little') % 100000\n",
    "rs = RandomState(MT19937(SeedSequence(seed)))\n",
    "\n",
    "N_buses = 20\n",
    "data_dir = os.path.join('..','data','Sardinia','SM_configs_from_data','001')\n",
    "fname = 'V2020_Rete_Sardegna_2021_06_03cr_AC.npz'\n",
    "TF_fname = 'V2020_Rete_Sardegna_2021_06_03cr_AC_TF_-6.0_2.0_100.npz'\n",
    "data = np.load(os.path.join(data_dir,fname), allow_pickle=True)\n",
    "TF_data = np.load(os.path.join(data_dir,TF_fname), allow_pickle=True)\n",
    "TF = TF_data['TF']\n",
    "TF_var_names = TF_data['var_names']\n",
    "vars_idx = data['vars_idx'].item()\n",
    "all_var_names = list(vars_idx.keys())\n",
    "\n",
    "extract_terminal_name = lambda name: name.split('-')[-1].split('.')[0]\n",
    "\n",
    "var_names = []\n",
    "terminals_idx = []\n",
    "terminal_names = []\n",
    "fun = lambda var_name,terminal_name: \\\n",
    "    terminal_name in var_name and \\\n",
    "    'ElmTerm' in var_name and \\\n",
    "    '__BUS__' in var_name\n",
    "for i in rs.permutation(len(terminal_names_with_coords)):\n",
    "    terminal_name = terminal_names_with_coords[i]\n",
    "    if terminal_name in terminal_names:\n",
    "        print(f'{terminal_name} already in terminal names')\n",
    "        continue\n",
    "    full_terminal_names = list(filter(lambda item: fun(item,terminal_name), all_var_names))\n",
    "    if len(full_terminal_names) == 1:\n",
    "        var_name = full_terminal_names[0] + '.ur'\n",
    "        idx, = np.where(TF_var_names == var_name)\n",
    "        if len(idx) == 1:\n",
    "            if np.std(10*np.log10(np.abs(TF[0,:,idx[0]]))) > 1e-3:\n",
    "                terminals_idx.append(i)\n",
    "                var_names.append(var_name)\n",
    "    if len(var_names) == N_buses:\n",
    "        break\n",
    "    terminal_names.append(terminal_name)\n",
    "\n",
    "slack = 'CODCTI0201'\n",
    "bus_names = [n for n in all_var_names if 'ElmTerm' in n and '__BUS__' in n and slack in n]\n",
    "for name in bus_names:\n",
    "    var_names.append(name + '.ur')\n",
    "    terminal_name = name.split('-')[-1].split('.')[0]\n",
    "    try:\n",
    "        terminals_idx.append(terminal_names.index(terminal_name))\n",
    "    except:\n",
    "        print('Terminal {} does not have GPS coordinates.'.format(terminal_name))\n",
    "gen_names = [n for n in all_var_names if 'ElmSym' in n and '__GEN__' in n and slack in n]\n",
    "for name in gen_names:\n",
    "    var_names.append(name + '.speed')\n",
    "\n",
    "outfile = os.path.join('..','config','Sardinia',f'var_names_{seed}.json')\n",
    "json.dump({'var_names': var_names}, open(outfile,'w'), indent=4)\n",
    "print(f'Saved variable names to file {outfile}.')"
   ]
  },
  {
   "cell_type": "markdown",
   "id": "5c06d90d",
   "metadata": {},
   "source": [
    "### Map of Sardinia\n",
    "\n",
    "First define the bounding box:"
   ]
  },
  {
   "cell_type": "code",
   "execution_count": null,
   "id": "65616a85",
   "metadata": {},
   "outputs": [],
   "source": [
    "limits = {'WS': Point(8, 38.75), 'EN': Point(10, 41)}\n",
    "bbox = gpd.GeoDataFrame(data=limits.values(),\n",
    "                        index=pd.Index(data=limits.keys(), name='name'),\n",
    "                        columns=['geometry'])\n",
    "bbox.crs = CRS.from_user_input(source_coord_ref)\n",
    "bbox = bbox.to_crs(epsg=coord_ref)"
   ]
  },
  {
   "cell_type": "markdown",
   "id": "71d245c6",
   "metadata": {},
   "source": [
    "Then load the geo data of Europe and keep only those coordinates that fall within the bounding box:"
   ]
  },
  {
   "cell_type": "code",
   "execution_count": null,
   "id": "330397df",
   "metadata": {},
   "outputs": [],
   "source": [
    "scale = 1 # 1 : 1,000,000\n",
    "year = 2021\n",
    "europe_folder = f'geography/ref-nuts-{year}-{scale:02d}m'\n",
    "N_levels = 4\n",
    "map_types = 'BN', #'LB' # BN: boundary, LB: label, RG: region\n",
    "europe = {map_type: {} for map_type in map_types}\n",
    "for level in range(N_levels):\n",
    "    for map_type in map_types:\n",
    "        if map_type == 'LB':\n",
    "            europe_file = f'{europe_folder}/NUTS_{map_type}_{year}_{coord_ref}_LEVL_{level}.json'\n",
    "        else:\n",
    "            europe_file = f'{europe_folder}/NUTS_{map_type}_{scale:02d}M_{year}_{coord_ref}_LEVL_{level}.json'\n",
    "        tmp = gpd.read_file(europe_file)\n",
    "        tmp.crs = CRS.from_user_input(coord_ref)\n",
    "        europe[map_type][level] = tmp.cx[bbox.loc['WS','geometry'].x : bbox.loc['EN','geometry'].x,\n",
    "                                         bbox.loc['WS','geometry'].y : bbox.loc['EN','geometry'].y]"
   ]
  },
  {
   "cell_type": "code",
   "execution_count": null,
   "id": "1a159d1a",
   "metadata": {},
   "outputs": [],
   "source": [
    "ms = 8\n",
    "width,height = 3.5,2.75\n",
    "fig,ax = plt.subplots(1, 1, figsize=(width, height))\n",
    "light_gray = .8 + np.zeros(3)\n",
    "dark_gray = .2 + np.zeros(3)\n",
    "europe['BN'][0].plot(ax=ax, lw=1, color=dark_gray)\n",
    "europe['BN'][3].plot(ax=ax, lw=0.5, color=light_gray)\n",
    "site_gdf.iloc[selected_sites,:].plot(marker='o', ax=ax, markersize=ms,\n",
    "                                     color=[1,0,.5], label='Selected site')\n",
    "site_gdf.plot(marker='o', ax=ax, markersize=ms/10, color=[.2,.2,.2], label='Site')\n",
    "# terminal_gdf.plot(marker='o', ax=ax, markersize=ms/4, color=light_gray-0.3, label='Terminal')\n",
    "# terminal_gdf.iloc[terminals_idx,:].plot(marker='o', ax=ax, markersize=ms*2, color='tab:red',\n",
    "#                                         label='Selected terminal')\n",
    "# SM_gdf.plot(marker='s', ax=ax, markersize=ms, color='k', facecolor='k',\n",
    "#             lw=1, label='Synch. generator')\n",
    "ax.legend(loc='lower left', bbox_to_anchor=(-0.85, 0.5, 0.5, 0.3), fontsize=8, frameon=False)\n",
    "ax.axis('off')\n",
    "ax.add_artist(ScaleBar(dx=1, fixed_value=50, fixed_units='km', location='lower right'))\n",
    "fig.tight_layout()\n",
    "# plt.savefig(f'Sardinia_geo_with_selected_terminals_{seed}.pdf')"
   ]
  }
 ],
 "metadata": {
  "kernelspec": {
   "display_name": "Python 3 (ipykernel)",
   "language": "python",
   "name": "python3"
  },
  "language_info": {
   "codemirror_mode": {
    "name": "ipython",
    "version": 3
   },
   "file_extension": ".py",
   "mimetype": "text/x-python",
   "name": "python",
   "nbconvert_exporter": "python",
   "pygments_lexer": "ipython3",
   "version": "3.10.14"
  }
 },
 "nbformat": 4,
 "nbformat_minor": 5
}
