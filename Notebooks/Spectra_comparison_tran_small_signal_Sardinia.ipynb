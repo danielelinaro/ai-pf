{
 "cells": [
  {
   "cell_type": "code",
   "execution_count": null,
   "id": "b7f3e3a4",
   "metadata": {},
   "outputs": [],
   "source": [
    "import os\n",
    "import re\n",
    "import sys\n",
    "import h5py\n",
    "import numpy as np\n",
    "from numpy.random import RandomState, SeedSequence, MT19937\n",
    "from pathlib import Path\n",
    "\n",
    "if '..' not in sys.path:\n",
    "    sys.path = ['..'] + sys.path\n",
    "from pfcommon import OU, combine_output_spectra\n",
    "from filter_OU_inputs import run_welch"
   ]
  },
  {
   "cell_type": "code",
   "execution_count": null,
   "id": "88ceb861",
   "metadata": {},
   "outputs": [],
   "source": [
    "import seaborn as sns\n",
    "import matplotlib\n",
    "import matplotlib.pyplot as plt\n",
    "fontsize = 9\n",
    "lw = 0.75\n",
    "matplotlib.rc('font', **{'family': 'Arial', 'size': fontsize})\n",
    "matplotlib.rc('axes', **{'linewidth': 0.75, 'labelsize': fontsize})\n",
    "matplotlib.rc('xtick', **{'labelsize': fontsize})\n",
    "matplotlib.rc('ytick', **{'labelsize': fontsize})\n",
    "matplotlib.rc('xtick.major', **{'width': lw, 'size': 3})\n",
    "matplotlib.rc('ytick.major', **{'width': lw, 'size': 3})\n",
    "matplotlib.rc('ytick.minor', **{'width': lw, 'size': 1.5})"
   ]
  },
  {
   "cell_type": "code",
   "execution_count": null,
   "id": "0fbbd55f",
   "metadata": {},
   "outputs": [],
   "source": [
    "use_dBs = False\n",
    "dB = 10\n",
    "dP = 0.01\n",
    "n_loads = 1\n",
    "assert dP >= 0.01\n",
    "suffix = '_{:.02f}_{}_load{}'.format(dP, n_loads, 's' if n_loads > 1 else '')\n",
    "print(suffix)"
   ]
  },
  {
   "cell_type": "markdown",
   "id": "819e762a",
   "metadata": {},
   "source": [
    "The folder where data are stored:"
   ]
  },
  {
   "cell_type": "code",
   "execution_count": null,
   "id": "900b9ef3",
   "metadata": {},
   "outputs": [],
   "source": [
    "base_data_dir = Path('../data')\n",
    "data_dir = base_data_dir / 'Sardinia' / 'SM_configs_from_data' / 'default'"
   ]
  },
  {
   "cell_type": "markdown",
   "id": "d2e5cfbb",
   "metadata": {},
   "source": [
    "Load the data from the transient simulation performed by PowerFactory:"
   ]
  },
  {
   "cell_type": "code",
   "execution_count": null,
   "id": "04256e38",
   "metadata": {},
   "outputs": [],
   "source": [
    "tran_file = f'V2020_Rete_Sardegna_2021_06_03cr_stoch_tran{suffix}.npz'\n",
    "tran_data = np.load(data_dir / tran_file, allow_pickle=True)\n",
    "data = tran_data['data'].item()"
   ]
  },
  {
   "cell_type": "markdown",
   "id": "66f2bd3b",
   "metadata": {},
   "source": [
    "Make sure that the generators' speeds are constant around 1 p.u. (i.e., the network is stable):"
   ]
  },
  {
   "cell_type": "code",
   "execution_count": null,
   "id": "95596213",
   "metadata": {},
   "outputs": [],
   "source": [
    "t_tran = tran_data['time']\n",
    "gen_speed = data['gen']['s:xspeed']\n",
    "fig,ax = plt.subplots(1, 1, figsize=(5,3))\n",
    "ax.plot(t_tran, gen_speed, lw=0.75)\n",
    "ax.set_xlabel('Time [s]')\n",
    "ax.set_ylabel(r'$\\omega_{gen}$ [p.u.]')\n",
    "sns.despine()\n",
    "fig.tight_layout()"
   ]
  },
  {
   "cell_type": "markdown",
   "id": "148775ff",
   "metadata": {},
   "source": [
    "#### Loads checks\n",
    "\n",
    "Here I perform the following checks:\n",
    "1. the generated active power of the load should match the one recorded from PF.\n",
    "2. the PSD of both time series should match the theoretical one.\n",
    "\n",
    "The PSD of an OU process is given by\n",
    "$$\n",
    "\\mathrm{PSD}(f) = \\frac{(\\frac{c}{\\alpha})^2}{1 + (\\frac{2\\pi f}{\\alpha})^2},\n",
    "$$\n",
    "where $f$ is the frequency, $\\alpha=1/\\tau$, with $\\tau$ the autocorrelation time constant of the process and $c=\\sigma \\sqrt{2/\\tau}$, with $\\sigma$ the (steady-state) standard deviation of the process."
   ]
  },
  {
   "cell_type": "code",
   "execution_count": null,
   "id": "23b4d432",
   "metadata": {},
   "outputs": [],
   "source": [
    "stoch_loads = tran_data['stoch_load_names'].tolist()\n",
    "OU_seeds = {ld: seed for ld, seed in zip(stoch_loads, tran_data['OU_seeds'])}\n",
    "P0 = {ld: tran_data['OU_P'][0,i] for i,ld in enumerate(stoch_loads)}\n",
    "load_name = 'EqX_MIMC_I2201TR1_____LOAD____'\n",
    "# load_name = 'EqX_MIMC_I2201TR2_____LOAD____'\n",
    "# load_name = 'EqX_ALIC_I1501TR1_____LOAD____'\n",
    "# load_name = 'EqX_ALIC_I1501TR2_____LOAD____'\n",
    "# load_name = 'EqX_CA4CDI1501TRV_____LOAD____'\n",
    "assert load_name in stoch_loads, f\"Load '{load_name}' is not among the stochastic ones.\""
   ]
  },
  {
   "cell_type": "code",
   "execution_count": null,
   "id": "87bb73f5",
   "metadata": {},
   "outputs": [],
   "source": [
    "config = tran_data['config'].item()\n",
    "dt_tran = config['dt']\n",
    "μ = P0[load_name]             # mean\n",
    "σ = config['sigma']['P'] * μ  # standard deviation\n",
    "τ = config['tau']['P']        # time constant\n",
    "c = σ * np.sqrt(2 / τ)\n",
    "α = 1 / τ\n",
    "rs = RandomState(MT19937(SeedSequence(OU_seeds[load_name])))\n",
    "N_samples = int(np.ceil(config['tstop'] / dt_tran)) + 1\n",
    "t_OU = np.arange(N_samples) * dt_tran\n",
    "P_OU = OU(dt_tran, μ, σ, τ, N_samples, rs)\n",
    "\n",
    "idx = stoch_loads.index(load_name)\n",
    "P_OU_from_file = tran_data['OU_P'][:, idx]\n",
    "assert np.allclose(P_OU, P_OU_from_file), 'Data from file does not match the generated OU time series'"
   ]
  },
  {
   "cell_type": "code",
   "execution_count": null,
   "id": "f4408245",
   "metadata": {},
   "outputs": [],
   "source": [
    "device_names = tran_data['device_names'].item()\n",
    "if data['load']['m:Psum:bus1'].ndim == 1:\n",
    "    P_from_PF = data['load']['m:Psum:bus1']\n",
    "else:\n",
    "    idx = device_names['load'].index(load_name)\n",
    "    P_from_PF = data['load']['m:Psum:bus1'][:,idx]"
   ]
  },
  {
   "cell_type": "code",
   "execution_count": null,
   "id": "eb0de05f",
   "metadata": {},
   "outputs": [],
   "source": [
    "Fmin, Fmax = -6, 2\n",
    "one_sided = True\n",
    "freq = np.logspace(Fmin, Fmax, 50*(Fmax-Fmin+1))\n",
    "PSD_theor = (c / α) ** 2 / (1 + (2 * np.pi * freq / α) ** 2)\n",
    "freq_OU,PSD_OU,abs_OU = run_welch(P_OU - μ, dt_tran, window=50/dt_tran, onesided=one_sided)\n",
    "freq_from_PF,PSD_from_PF,abs_from_PF = run_welch(P_from_PF - μ, dt_tran, window=50/dt_tran, onesided=one_sided)"
   ]
  },
  {
   "cell_type": "code",
   "execution_count": null,
   "id": "0a0f9fb6",
   "metadata": {},
   "outputs": [],
   "source": [
    "green = [.2,.8,.2]\n",
    "magenta = [.8,.2,.8]\n",
    "fig,ax = plt.subplots(2, 1, figsize=(5,5))\n",
    "tstop = 1\n",
    "idx = t_tran <= tstop\n",
    "ax[0].plot(t_tran[idx], P_from_PF[idx], color=green, lw=1, label='From PF')\n",
    "idx = t_OU <= tstop\n",
    "ax[0].plot(t_OU[idx], P_OU[idx], color=magenta, lw=1, label='OU computed from seed')\n",
    "ax[0].legend(loc='best', frameon=False, fontsize=fontsize)\n",
    "ax[0].set_xlabel('Time [s]')\n",
    "ax[0].set_ylabel('P [MW]')\n",
    "ax[1].plot(freq_from_PF, PSD_from_PF, color=green, lw=0.5, label='From PF')\n",
    "ax[1].plot(freq_OU, PSD_OU, color=magenta, lw=0.5, label='From file')\n",
    "ax[1].plot(freq, PSD_theor, 'k', lw=2, label='Theory')\n",
    "ax[1].set_xscale('log')\n",
    "ax[1].set_xlabel('Frequency [Hz]')\n",
    "ax[1].set_ylabel(r'|Y(j$\\omega$)|')\n",
    "ax[1].set_xlim([1e-2, 10**Fmax])\n",
    "sns.despine()\n",
    "fig.tight_layout()"
   ]
  },
  {
   "cell_type": "markdown",
   "id": "15ad26b7-168e-4d18-994e-f6d01d002429",
   "metadata": {},
   "source": [
    "Compute the spectra of the data obtained from the transient simulation:"
   ]
  },
  {
   "cell_type": "code",
   "execution_count": null,
   "id": "d5bf49c4-7da4-4693-b1a5-13ac7b30090f",
   "metadata": {},
   "outputs": [],
   "source": [
    "var_group_tran = 'bus'\n",
    "if var_group_tran == 'gen':\n",
    "    device_name_tran = 'ASSCPI0151GGR1____GEN_____'\n",
    "    var_type_tran = 's:xspeed'\n",
    "elif var_group_tran == 'bus':\n",
    "    device_name_tran = 'NARCDI1501A5______BUS_____'\n",
    "    # device_name_tran = 'BDNC_I1501A2______BUS_____'\n",
    "    # device_name_tran = 'CODCTI3801B1______BUS_____'\n",
    "    # device_name_tran = 'CODCTI0201A1______BUS_____'\n",
    "    var_type_tran = 'm:ur'\n",
    "    var_type_tran = 'm:ui'\n",
    "    var_type_tran = 'm:u'\n",
    "idx = device_names[var_group_tran].index(device_name_tran)\n",
    "x_tran = data[var_group_tran][var_type_tran][:,idx]\n",
    "if var_type_tran == 'm:u':\n",
    "    ur = data[var_group_tran]['m:ur'][:,idx]\n",
    "    ui = data[var_group_tran]['m:ui'][:,idx]\n",
    "    x_tran_check = np.sqrt(ur**2 + ui**2)\n",
    "    assert np.allclose(x_tran, x_tran_check)\n",
    "jdx = t_tran > 100\n",
    "x_tran = x_tran[jdx]\n",
    "t_tran = t_tran[jdx]\n",
    "Δx_tran = x_tran - x_tran.mean()\n",
    "freq_tran,P_tran,abs_tran = run_welch(Δx_tran, dt_tran, window=50/dt_tran, onesided=one_sided)\n",
    "\n",
    "if use_dBs:\n",
    "    abs_tran = dB * np.log10(abs_tran)\n",
    "    ylbl = r'|Y(j$\\omega$)| [dB{}]'.format(dB)\n",
    "else:\n",
    "    ylbl = r'|Y(j$\\omega$)|'"
   ]
  },
  {
   "cell_type": "markdown",
   "id": "94a6edf6",
   "metadata": {},
   "source": [
    "Load additional information about the transfer functions:"
   ]
  },
  {
   "cell_type": "code",
   "execution_count": null,
   "id": "757bdea2-d118-40bf-bc0e-492c7dba2521",
   "metadata": {},
   "outputs": [],
   "source": [
    "steps_per_decade = 50\n",
    "TF_file = 'V2020_Rete_Sardegna_2021_06_03cr_AC_TF_-6.0_2.0_{}_{:.2f}.npz'.format(steps_per_decade, dP)\n",
    "TF_data = np.load(data_dir / TF_file, allow_pickle=True)\n",
    "PF = TF_data['PF'].item()"
   ]
  },
  {
   "cell_type": "markdown",
   "id": "817492c6",
   "metadata": {},
   "source": [
    "Load the data from the small-signal simulation, i.e., the variables obtained by filtering the input(s) with the appropriate transfer functions:"
   ]
  },
  {
   "cell_type": "code",
   "execution_count": null,
   "id": "ec8594bd",
   "metadata": {},
   "outputs": [],
   "source": [
    "small_signal_file = 'V2020_Rete_Sardegna_2021_06_03cr_stoch_TF{}.h5'.format(suffix)\n",
    "fid = h5py.File(data_dir / small_signal_file)\n",
    "t_ss = np.array(fid['time'])\n",
    "def read_list(fid, key):\n",
    "    names = fid['parameters'][key].tolist()[0]\n",
    "    return list(map(lambda n: n.decode('utf-8'), names))\n",
    "load_names = read_list(fid, 'load_names')\n",
    "var_names_ss = read_list(fid, 'var_names')\n",
    "var_names_ss += ['Grid-NARCDI-NARCDI1501________SUBNET__-NARCDI1501A5______BUS_____.ElmTerm.U',\n",
    "                 'Grid-BDNC_I-BDNC_I1501________SUBNET__-BDNC_I1501A2______BUS_____.ElmTerm.U',\n",
    "                 'Grid-CODCTI-CODCTI3801________SUBNET__-CODCTI3801B1______BUS_____.ElmTerm.U',\n",
    "                 'Grid-CODCTI-CODCTI0201________SUBNET__-CODCTI0201A1______BUS_____.ElmTerm.U']\n",
    "N_vars = len(var_names_ss)\n",
    "\n",
    "if var_type_tran == 's:xspeed':\n",
    "    var_type_ss = 'speed'\n",
    "elif var_type_tran in ('m:ur', 'm:ui'):\n",
    "    var_type_ss = var_type_tran[2:]\n",
    "elif var_type_tran == 'm:u':\n",
    "    var_type_ss = 'U'\n",
    "else:\n",
    "    raise Exception(\"Unknown variable type '{var_type_tran}'\")\n",
    "if var_group_tran == 'bus':\n",
    "    var_group_ss = 'Term'\n",
    "elif var_group_tran == 'gen':\n",
    "    var_group_ss = 'Sym'\n",
    "else:\n",
    "    raise Exception(\"Unknown variable group '{var_group_tran}'\")\n",
    "var_name_ss = 'Grid_{}_{}________SUBNET___{}_Elm{}_{}'.\\\n",
    "    format(device_name_tran[:6], device_name_tran[:10], device_name_tran, var_group_ss, var_type_ss)\n",
    "print(var_name_ss)\n",
    "\n",
    "if var_type_ss != 'U':\n",
    "    x_ss = np.array(fid[var_name_ss]).squeeze()\n",
    "else:\n",
    "    ur, ui = PF['buses'][device_name_tran]['ur'], PF['buses'][device_name_tran]['ui']\n",
    "    coeff_ur, coeff_ui = np.array([ur, ui]) / np.sqrt(ur**2 + ui**2)\n",
    "    x_ss = coeff_ur * np.array(fid[var_name_ss[:-1] + 'ur']).squeeze() + \\\n",
    "           coeff_ui * np.array(fid[var_name_ss[:-1] + 'ui']).squeeze()\n",
    "fid.close()"
   ]
  },
  {
   "cell_type": "markdown",
   "id": "edb4070f-6c39-4326-bbc9-549d6188933e",
   "metadata": {},
   "source": [
    "Build the theoretical PSDs of the output variables:"
   ]
  },
  {
   "cell_type": "code",
   "execution_count": null,
   "id": "ee04c2d2",
   "metadata": {},
   "outputs": [],
   "source": [
    "all_var_names = TF_data['var_names'].tolist()\n",
    "all_load_names = TF_data['load_names'].tolist()\n",
    "F0 = 50.\n",
    "var_types = []\n",
    "F = TF_data['F']\n",
    "for i in range(N_vars):\n",
    "    _,typ = os.path.splitext(var_names_ss[i])\n",
    "    if typ == '.ur':\n",
    "        var_types.append('m:ur')\n",
    "    elif typ == '.ui':\n",
    "        var_types.append('m:ui')\n",
    "    elif typ == '.U':\n",
    "        var_types.append('U')\n",
    "    elif typ == '.speed':\n",
    "        var_types.append('s:xspeed')\n",
    "    elif typ == '.fe':\n",
    "        var_types.append('m:fe')\n",
    "    else:\n",
    "        raise Exception(f\"Unknown variable type '{typ[1:]}'\")\n",
    "OUT_multi = combine_output_spectra(TF_data['OUT'], load_names, var_names_ss, all_load_names,\n",
    "                                   all_var_names, var_types, F, PF,\n",
    "                                   TF_data['bus_equiv_terms'].item(), ref_freq=F0)\n",
    "out = np.abs(OUT_multi)\n",
    "if use_dBs:\n",
    "    out = dB*np.log10(out)"
   ]
  },
  {
   "cell_type": "markdown",
   "id": "1ed20fba",
   "metadata": {},
   "source": [
    "Compute the spectra of the data obtained from the small signal simulation:"
   ]
  },
  {
   "cell_type": "code",
   "execution_count": null,
   "id": "db84d634",
   "metadata": {},
   "outputs": [],
   "source": [
    "dt_ss = t_ss[1] - t_ss[0]\n",
    "Δx_ss = x_ss - x_ss.mean()\n",
    "freq_ss,P_ss,abs_ss = run_welch(Δx_ss, dt_ss, window=100/dt_ss, onesided=one_sided)\n",
    "if use_dBs:\n",
    "    abs_ss = dB * np.log10(abs_ss)"
   ]
  },
  {
   "cell_type": "code",
   "execution_count": null,
   "id": "b9181195",
   "metadata": {},
   "outputs": [],
   "source": [
    "from scipy.integrate import trapezoid\n",
    "idx = [n.replace('.','_').replace('-','_') for n in var_names_ss].index(var_name_ss)\n",
    "print('\\n===== Small signal data =====')\n",
    "print('Integral of the theoretical PSD: {:g}'.format(trapezoid(out[idx]**2 * (1 + one_sided), F)))\n",
    "print('Integral of the numerical PSD: {:g}'.format(trapezoid(P_ss * (1 + one_sided), freq_ss)))\n",
    "print('Variance of the signal: {:g}'.format(np.var(x_ss)))\n",
    "print('\\n===== PF transient data =====')\n",
    "print('Integral of the PSD: {:g}'.format(trapezoid(P_tran * (1 + one_sided), freq_tran)))\n",
    "print('Variance of the signal: {:g}'.format(np.var(x_tran)))"
   ]
  },
  {
   "cell_type": "code",
   "execution_count": null,
   "id": "21b606c4",
   "metadata": {},
   "outputs": [],
   "source": [
    "typ = var_name_ss.split('_')[-1]\n",
    "fig,ax = plt.subplots(2, 1, figsize=(5,5))\n",
    "\n",
    "remove_mean = True\n",
    "if remove_mean:\n",
    "    ax[0].plot(t_tran, Δx_tran, 'k', lw=0.75, label='Tran')\n",
    "    ax[0].plot(t_ss, Δx_ss, 'tab:green', lw=0.75, label='S.S.', alpha=0.75)\n",
    "    ax[0].set_ylabel(f'Δ{typ} [p.u.]')\n",
    "else:\n",
    "    twin_ax = ax[0].twinx()\n",
    "    ax[0].plot(t_tran, x_tran, 'k', lw=0.75, label='Tran')\n",
    "    twin_ax.plot(t_ss, x_ss, 'tab:green', lw=0.75, label='S.S.', alpha=0.75)\n",
    "    ax[0].set_ylabel(r'${}_t$ [p.u.]'.format(typ))\n",
    "    twin_ax.set_ylabel(r'${}_s$ [p.u.]'.format(typ))\n",
    "ax[0].set_xlabel('Time [s]')\n",
    "\n",
    "ax[1].plot(freq_tran, abs_tran, 'k', lw=0.75, label=r'Tran ($\\sigma^2$ = {:.1e})'.\\\n",
    "               format(trapezoid(P_tran * (1 + one_sided), freq_tran)))\n",
    "ax[1].plot(freq_ss, abs_ss, 'tab:green', lw=0.75, label='S.S. ($\\sigma^2$ = {:.1e})'.\\\n",
    "               format(trapezoid(P_ss * (1 + one_sided), freq_ss)), alpha=0.75)\n",
    "ax[1].plot(F, out[idx], 'tab:red', lw=2, label='Theory')\n",
    "loc = 'lower left' if use_dBs else 'best'\n",
    "ax[1].legend(loc=loc, frameon=False, fontsize=fontsize-1)\n",
    "ax[1].set_xscale('log')\n",
    "ax[1].set_xlabel('Frequency [Hz]')\n",
    "ax[1].set_ylabel(ylbl)\n",
    "ax[1].set_xlim([1e-3, F[-1]])\n",
    "if remove_mean:\n",
    "    sns.despine()\n",
    "fig.tight_layout()\n",
    "outfile = 'spectra_comparison_tran_ss_Sardinia{}_{}_{}.pdf'.format(suffix, device_name_tran.split('__')[0], typ)\n",
    "print(outfile)\n",
    "plt.savefig(outfile)"
   ]
  }
 ],
 "metadata": {
  "kernelspec": {
   "display_name": "Python 3 (ipykernel)",
   "language": "python",
   "name": "python3"
  },
  "language_info": {
   "codemirror_mode": {
    "name": "ipython",
    "version": 3
   },
   "file_extension": ".py",
   "mimetype": "text/x-python",
   "name": "python",
   "nbconvert_exporter": "python",
   "pygments_lexer": "ipython3",
   "version": "3.10.17"
  }
 },
 "nbformat": 4,
 "nbformat_minor": 5
}
