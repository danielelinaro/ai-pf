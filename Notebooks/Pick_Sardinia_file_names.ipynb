{
 "cells": [
  {
   "cell_type": "markdown",
   "id": "51d2b5da",
   "metadata": {},
   "source": [
    "This notebook is used to randomly select a certain number of configurations in order to span uniformly the available values of momentum."
   ]
  },
  {
   "cell_type": "code",
   "execution_count": null,
   "id": "a3e04d49",
   "metadata": {},
   "outputs": [],
   "source": [
    "import os\n",
    "import sys\n",
    "import json\n",
    "import numpy as np\n",
    "from numpy.random import RandomState, SeedSequence, MT19937\n",
    "import pandas as pd\n",
    "from statsmodels.nonparametric.bandwidths import bw_scott, bw_silverman\n",
    "\n",
    "if '../../inertia-terna' not in sys.path:\n",
    "    sys.path = ['../../inertia-terna'] + sys.path\n",
    "from utils import cluster_data,plot_clustered_data"
   ]
  },
  {
   "cell_type": "code",
   "execution_count": null,
   "id": "4de7f097",
   "metadata": {},
   "outputs": [],
   "source": [
    "import matplotlib\n",
    "import matplotlib.pyplot as plt\n",
    "from matplotlib_scalebar.scalebar import ScaleBar\n",
    "import seaborn as sns\n",
    "\n",
    "fontsize = 9\n",
    "lw = 0.75\n",
    "matplotlib.rc('font', **{'family': 'Times', 'size': fontsize})\n",
    "matplotlib.rc('axes', **{'linewidth': 0.75, 'labelsize': fontsize})\n",
    "matplotlib.rc('xtick', **{'labelsize': fontsize})\n",
    "matplotlib.rc('ytick', **{'labelsize': fontsize})\n",
    "matplotlib.rc('xtick.major', **{'width': lw, 'size':3})\n",
    "matplotlib.rc('ytick.major', **{'width': lw, 'size':3})\n",
    "matplotlib.rc('ytick.minor', **{'width': lw, 'size':1.5})"
   ]
  },
  {
   "cell_type": "code",
   "execution_count": null,
   "id": "adcae447",
   "metadata": {},
   "outputs": [],
   "source": [
    "data = np.load('../HEM.npz', allow_pickle=True)\n",
    "H,E,M = data['H'],data['E'],data['M']\n",
    "dirs = np.arange(H.size) + 1\n",
    "idx = H > 0\n",
    "H,E,M = H[idx],E[idx],M[idx]\n",
    "dirs = dirs[idx]"
   ]
  },
  {
   "cell_type": "code",
   "execution_count": null,
   "id": "64640208",
   "metadata": {},
   "outputs": [],
   "source": [
    "base_data_folder = '/dati2tb/daniele/Research/ai-pf/data/Sardinia/SM_configs_from_data'"
   ]
  },
  {
   "cell_type": "markdown",
   "id": "1cd9b947",
   "metadata": {},
   "source": [
    "Select which measure to use:"
   ]
  },
  {
   "cell_type": "code",
   "execution_count": null,
   "id": "ca7f6b1f",
   "metadata": {},
   "outputs": [],
   "source": [
    "measure = 'momentum'\n",
    "if measure == 'inertia':\n",
    "    Y = H\n",
    "    units = 's'\n",
    "elif measure == 'energy':\n",
    "    Y = E\n",
    "    units = r'GW$\\cdot$s'\n",
    "elif measure == 'momentum':\n",
    "    Y = M\n",
    "    units = r'GW$\\cdot$s$^2$'\n",
    "else:\n",
    "    raise Exception(f\"Unknown measure '{measure}'\")"
   ]
  },
  {
   "cell_type": "markdown",
   "id": "80c6e92d",
   "metadata": {},
   "source": [
    "Cluster the data using Kernel Density Estimation:"
   ]
  },
  {
   "cell_type": "code",
   "execution_count": null,
   "id": "c920d164",
   "metadata": {},
   "outputs": [],
   "source": [
    "bw = bw_silverman(Y)\n",
    "y,scores,breaks,edges,N,IDX = cluster_data(Y, bandwidth=bw/3)\n",
    "print(f'Subdivided data into {N.size} clusters.')"
   ]
  },
  {
   "cell_type": "markdown",
   "id": "2055c11d",
   "metadata": {},
   "source": [
    "How many files per cluster to pick:"
   ]
  },
  {
   "cell_type": "code",
   "execution_count": null,
   "id": "b72e9ab6",
   "metadata": {},
   "outputs": [],
   "source": [
    "MIN_N_FILES_PER_BIN = 3\n",
    "N_files_per_bin = np.ceil(N/15).astype(int)\n",
    "N_files_per_bin[N_files_per_bin < MIN_N_FILES_PER_BIN] = MIN_N_FILES_PER_BIN\n",
    "total_N_files = N_files_per_bin.sum()\n",
    "print(f'Total number of files: {total_N_files}')"
   ]
  },
  {
   "cell_type": "markdown",
   "id": "6556ddf0",
   "metadata": {},
   "source": [
    "Pick `N_files_per_bin` files from each cluster in a uniform way:"
   ]
  },
  {
   "cell_type": "code",
   "execution_count": null,
   "id": "cc65a674",
   "metadata": {},
   "outputs": [],
   "source": [
    "JDX_UNIFORM = []\n",
    "for i,idx in enumerate(IDX):\n",
    "    jdx = np.argsort(Y[idx])\n",
    "    JDX_UNIFORM.append(idx[jdx[::jdx.size//N_files_per_bin[i]]][:N_files_per_bin[i]])\n",
    "JDX_UNIFORM = np.sort(np.concatenate(JDX_UNIFORM))"
   ]
  },
  {
   "cell_type": "code",
   "execution_count": null,
   "id": "af8bc501",
   "metadata": {},
   "outputs": [],
   "source": [
    "data_dirs = [os.path.join(base_data_folder, f\"{dirs[j]:03d}\") for j in JDX_UNIFORM]\n",
    "outfile = os.path.join('..','config','Sardinia','data_dirs_uniform.json')\n",
    "json.dump({'data_dirs': data_dirs}, open(outfile,'w'), indent=4)\n",
    "print(f'Saved variable names to file {outfile}.')"
   ]
  },
  {
   "cell_type": "code",
   "execution_count": null,
   "id": "e0e689c1",
   "metadata": {},
   "outputs": [],
   "source": [
    "'\"' + '\" \"'.join(map(lambda s: f'{s:03d}', dirs[JDX_UNIFORM])) + '\"'"
   ]
  },
  {
   "cell_type": "markdown",
   "id": "222dfd40",
   "metadata": {},
   "source": [
    "Pick `N_files_per_bin` files from each cluster randomly:"
   ]
  },
  {
   "cell_type": "code",
   "execution_count": null,
   "id": "07d49967",
   "metadata": {},
   "outputs": [],
   "source": [
    "seed = 73409\n",
    "if seed is None:\n",
    "    with open('/dev/urandom', 'rb') as fid:\n",
    "        seed = int.from_bytes(fid.read(4), 'little') % 100000\n",
    "rs = RandomState(MT19937(SeedSequence(seed)))\n",
    "print(f'Seed = {seed}.')\n",
    "\n",
    "JDX_RANDOM = []\n",
    "for i,n in enumerate(N_files_per_bin):\n",
    "    JDX_RANDOM.append(IDX[i][rs.permutation(IDX[i].size)][:n])\n",
    "JDX_RANDOM = np.sort(np.concatenate(JDX_RANDOM))"
   ]
  },
  {
   "cell_type": "code",
   "execution_count": null,
   "id": "75c2f2a3",
   "metadata": {},
   "outputs": [],
   "source": [
    "data_dirs = [os.path.join(base_data_folder, f\"{dirs[j]:03d}\") for j in JDX_RANDOM]\n",
    "outfile = os.path.join('..','config','Sardinia',f'data_dirs_{seed}.json')\n",
    "json.dump({'data_dirs': data_dirs}, open(outfile,'w'), indent=4)\n",
    "print(f'Saved variable names to file {outfile}.')"
   ]
  },
  {
   "cell_type": "code",
   "execution_count": null,
   "id": "cc60308a",
   "metadata": {},
   "outputs": [],
   "source": [
    "'\"' + '\" \"'.join(map(lambda s: f'{s:03d}', dirs[JDX_RANDOM])) + '\"'"
   ]
  },
  {
   "cell_type": "markdown",
   "id": "2023500b",
   "metadata": {},
   "source": [
    "Pick `N_low_high` files from the clusters with lower and higher measure values:"
   ]
  },
  {
   "cell_type": "code",
   "execution_count": null,
   "id": "f38f335a",
   "metadata": {},
   "outputs": [],
   "source": [
    "N_low_high = MIN_N_FILES_PER_BIN\n",
    "JDX_LOW_HIGH = []\n",
    "for idx in [IDX[0],IDX[-1]]:\n",
    "    jdx = np.argsort(Y[idx])\n",
    "    JDX_LOW_HIGH.append(idx[jdx[::jdx.size//N_low_high]][:N_low_high])\n",
    "JDX_LOW_HIGH = np.sort(np.concatenate(JDX_LOW_HIGH))\n",
    "data_dirs = [os.path.join(base_data_folder, f\"{dirs[j]:03d}\") for j in JDX_LOW_HIGH]\n",
    "outfile = os.path.join('..','config','Sardinia','data_dirs_low_high.json')\n",
    "json.dump({'data_dirs': data_dirs}, open(outfile,'w'), indent=4)\n",
    "print(f'Saved variable names to file {outfile}.')"
   ]
  },
  {
   "cell_type": "markdown",
   "id": "c1dbba05",
   "metadata": {},
   "source": [
    "#### Summary plot"
   ]
  },
  {
   "cell_type": "code",
   "execution_count": null,
   "id": "76d3c947",
   "metadata": {},
   "outputs": [],
   "source": [
    "ymin,ymax = 0, (dirs.size//50+1)*50\n",
    "fig,ax = plt.subplots(1, 1, figsize=(3.5,2))\n",
    "ax.vlines(edges, ymin, ymax, color=.8+np.zeros(3), ls=':', lw=0.5)\n",
    "ax.plot(Y, dirs, 'o', color=.7+np.zeros(3), markersize=2)\n",
    "ax.plot(Y[JDX_LOW_HIGH], dirs[JDX_LOW_HIGH], 's', color='tab:red', markerfacecolor='w',\n",
    "        markeredgewidth=1.25, markersize=6)\n",
    "ax.plot(Y[JDX_UNIFORM], dirs[JDX_UNIFORM], 's', color='k', markerfacecolor='w',\n",
    "        markeredgewidth=1.25, markersize=3)\n",
    "ax.set_xlabel('{} [{}]'.format(measure.capitalize(), units))\n",
    "ax.set_ylabel('Configuration #')\n",
    "ticks = np.r_[0.25 : 0.61 : 0.05]\n",
    "ax.set_xlim(ticks[[0,-1]]+np.array([-0.01,0.01]))\n",
    "ax.set_xticks(ticks)\n",
    "sns.despine()\n",
    "fig.tight_layout()\n",
    "plt.savefig(f'M_configurations.pdf')"
   ]
  },
  {
   "cell_type": "code",
   "execution_count": null,
   "id": "8d36396c",
   "metadata": {},
   "outputs": [],
   "source": [
    "df = pd.read_parquet(os.path.join('..', 'configuration_IDs.parquet'))\n",
    "N_samples = df['Configuration_ID'].size\n",
    "N_IDs = data['H'].size\n",
    "jdx = df.columns.get_loc('Configuration_ID')\n",
    "for key in data.files:\n",
    "    df[key] = np.zeros(N_samples)\n",
    "    for i in range(N_IDs):\n",
    "        idx = df.loc[:,'Configuration_ID'] == i\n",
    "        df.loc[idx,key] = data[key][i]\n",
    "idx = df.loc[:,'H'] == -1\n",
    "df.loc[idx,['H','E','M']] = np.nan"
   ]
  },
  {
   "cell_type": "code",
   "execution_count": null,
   "id": "32c68c6e",
   "metadata": {},
   "outputs": [],
   "source": [
    "fig,ax = plt.subplots(1, 1, figsize=(3.5,2.25))\n",
    "twin_ax = ax.twinx()\n",
    "red = 'tab:red'\n",
    "df.plot(y='M', color='k', lw=0.75, ax=ax, legend=False)\n",
    "df.plot(y='H', color=red, lw=0.75, ax=twin_ax, legend=False, alpha=0.75)\n",
    "\n",
    "ylim,dy = np.array([0.28, 0.58]), 0.1\n",
    "offset = np.diff(ylim)*0.1\n",
    "ax.set_ylim(ylim + offset*np.array([-1,1]))\n",
    "ax.set_yticks(np.r_[ylim[0] : ylim[1]+dy/2 : dy])\n",
    "\n",
    "ylim,dy = np.array([4, 5]), 0.25\n",
    "offset = np.diff(ylim)*0.1\n",
    "twin_ax.set_ylim(ylim + offset*np.array([-1,1]))\n",
    "twin_ax.set_yticks(np.r_[ylim[0] : ylim[1]+dy/2 : dy])\n",
    "\n",
    "# ax.grid(which='major', axis='y', ls=':', lw=0.5, color=[.6,.6,.6])\n",
    "ax.set_xlabel('Date')\n",
    "ax.set_ylabel(r'Momentum [GW$\\cdot$s$^2$]')\n",
    "twin_ax.set_ylabel(r'Inertia [s]', color=red)\n",
    "twin_ax.tick_params(axis='y', labelcolor=red)\n",
    "fig.tight_layout()\n",
    "plt.savefig('MH.pdf')"
   ]
  }
 ],
 "metadata": {
  "kernelspec": {
   "display_name": "Python 3 (ipykernel)",
   "language": "python",
   "name": "python3"
  },
  "language_info": {
   "codemirror_mode": {
    "name": "ipython",
    "version": 3
   },
   "file_extension": ".py",
   "mimetype": "text/x-python",
   "name": "python",
   "nbconvert_exporter": "python",
   "pygments_lexer": "ipython3",
   "version": "3.10.14"
  }
 },
 "nbformat": 4,
 "nbformat_minor": 5
}
