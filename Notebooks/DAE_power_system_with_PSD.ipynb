{
 "cells": [
  {
   "cell_type": "code",
   "execution_count": null,
   "id": "0ce1abc7-787b-4a0c-a543-a80021060068",
   "metadata": {},
   "outputs": [],
   "source": [
    "import os\n",
    "import sys\n",
    "import numpy as np\n",
    "from numpy.linalg import inv\n",
    "from numpy.random import RandomState, SeedSequence, MT19937\n",
    "from scipy.interpolate import interp1d\n",
    "from scikits.odes import dae\n",
    "\n",
    "if '..' not in sys.path:\n",
    "    sys.path = ['..'] + sys.path\n",
    "from pfcommon import OU, parse_sparse_matrix_file\n",
    "from filter_OU_inputs import run_welch\n",
    "from daes import SynchMachAdynLoadConstS"
   ]
  },
  {
   "cell_type": "code",
   "execution_count": null,
   "id": "33541df3-e8b3-45c9-bb6b-7d2b968bdaa2",
   "metadata": {},
   "outputs": [],
   "source": [
    "import seaborn as sns\n",
    "import matplotlib\n",
    "import matplotlib.pyplot as plt\n",
    "fontsize = 9\n",
    "lw = 0.75\n",
    "matplotlib.rc('font', **{'family': 'Arial', 'size': fontsize})\n",
    "matplotlib.rc('axes', **{'linewidth': 0.75, 'labelsize': fontsize})\n",
    "matplotlib.rc('xtick', **{'labelsize': fontsize})\n",
    "matplotlib.rc('ytick', **{'labelsize': fontsize})\n",
    "matplotlib.rc('xtick.major', **{'width': lw, 'size': 3})\n",
    "matplotlib.rc('ytick.major', **{'width': lw, 'size': 3})\n",
    "matplotlib.rc('ytick.minor', **{'width': lw, 'size': 1.5})\n",
    "\n",
    "FIGURES_DIR = 'figures'"
   ]
  },
  {
   "cell_type": "markdown",
   "id": "98bc38b7-56e7-458d-9f86-963de5829d6c",
   "metadata": {},
   "source": [
    "#### Base units\n",
    "Base apparent power and frequency as defined in PowerFactory. Base torque is computed accordingly."
   ]
  },
  {
   "cell_type": "code",
   "execution_count": null,
   "id": "3abdd9ac-1c40-494f-81e8-6c33628cad13",
   "metadata": {},
   "outputs": [],
   "source": [
    "S_base = 1e6                # [VA] base apparent power\n",
    "V_base = 10e3               # [V] base voltage\n",
    "ω_base = 2 * np.pi * 50     # [Hz] base frequency\n",
    "T_base = S_base / ω_base    # [Nm] base torque\n",
    "Z_base = V_base**2 / S_base # [Ω] base impedance\n",
    "Y_base = 1 / Z_base         # [S] base admittance\n",
    "print('S_base = {:g} MVA'.format(S_base * 1e-6))\n",
    "print('V_base = {:g} kV'.format(V_base * 1e-3))\n",
    "print('F_base = {:g} Hz'.format(ω_base / (2 * np.pi)))\n",
    "print('T_base = {:g} Nm'.format(T_base))\n",
    "print('Z_base = {:g} Ω'.format(Z_base))\n",
    "print('Y_base = {:g} S'.format(Y_base))"
   ]
  },
  {
   "cell_type": "markdown",
   "id": "488078c9-157c-40ac-b556-794923154fa6",
   "metadata": {},
   "source": [
    "Load the power flow data:"
   ]
  },
  {
   "cell_type": "code",
   "execution_count": null,
   "id": "beb93c53-5ca9-4b0c-adc3-f80847a19594",
   "metadata": {},
   "outputs": [],
   "source": [
    "data_folder = '../data/SM_with_load/adynamic_load_const_S/LD1'\n",
    "AC_fname = os.path.join(data_folder, 'SM_with_load_AC.npz')\n",
    "data = np.load(AC_fname, allow_pickle=True)\n",
    "PF = data['PF_without_slack'].item()\n",
    "PF_load = PF['loads']['LD1']\n",
    "PF_gen = PF['SMs']['G1']\n",
    "PF_bus = PF['buses']['Bus1']"
   ]
  },
  {
   "cell_type": "markdown",
   "id": "05214059-407c-4612-94a8-d14dec66e859",
   "metadata": {},
   "source": [
    "## Calculate all system parameters\n",
    "\n",
    "#### Bus parameters"
   ]
  },
  {
   "cell_type": "code",
   "execution_count": null,
   "id": "00363573-8ad4-43f9-b8f1-a0e3c19f9a02",
   "metadata": {},
   "outputs": [],
   "source": [
    "assert abs(V_base - PF_bus['Vl'] * 1e3 / PF_bus['u']) < 1e-10\n",
    "uBr = PF_bus['ur'] * V_base\n",
    "uBi = PF_bus['ui'] * V_base\n",
    "assert abs(PF_bus['Vl'] * 1e3 - np.abs(uBr + 1j * uBi)) < 1e-10\n",
    "uB = uBr + 1j * uBi\n",
    "print('========= BUS ========')\n",
    "print('V_bus = {:.2f} kV'.format(uB * 1e-3))"
   ]
  },
  {
   "cell_type": "markdown",
   "id": "082ef7ad-8f78-44d7-b14c-bf2a186c2b3d",
   "metadata": {},
   "source": [
    "#### Load parameters"
   ]
  },
  {
   "cell_type": "code",
   "execution_count": null,
   "id": "a2751664-3a8d-4d5a-9f0b-b3e31d60294b",
   "metadata": {},
   "outputs": [],
   "source": [
    "assert abs(V_base - PF_load['Vl'] * 1e3 / PF_load['u']) < 1e-10\n",
    "P_load = PF_load['P'] * 1e6   # [W]\n",
    "Q_load = PF_load['Q'] * 1e6   # [VAR]\n",
    "S_load = P_load + 1j * Q_load # [VA]\n",
    "V_load = (PF_load['ur'] + 1j * PF_load['ui']) * V_base\n",
    "I_load = (S_load / (V_load * np.sqrt(3))).conjugate()\n",
    "Z_load = V_load / I_load\n",
    "iLr, iLi = float(I_load.real), float(I_load.imag)\n",
    "assert abs(PF_load['ir'] * np.abs(I_load) - iLr) < 1e-6, 'Real part of the current does not match'\n",
    "assert abs(PF_load['ii'] * np.abs(I_load) - iLi) < 1e-6, 'Imaginary part of the current does not match'\n",
    "iL = iLr + 1j * iLi\n",
    "print('========== LOAD ========')\n",
    "print('S_load = {:g} MVA'.format(S_load * 1e-6))\n",
    "print('I_load = {:.2f} A'.format(I_load))\n",
    "print('Z_load = {:.2f} Ω'.format(Z_load))"
   ]
  },
  {
   "cell_type": "markdown",
   "id": "b8a69c7d-168c-491b-89a2-1171ba23024e",
   "metadata": {},
   "source": [
    "#### Generator parameters"
   ]
  },
  {
   "cell_type": "code",
   "execution_count": null,
   "id": "913740f3-59f7-438b-bd1c-e14f26eef8cc",
   "metadata": {},
   "outputs": [],
   "source": [
    "# with the following value of generator apparent power, the Z_base of the\n",
    "# generator is equivalent to the system one (i.e., the one computed above\n",
    "# using V_base and S_base\n",
    "S_gen = 1.732051e6            # [MVA] apparent power of the generator\n",
    "tag = 8                       # [s] acceleration time constant\n",
    "H = tag / 2                   # [s] inertia constant\n",
    "E_kin = H * S_gen             # [J] kinetic energy of the generator\n",
    "J = 2 * E_kin / (ω_base ** 2) # [kgm2] moment of inertia of the generator\n",
    "\n",
    "I_base_gen = S_gen / (np.sqrt(3) * V_base)\n",
    "assert abs(PF_gen['I'] * 1e3 / PF_gen['i'] - I_base_gen) < 1e-4\n",
    "Z_base_gen = V_base / I_base_gen              # [Ω]\n",
    "iGr = PF_gen['ir'] * I_base_gen               # [A]\n",
    "iGi = PF_gen['ii'] * I_base_gen               # [A]\n",
    "assert abs(PF_gen['I'] * 1e3 - np.abs(iGr + 1j * iGi)) < 1e-4\n",
    "iG = iGr + 1j * iGi\n",
    "\n",
    "rstr, xstr = 0.2, 0.4                         # [pu] stator parameters\n",
    "R_gen = rstr * Z_base_gen                     # [Ω]\n",
    "X_gen = xstr * Z_base_gen                     # [Ω]\n",
    "Z_gen = R_gen + 1j * X_gen                    # [Ω]\n",
    "\n",
    "# the voltage of the ideal generator in the synchronous machine\n",
    "ve = uB + Z_gen * iG\n",
    "E0, ϕG = float(np.abs(ve)), float(np.angle(ve))\n",
    "\n",
    "print('============ SM ===========')\n",
    "print('       tag = {:g} s'.format(tag))\n",
    "print('         H = {:g} s'.format(H))\n",
    "print('     E_kin = {:g} MJ'.format(E_kin*1e-6))\n",
    "print('         J = {:g} kgm2'.format(J))\n",
    "print('I_base_gen = {:.2f} A'.format(I_base_gen))\n",
    "print('Z_base_gen = {:.2f} Ω'.format(Z_base_gen))\n",
    "print('     I_gen = {:.2f} A'.format(iG))\n",
    "print('     Z_gen = {:.2f} Ω'.format(Z_gen))\n",
    "print('        E0 = {:.2f} kV'.format(E0 * 1e-3))\n",
    "print('         ϕ = {:.2f} deg'.format(np.rad2deg(ϕG)))"
   ]
  },
  {
   "cell_type": "markdown",
   "id": "5711f1e7-4dd8-44f6-808e-70ddc6930e5c",
   "metadata": {},
   "source": [
    "#### Parameters of the leak conductance connected to the bus"
   ]
  },
  {
   "cell_type": "code",
   "execution_count": null,
   "id": "a974c61f-4a0d-491e-8a9f-9d0fe8489270",
   "metadata": {},
   "outputs": [],
   "source": [
    "# Ggnd = 1e-4                  # couldn't figure out the units of measure\n",
    "Ygnd = (iG - iL) / uB   # [S]\n",
    "Ggnd = float(Ygnd.real) # [S]\n",
    "Bgnd = float(Ygnd.imag) # [S]\n",
    "print('Ggnd = {:.2f} pS'.format(Ggnd * 1e12))"
   ]
  },
  {
   "cell_type": "markdown",
   "id": "84357372-87ab-4695-8eef-ca98b6d86179",
   "metadata": {},
   "source": [
    "### Torques\n",
    "General parameters:"
   ]
  },
  {
   "cell_type": "code",
   "execution_count": null,
   "id": "14e46505-0503-4392-aa24-e505a14bfd9d",
   "metadata": {},
   "outputs": [],
   "source": [
    "n = 1     # [pu]\n",
    "nref = 1  # [pu]\n",
    "cosn = 1  # rated power factor"
   ]
  },
  {
   "cell_type": "markdown",
   "id": "6186dc50-6f70-4778-a35f-a744beda2695",
   "metadata": {},
   "source": [
    "#### Electrical torque"
   ]
  },
  {
   "cell_type": "code",
   "execution_count": null,
   "id": "2a2d40e6-47c4-4ac9-8bd3-1633de7c2b1f",
   "metadata": {},
   "outputs": [],
   "source": [
    "ut = PF_gen['ur'] + 1j * PF_gen['ui']                    # [pu]\n",
    "it = PF_gen['ir'] + 1j * PF_gen['ii']                    # [pu]\n",
    "ψstr = (ut + rstr * it) / (1j * n)                       # [pu]\n",
    "te = (it.imag * ψstr.real - it.real * ψstr.imag) / cosn  # [pu]\n",
    "Te = te * T_base                                         # [Nm]\n",
    "print('Stator flux: {:g} p.u.'.format(ψstr))\n",
    "print('Electrical torque: {:g} p.u.'.format(te))\n",
    "print('Electrical torque: {:g} Nm'.format(Te))"
   ]
  },
  {
   "cell_type": "markdown",
   "id": "8b0765a9-93f6-4186-bf30-c52ec78f3c7e",
   "metadata": {},
   "source": [
    "#### Mechanical torque"
   ]
  },
  {
   "cell_type": "code",
   "execution_count": null,
   "id": "df3420d2-2b3a-4504-8c36-baaaaef787eb",
   "metadata": {},
   "outputs": [],
   "source": [
    "dpu   = 0\n",
    "xmdm  = 0\n",
    "addmt = 0\n",
    "pt = (te + dpu * n + xmdm) * n\n",
    "tm = pt / n - (xmdm + dpu * n - addmt)\n",
    "Tm = tm * T_base\n",
    "print('Mechanical torque: {:g} p.u.'.format(tm))\n",
    "print('Mechanical torque: {:g} Nm'.format(Tm))"
   ]
  },
  {
   "cell_type": "markdown",
   "id": "9eb4460b-012b-4e4b-a6a7-79ca0820b790",
   "metadata": {},
   "source": [
    "#### Damping torques (not used for now)"
   ]
  },
  {
   "cell_type": "code",
   "execution_count": null,
   "id": "e941682e-97a2-4963-899d-9722ecc672e8",
   "metadata": {},
   "outputs": [],
   "source": [
    "if False:\n",
    "    dkd, dpe = 0, 0\n",
    "    tdkd = dkd * (n - nref)\n",
    "    tdpe = dpe / n * (n - nref)\n",
    "    Tdkd, Tdpe = tdkd * T_base, tdpe * T_base\n",
    "    print('Damping torques: ({:g},{:g}) p.u.'.format(tdkd, tdpe))\n",
    "    print('Damping torques: ({:g},{:g}) Nm.'.format(Tdkd, Tdpe))"
   ]
  },
  {
   "cell_type": "markdown",
   "id": "b04032be-66a5-4a8a-840e-857e2d3904e1",
   "metadata": {},
   "source": [
    "## Time domain simulation\n",
    "First make sure that the PF solution is indeed an equilibrium for the system:"
   ]
  },
  {
   "cell_type": "code",
   "execution_count": null,
   "id": "ed846da5-179a-45fb-8317-3b30e00a6a68",
   "metadata": {},
   "outputs": [],
   "source": [
    "dkd, dpe = 0., 0.\n",
    "sys = SynchMachAdynLoadConstS(w_base=ω_base, V_base=V_base, P_load=P_load,\n",
    "                              Q_load=Q_load, Ggnd=Ggnd, rstr=rstr, R_gen=R_gen, X_gen=X_gen,\n",
    "                              tag=tag, E0=E0, phiG=ϕG, cosn=cosn, I_base_gen=I_base_gen,\n",
    "                              pt=pt, xmdm=xmdm, dpu=dpu, addmt=addmt, dkd=dkd, dpe=dpe, w_ref=ω_base)\n",
    "y0 = np.array([ω_base, ϕG, uBr, uBi, iLr, iLi, iGr, iGi], dtype=float)\n",
    "N_vars = y0.size\n",
    "ydot0 = np.zeros(N_vars, dtype=float)\n",
    "res0 = np.zeros(N_vars, dtype=float)\n",
    "sys(0, y0, ydot0, res0)\n",
    "assert np.allclose(res0, np.zeros(N_vars), rtol=1e-6, atol=1e-6)"
   ]
  },
  {
   "cell_type": "markdown",
   "id": "13b6ab7f-9332-4ca0-a44b-b99c5f8716bd",
   "metadata": {},
   "source": [
    "Then integrate the system:"
   ]
  },
  {
   "cell_type": "code",
   "execution_count": null,
   "id": "8b103dbb-13c4-4012-8e75-8820ddcb0b08",
   "metadata": {},
   "outputs": [],
   "source": [
    "dt = 5e-3\n",
    "t0, t1 = 0, 1200\n",
    "force = False\n",
    "outfile = 'SM_with_load_tstop_{}_dt_{:g}.npz'.format(t1, dt)\n",
    "if force or not os.path.isfile(outfile):\n",
    "    t_eval = np.r_[t0 : t1 : dt]\n",
    "    seed = 1983\n",
    "    rs = RandomState(MT19937(SeedSequence(seed)))\n",
    "    μ = P_load\n",
    "    dP = 0.01\n",
    "    σ = dP * P_load\n",
    "    τ = 20e-3\n",
    "    ou = OU(dt, μ, σ, τ, t_eval.size, rs)\n",
    "    sys.OU = np.c_[t_eval, ou]\n",
    "    algebraic_vars_idx = [2, 3, 4, 5, 6, 7]\n",
    "    solver = dae('ida', sys, compute_initcond='yp0', first_step_size=1e-12, \n",
    "                 atol=1e-4, rtol=1e-4, algebraic_vars_idx=algebraic_vars_idx,\n",
    "                 compute_initcond_t0=10, old_api=False)\n",
    "    sol = solver.solve(t_eval, y0, ydot0)\n",
    "    t_tran, y_tran = sol.values.t, sol.values.y\n",
    "    np.savez_compressed(outfile, dt=dt, t0=t0, t1=t1, P_load=P_load,\n",
    "                    OU_seed=seed, OU_mean=μ, OU_stddev=σ, OU_tau=τ,\n",
    "                    t=t_tran, y=y_tran, ydot=sol.values.ydot)\n",
    "else:\n",
    "    tran = np.load(outfile, allow_pickle=True)\n",
    "    t_tran = tran['t']\n",
    "    y_tran = tran['y']\n",
    "    σ, τ = tran['OU_stddev'], tran['OU_tau']"
   ]
  },
  {
   "cell_type": "markdown",
   "id": "673d543b-b8fe-426d-8b48-53839e7e52ee",
   "metadata": {},
   "source": [
    "... and compute the PSD of the solution:"
   ]
  },
  {
   "cell_type": "code",
   "execution_count": null,
   "id": "470597f1-8b87-4c0e-b92d-38fb70e01ad4",
   "metadata": {},
   "outputs": [],
   "source": [
    "P_tran, abs_tran = [], []\n",
    "for output_var_idx in range(N_vars):\n",
    "    Δy_tran = y_tran[:,output_var_idx] - y_tran[:,output_var_idx].mean()\n",
    "    ret = run_welch(Δy_tran, dt, window=200/dt, onesided=True)\n",
    "    freq_tran = ret[0]\n",
    "    P_tran.append(ret[1])\n",
    "    abs_tran.append(ret[2])\n",
    "P_tran = np.array(P_tran)\n",
    "abs_tran = np.array(abs_tran)"
   ]
  },
  {
   "cell_type": "markdown",
   "id": "ec0591cd-988a-4cef-81d8-92430e36f1c2",
   "metadata": {},
   "source": [
    "## Building the transfer functions\n",
    "\n",
    "First compute the Jacobian matrix:"
   ]
  },
  {
   "cell_type": "code",
   "execution_count": null,
   "id": "48c210b9-88d6-4eee-b5db-679509523a67",
   "metadata": {},
   "outputs": [],
   "source": [
    "analytic_jacobian = True\n",
    "J = np.zeros((N_vars, N_vars))\n",
    "err = sys.jac(0, y0, ydot0, 1, J)"
   ]
  },
  {
   "cell_type": "markdown",
   "id": "6a2b5a07-b07c-4c90-9f4b-1075fe3d0bd3",
   "metadata": {},
   "source": [
    "Alternatively, the Jacobian matrix can be computed numerically:"
   ]
  },
  {
   "cell_type": "code",
   "execution_count": null,
   "id": "d995dbd7-d9e4-4d9a-933d-2f673f186b94",
   "metadata": {},
   "outputs": [],
   "source": [
    "if not analytic_jacobian:\n",
    "    res = np.zeros(N_vars, dtype=float)\n",
    "    J = np.zeros((N_vars, N_vars))\n",
    "    for j in range(N_vars):\n",
    "        dy = max(1e-3 * np.abs(y0[j]), 1e-3)\n",
    "        y = y0 + np.array([dy if i == j else 0 for i in range(N_vars)])\n",
    "        sys(0, y, ydot0, res)\n",
    "        J[:,j] = (res - res0) / dy"
   ]
  },
  {
   "cell_type": "code",
   "execution_count": null,
   "id": "c9f18430-907e-453f-bad0-2bb7cdc30fab",
   "metadata": {},
   "outputs": [],
   "source": [
    "J *= -1\n",
    "print_row = lambda A, row, fmt='{:13g} ' * N_vars: print(('[{:2d}] ' + fmt).format(row+1, *A[row,:]))\n",
    "for row in range(N_vars):\n",
    "    print_row(J, row)"
   ]
  },
  {
   "cell_type": "markdown",
   "id": "27eaab14-e5f5-414d-89a1-0eab20b05e81",
   "metadata": {},
   "source": [
    "#### Compare the Jacobian calculated above with the one calculated by PowerFactory:"
   ]
  },
  {
   "cell_type": "code",
   "execution_count": null,
   "id": "215a4385-e9fa-486a-ade9-6bbc62f07259",
   "metadata": {},
   "outputs": [],
   "source": [
    "J_PF = parse_sparse_matrix_file(os.path.join(data_folder, 'Jacobian.mtl'))[:N_vars, :N_vars]\n",
    "for row in range(N_vars):\n",
    "    print_row(J_PF, row)"
   ]
  },
  {
   "cell_type": "code",
   "execution_count": null,
   "id": "a987c4e8-e967-4d8e-aa16-3d8f78394662",
   "metadata": {},
   "outputs": [],
   "source": [
    "def compute_matrices(J, N_state_vars, N_algebraic_vars):\n",
    "    Jfx = J[:N_state_vars, :N_state_vars]\n",
    "    Jfy = J[:N_state_vars, N_state_vars:]\n",
    "    Jgx = J[N_state_vars:, :N_state_vars]\n",
    "    Jgy = J[N_state_vars:, N_state_vars:]\n",
    "    Jgy_inv = inv(Jgy)\n",
    "    A = Jfx - np.dot(np.dot(Jfy, Jgy_inv), Jgx)\n",
    "    B = - np.dot(Jfy, Jgy_inv)\n",
    "    C = - np.dot(Jgy_inv, Jgx)\n",
    "    D = - Jgy_inv\n",
    "    return A,B,C,D\n",
    "\n",
    "N_state_vars = 2\n",
    "N_algebraic_vars = N_vars - N_state_vars\n",
    "A,B,C,D = compute_matrices(J, N_state_vars, N_algebraic_vars)\n",
    "A_PF,_,_,_ = compute_matrices(J, N_state_vars, N_algebraic_vars)\n",
    "print('             Eigenvalues: ', np.linalg.eig(A)[0])\n",
    "print('PowerFactory eigenvalues: ', np.linalg.eig(A_PF)[0])"
   ]
  },
  {
   "cell_type": "code",
   "execution_count": null,
   "id": "b81f6f1f-b701-4bed-be67-6fb0ad67f819",
   "metadata": {},
   "outputs": [],
   "source": [
    "Fmin, Fmax = -6, 2\n",
    "steps_per_decade = 100\n",
    "F = np.logspace(Fmin, Fmax, (Fmax - Fmin) * steps_per_decade + 1)\n",
    "N_input_loads = 1\n",
    "TF = np.zeros((F.size, N_input_loads, N_vars), dtype=complex)\n",
    "OUT = np.zeros((F.size, N_input_loads, N_vars), dtype=complex)"
   ]
  },
  {
   "cell_type": "code",
   "execution_count": null,
   "id": "f67cf317-526c-4d86-98be-c8b861cc737b",
   "metadata": {},
   "outputs": [],
   "source": [
    "coeffs = np.zeros(N_algebraic_vars)\n",
    "coeffs[2] = uB.real / np.abs(uB) ** 2\n",
    "coeffs[3] = uB.imag / np.abs(uB) ** 2\n",
    "coeffs[2:4] /= np.sqrt(3)\n",
    "print(coeffs)"
   ]
  },
  {
   "cell_type": "code",
   "execution_count": null,
   "id": "e90be7dc-ea86-4949-8306-b5466c728520",
   "metadata": {},
   "outputs": [],
   "source": [
    "I = np.eye(N_state_vars)\n",
    "α = 1 / τ\n",
    "c = σ * np.sqrt(2 / τ)\n",
    "j = 0\n",
    "for i, f in enumerate(F):\n",
    "    M = 1j * 2 * np.pi * f * I - A # sI - A\n",
    "    MINVxB = np.dot(inv(M), B)            # (sI - A)^-1 x B\n",
    "    psd = np.sqrt((c / α)**2 / (1 + (2 * np.pi * F[i] / α)**2))\n",
    "    TF[i, j, :N_state_vars] = np.dot(MINVxB, coeffs)\n",
    "    TF[i, j, N_state_vars:] = np.dot(np.dot(C, MINVxB) + D, coeffs)\n",
    "    OUT[i, j, :N_state_vars] = np.dot(MINVxB, psd * coeffs)\n",
    "    OUT[i, j, N_state_vars:] = np.dot(np.dot(C, MINVxB) + D, psd * coeffs)"
   ]
  },
  {
   "cell_type": "markdown",
   "id": "5175f27f-b081-4b40-aaa0-b50ef29de41c",
   "metadata": {},
   "source": [
    "Compare the results:"
   ]
  },
  {
   "cell_type": "code",
   "execution_count": null,
   "id": "5d5af019-6cb5-4258-a605-9e9bcb2794e4",
   "metadata": {},
   "outputs": [],
   "source": [
    "var_names = r'$\\omega_{gen}$', r'$\\phi$', r'$i_{gen}^r$', r'$i_{gen}^i$', \\\n",
    "    r'$i_{load}^r$', r'$i_{load}^i$', r'$v_{bus}^r$', r'$v_{bus}^i$'\n",
    "input_var_idx = 0\n",
    "dB = 10\n",
    "rows, cols = 4, 2\n",
    "fig,ax = plt.subplots(rows, cols, figsize=(cols*4, rows*2), sharex=True, sharey=False, squeeze=False)\n",
    "for output_var_idx in range(N_vars):\n",
    "    i,j = output_var_idx // cols, output_var_idx % cols\n",
    "    a = ax[i,j]\n",
    "    if np.all(OUT[:, input_var_idx, output_var_idx] == 0 + 1j*0):\n",
    "        a.set_visible(False)\n",
    "        continue\n",
    "    Y = OUT[:, input_var_idx, output_var_idx]\n",
    "    y = dB * np.log10(np.abs(Y)) if dB in (10, 20) else np.abs(Y)\n",
    "    a.plot(freq_tran, dB * np.log10(abs_tran[output_var_idx]) if dB in (10, 20) else abs_tran, 'k', lw=1)\n",
    "    a.semilogx(F, y, 'r', lw=1)\n",
    "    a.set_title(var_names[output_var_idx], fontsize=10)\n",
    "ax[0,0].set_xlim([1e-3, 1e2])\n",
    "for a in ax[-1,:]:\n",
    "    a.set_xlabel('Frequency [Hz]')\n",
    "for a in ax[:,0]:\n",
    "    a.set_ylabel(r'|Y(j$\\omega$)|')\n",
    "sns.despine()\n",
    "fig.tight_layout()\n",
    "plt.savefig(os.path.join(FIGURES_DIR, os.path.splitext(outfile)[0] + '.pdf'))"
   ]
  }
 ],
 "metadata": {
  "kernelspec": {
   "display_name": "Python 3 (ipykernel)",
   "language": "python",
   "name": "python3"
  },
  "language_info": {
   "codemirror_mode": {
    "name": "ipython",
    "version": 3
   },
   "file_extension": ".py",
   "mimetype": "text/x-python",
   "name": "python",
   "nbconvert_exporter": "python",
   "pygments_lexer": "ipython3",
   "version": "3.10.17"
  }
 },
 "nbformat": 4,
 "nbformat_minor": 5
}
