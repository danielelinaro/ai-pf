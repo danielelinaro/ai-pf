{
 "cells": [
  {
   "cell_type": "code",
   "execution_count": null,
   "id": "0ce1abc7-787b-4a0c-a543-a80021060068",
   "metadata": {},
   "outputs": [],
   "source": [
    "import numpy as np\n",
    "from collections import namedtuple\n",
    "import matplotlib.pyplot as plt\n",
    "import seaborn as sns\n",
    "from scipy_dae.integrate import solve_dae"
   ]
  },
  {
   "cell_type": "markdown",
   "id": "98bc38b7-56e7-458d-9f86-963de5829d6c",
   "metadata": {},
   "source": [
    "#### Base units\n",
    "Base apparent power and frequency as defined in PowerFactory. Base torque is computed accordingly."
   ]
  },
  {
   "cell_type": "code",
   "execution_count": null,
   "id": "3abdd9ac-1c40-494f-81e8-6c33628cad13",
   "metadata": {},
   "outputs": [],
   "source": [
    "S_base = 1e6             # [VA] base apparent power\n",
    "ω_base = 2 * np.pi * 50  # [Hz] base frequency\n",
    "T_base = S_base / ω_base # [Nm] base torque\n",
    "print('S_base = {:g} MVA'.format(S_base * 1e-6))\n",
    "print('F_base = {:g} Hz'.format(ω_base / (2 * np.pi)))\n",
    "print('T_base = {:g} Nm'.format(T_base))"
   ]
  },
  {
   "cell_type": "markdown",
   "id": "20ccacf2-a9a3-48e4-a345-ee68ea686b1f",
   "metadata": {},
   "source": [
    "Load the power flow data:"
   ]
  },
  {
   "cell_type": "code",
   "execution_count": null,
   "id": "beb93c53-5ca9-4b0c-adc3-f80847a19594",
   "metadata": {},
   "outputs": [],
   "source": [
    "AC_fname = '../data/SM_with_load/adynamic_load_const_S/LD1/SM_with_load_AC.npz'\n",
    "data = np.load(AC_fname, allow_pickle=True)\n",
    "PF = data['PF_without_slack'].item()\n",
    "PF_load = PF['loads']['LD1']\n",
    "PF_gen = PF['SMs']['G1']\n",
    "PF_bus = PF['buses']['Bus1']"
   ]
  },
  {
   "cell_type": "markdown",
   "id": "b8a69c7d-168c-491b-89a2-1171ba23024e",
   "metadata": {},
   "source": [
    "#### Generator parameters"
   ]
  },
  {
   "cell_type": "code",
   "execution_count": null,
   "id": "913740f3-59f7-438b-bd1c-e14f26eef8cc",
   "metadata": {},
   "outputs": [],
   "source": [
    "V_base_gen = PF_gen['Vl'] * 1e3 / PF_gen['u'] # [V]\n",
    "I_base_gen = PF_gen['I'] * 1e3 / PF_gen['i']  # [A]\n",
    "Z_base_gen = V_base_gen / I_base_gen          # [Ω]\n",
    "iGr = PF_gen['ir'] * I_base_gen               # [A]\n",
    "iGi = PF_gen['ii'] * I_base_gen               # [A]\n",
    "assert np.abs(PF_gen['I'] * 1e3 - np.abs(iGr + 1j * iGi)) < 1e-10\n",
    "\n",
    "rstr, xstr = 0.2, 0.4                         # [pu] stator parameters\n",
    "R_gen = rstr * Z_base_gen                     # [Ω]\n",
    "X_gen = xstr * Z_base_gen                     # [Ω]\n",
    "Z_gen = R_gen + 1j * X_gen                    # [Ω]\n",
    "\n",
    "print('======= SM ======')\n",
    "print('V_base = {:.2f} kV'.format(V_base_gen * 1e-3))\n",
    "print('I_base = {:.2f} A'.format(I_base_gen))\n",
    "print('Z_base = {:.2f} Ω'.format(Z_base_gen))\n",
    "print('Z_gen = {:g} Ω'.format(Z_gen))"
   ]
  },
  {
   "cell_type": "markdown",
   "id": "ec2f3bd2-dd2a-49ef-b03e-48aec29d51c8",
   "metadata": {},
   "source": [
    "#### Load parameters"
   ]
  },
  {
   "cell_type": "code",
   "execution_count": null,
   "id": "a2751664-3a8d-4d5a-9f0b-b3e31d60294b",
   "metadata": {},
   "outputs": [],
   "source": [
    "V_base_load = PF_load['Vl'] * 1e3 / PF_load['u'] # [V]\n",
    "P = PF_load['P'] * 1e6                           # [W]\n",
    "Q = PF_load['Q'] * 1e6                           # [VAR]\n",
    "S = P + 1j*Q                                     # [VA]\n",
    "I_load = np.abs(S) / (V_base_load * np.sqrt(3))\n",
    "V = (PF_load['ur'] + 1j * PF_load['ui']) * V_base_load\n",
    "ϕV = np.angle(V)\n",
    "ϕZ = np.angle(S)\n",
    "ϕI = ϕV - ϕZ\n",
    "I = I_load * np.exp(1j * ϕI)\n",
    "iLr, iLi = I.real, I.imag\n",
    "Z_load = V / I\n",
    "assert np.abs(PF_load['ir'] * I_load - iLr) < 1e-6, 'Real part of the current does not match'\n",
    "assert np.abs(PF_load['ii'] * I_load - iLi) < 1e-6, 'Imaginary part of the current does not match'\n",
    "print('======= LOAD ======')\n",
    "print('V_base = {:.2f} kV'.format(V_base_load * 1e-3))\n",
    "print('S_load = {:g} MVA'.format((P + 1j * Q) * 1e-6))\n",
    "print('I_load = {:.2f} A'.format(I_load))\n",
    "print('Z_load = {:.2f} Ω'.format(Z_load))"
   ]
  },
  {
   "cell_type": "markdown",
   "id": "90f3b04c-175e-495d-a639-2a00f4cc9ddd",
   "metadata": {},
   "source": [
    "#### Bus parameters"
   ]
  },
  {
   "cell_type": "code",
   "execution_count": null,
   "id": "00363573-8ad4-43f9-b8f1-a0e3c19f9a02",
   "metadata": {},
   "outputs": [],
   "source": [
    "V_base_bus = PF_bus['Vl'] * 1e3 / PF_bus['u']\n",
    "uBr = PF_bus['ur'] * V_base_bus\n",
    "uBi = PF_bus['ui'] * V_base_bus\n",
    "assert np.abs(PF_bus['Vl'] * 1e3 - np.abs(uBr + 1j * uBi)) < 1e-10\n",
    "print('======= BUS ======')\n",
    "print('V_base = {:.2f} kV'.format(V_base_bus * 1e-3))"
   ]
  },
  {
   "cell_type": "markdown",
   "id": "5711f1e7-4dd8-44f6-808e-70ddc6930e5c",
   "metadata": {},
   "source": [
    "#### First algebraic equation:"
   ]
  },
  {
   "cell_type": "code",
   "execution_count": null,
   "id": "a974c61f-4a0d-491e-8a9f-9d0fe8489270",
   "metadata": {},
   "outputs": [],
   "source": [
    "Z_base = V_base_bus**2 / S_base\n",
    "Y_base = 1 / Z_base\n",
    "print('Z_base = {:g} Ω'.format(Z_base))\n",
    "print('Y_base = {:g} S'.format(Y_base))\n",
    "\n",
    "Ggnd = 1e-4                  # couldn't figure out the units of measure\n",
    "Ggnd_S = float(iGr - iLr) / uBr   # [S]\n",
    "iG = iGr + 1j * iGi\n",
    "iL = iLr + 1j * iLi\n",
    "uB = uBr + 1j * uBi\n",
    "assert np.abs(iGr - (iLr + Ggnd_S * uBr)) < 1e-10\n",
    "assert np.abs(iGi - (iLi + Ggnd_S * uBi)) < 1e-10"
   ]
  },
  {
   "cell_type": "markdown",
   "id": "35af3890-49e5-4c5e-a3a2-bbefb495367d",
   "metadata": {},
   "source": [
    "#### Second algebraic equation:"
   ]
  },
  {
   "cell_type": "code",
   "execution_count": null,
   "id": "05eb9e4c-30be-496d-a030-627681ab34d8",
   "metadata": {},
   "outputs": [],
   "source": [
    "den = np.sqrt(3) * (uBr ** 2 + uBi ** 2)\n",
    "assert np.abs(iLr - (P*uBr + Q*uBi) / den) < 1e-10\n",
    "assert np.abs(iLi - (-Q*uBr + P*uBi) / den) < 1e-10"
   ]
  },
  {
   "cell_type": "markdown",
   "id": "927fa7f3-07e0-4c73-8629-85c023dafc2d",
   "metadata": {},
   "source": [
    "#### Third algebraic equation:"
   ]
  },
  {
   "cell_type": "code",
   "execution_count": null,
   "id": "2d6857ae-eed2-45a2-977b-7fc4716963b2",
   "metadata": {},
   "outputs": [],
   "source": [
    "# the voltage of the ideal generator in the synchronous machine\n",
    "ve = uB + Z_gen * iG\n",
    "E0, ϕG = float(np.abs(ve)), float(np.angle(ve))\n",
    "assert np.abs(uBr + R_gen * iGr - X_gen * iGi - E0 * np.cos(ϕG)) < 1e-10\n",
    "assert np.abs(uBi + X_gen * iGr + R_gen * iGi - E0 * np.sin(ϕG)) < 1e-10"
   ]
  },
  {
   "cell_type": "markdown",
   "id": "84357372-87ab-4695-8eef-ca98b6d86179",
   "metadata": {},
   "source": [
    "### Torques\n",
    "General parameters:"
   ]
  },
  {
   "cell_type": "code",
   "execution_count": null,
   "id": "14e46505-0503-4392-aa24-e505a14bfd9d",
   "metadata": {},
   "outputs": [],
   "source": [
    "n = 1     # [pu]\n",
    "nref = 1 # [pu]\n",
    "cosn = 1  # rated power factor"
   ]
  },
  {
   "cell_type": "code",
   "execution_count": null,
   "id": "2a2d40e6-47c4-4ac9-8bd3-1633de7c2b1f",
   "metadata": {},
   "outputs": [],
   "source": [
    "ut = PF_gen['ur'] + 1j * PF_gen['ui']\n",
    "it = PF_gen['ir'] + 1j * PF_gen['ii']\n",
    "ψstr = (ut + rstr * it) / (1j * n)                       # [pu]\n",
    "te = (it.imag * ψstr.real - it.real * ψstr.imag) / cosn  # [pu]\n",
    "Te = te * T_base                                         # [Nm]\n",
    "print('Stator flux: {:g} p.u.'.format(ψstr))\n",
    "print('Electrical torque: {:g} p.u.'.format(te))\n",
    "print('Electrical torque: {:g} Nm'.format(Te))"
   ]
  },
  {
   "cell_type": "markdown",
   "id": "8b0765a9-93f6-4186-bf30-c52ec78f3c7e",
   "metadata": {},
   "source": [
    "#### Mechanical torque"
   ]
  },
  {
   "cell_type": "code",
   "execution_count": null,
   "id": "df3420d2-2b3a-4504-8c36-baaaaef787eb",
   "metadata": {},
   "outputs": [],
   "source": [
    "dpu = 0\n",
    "xmdm = 0\n",
    "addmt = 0\n",
    "pt = (te + dpu * n + xmdm) * n\n",
    "tm = pt / n - (xmdm + dpu * n - addmt)\n",
    "Tm = tm * T_base\n",
    "print('Mechanical torque: {:g} p.u.'.format(tm))\n",
    "print('Mechanical torque: {:g} Nm'.format(Tm))"
   ]
  },
  {
   "cell_type": "markdown",
   "id": "9eb4460b-012b-4e4b-a6a7-79ca0820b790",
   "metadata": {},
   "source": [
    "#### Damping torque"
   ]
  },
  {
   "cell_type": "code",
   "execution_count": null,
   "id": "1964c23a-f34a-49bd-9bdc-60e51a0700f4",
   "metadata": {},
   "outputs": [],
   "source": [
    "dkd, dpe = 0, 0\n",
    "tdkd = dkd * (n - nref)\n",
    "tdpe = dpe / n * (n - nref)\n",
    "Tdkd, Tdpe = tdkd * T_base, tdpe * T_base\n",
    "print('Damping torques: ({:g},{:g}) p.u.'.format(tdkd, tdpe))\n",
    "print('Damping torques: ({:g},{:g}) Nm.'.format(Tdkd, Tdpe))"
   ]
  },
  {
   "cell_type": "markdown",
   "id": "589ede4f-071a-4f25-b735-d48da72a55b3",
   "metadata": {},
   "source": [
    "#### First ODE:"
   ]
  },
  {
   "cell_type": "code",
   "execution_count": null,
   "id": "5b166a20-ce78-4d93-b088-7e6bc4634a43",
   "metadata": {},
   "outputs": [],
   "source": [
    "tag = 8 # [s]\n",
    "assert (tm - te - tdkd - tdpe) / tag * ω_base == 0\n",
    "assert (Tm - Te - Tdkd - Tdpe) / tag * ω_base == 0"
   ]
  },
  {
   "cell_type": "markdown",
   "id": "e30c2be1-6128-4b84-b9f5-efbc97496240",
   "metadata": {},
   "source": [
    "### The system of DAEs"
   ]
  },
  {
   "cell_type": "code",
   "execution_count": null,
   "id": "f3470361-8dc6-48ef-98f7-3d0ec05750b4",
   "metadata": {},
   "outputs": [],
   "source": [
    "Parameters = namedtuple('Parameters', ['w_base', 'V_base', 'T_base', 'P_load', 'Q_load',\n",
    "                                       'Ggnd', 'rstr', 'R_gen', 'X_gen', 'tag',\n",
    "                                       'E0', 'phiG', 'cosn', 'Tm', 'I_base_gen'])\n",
    "\n",
    "def fun(t, y, yp, params):\n",
    "    w, phi, uBr, uBi, iLr, iLi, iGr, iGi = y\n",
    "    wprime, phiprime = yp[:2]\n",
    "    den = np.sqrt(3) * (uBr ** 2 + uBi ** 2)\n",
    "\n",
    "    # compute the electrical torque\n",
    "    ut = (uBr + 1j * uBi) / params.V_base\n",
    "    it = (iGr + 1j * iGi) / params.I_base_gen\n",
    "    ψstr = (ut + params.rstr * it) / 1j\n",
    "    te = (it.imag * ψstr.real - it.real * ψstr.imag) / params.cosn\n",
    "    Te = te * params.T_base\n",
    "\n",
    "    F = np.zeros(8, dtype=np.common_type(y, yp))\n",
    "    F[0] = wprime - (params.Tm - Te) / params.tag * params.w_base\n",
    "    F[1] = phiprime\n",
    "    F[2] = iGr - (iLr + params.Ggnd * uBr)\n",
    "    F[3] = iGi - (iLi + params.Ggnd * uBi)\n",
    "    F[4] = iLr - ( params.P_load * uBr + params.Q_load * uBi) / den\n",
    "    F[5] = iLi - (-params.Q_load * uBr + params.P_load * uBi) / den\n",
    "    F[6] = uBr + params.R_gen * iGr - params.X_gen * iGi - params.E0 * np.cos(params.phiG)\n",
    "    F[7] = uBi + params.X_gen * iGr + params.R_gen * iGi - params.E0 * np.sin(params.phiG)\n",
    "    return F"
   ]
  },
  {
   "cell_type": "code",
   "execution_count": null,
   "id": "24237711-5dae-4cad-8918-86b2a4323363",
   "metadata": {},
   "outputs": [],
   "source": [
    "params = Parameters(ω_base, V_base, T_base, P, Q, Ggnd_S, rstr, R_gen, X_gen, tag, E0, ϕG, cosn, Tm, I_base_gen)\n",
    "y0 = np.array([ω_base, 0, uBr, uBi, iLr, iLi, iGr, iGi], dtype=float)\n",
    "yp0 = np.zeros(8, dtype=float)\n",
    "fun(0, y0, yp0, params)"
   ]
  },
  {
   "cell_type": "code",
   "execution_count": null,
   "id": "4c7b90dd-6eee-46ff-a5ca-4eeada0fde55",
   "metadata": {},
   "outputs": [],
   "source": [
    "method = 'Radau'\n",
    "atol = rtol = 1e-6\n",
    "t_start, t_stop = 0, 1000\n",
    "t_span = t_start, t_stop\n",
    "dt = 1e-2\n",
    "t_eval = np.r_[t_start : t_stop : dt]\n",
    "sol = solve_dae(lambda t,y,yp: fun(t, y, yp, params), t_span, y0, yp0, atol=atol, rtol=rtol, method=method, t_eval=t_eval)"
   ]
  },
  {
   "cell_type": "code",
   "execution_count": null,
   "id": "ee867598-b4ee-4281-bb63-e7f0dc82af02",
   "metadata": {},
   "outputs": [],
   "source": [
    "fig,ax = plt.subplots(1, 1, figsize=(5,3))\n",
    "ax.plot(sol.t, sol.y[0,:] / ω_base, 'k', lw=1)\n",
    "ax.set_ylim([0.99, 1.01])\n",
    "ax.set_xlabel('Time [s]')\n",
    "ax.set_ylabel('ω [p.u.]')\n",
    "sns.despine()\n",
    "fig.tight_layout()"
   ]
  }
 ],
 "metadata": {
  "kernelspec": {
   "display_name": "Python 3 (ipykernel)",
   "language": "python",
   "name": "python3"
  },
  "language_info": {
   "codemirror_mode": {
    "name": "ipython",
    "version": 3
   },
   "file_extension": ".py",
   "mimetype": "text/x-python",
   "name": "python",
   "nbconvert_exporter": "python",
   "pygments_lexer": "ipython3",
   "version": "3.10.17"
  }
 },
 "nbformat": 4,
 "nbformat_minor": 5
}
