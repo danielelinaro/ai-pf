{
 "cells": [
  {
   "cell_type": "code",
   "execution_count": null,
   "id": "0ce1abc7-787b-4a0c-a543-a80021060068",
   "metadata": {},
   "outputs": [],
   "source": [
    "import sys\n",
    "import numpy as np\n",
    "from numpy.linalg import inv\n",
    "from numpy.random import RandomState, SeedSequence, MT19937\n",
    "from scipy.interpolate import interp1d\n",
    "from scikits.odes import dae\n",
    "import matplotlib.pyplot as plt\n",
    "import seaborn as sns\n",
    "\n",
    "if '..' not in sys.path:\n",
    "    sys.path = ['..'] + sys.path\n",
    "from pfcommon import OU\n",
    "from filter_OU_inputs import run_welch"
   ]
  },
  {
   "cell_type": "markdown",
   "id": "98bc38b7-56e7-458d-9f86-963de5829d6c",
   "metadata": {},
   "source": [
    "#### Base units\n",
    "Base apparent power and frequency as defined in PowerFactory. Base torque is computed accordingly."
   ]
  },
  {
   "cell_type": "code",
   "execution_count": null,
   "id": "3abdd9ac-1c40-494f-81e8-6c33628cad13",
   "metadata": {},
   "outputs": [],
   "source": [
    "S_base = 1e6                # [VA] base apparent power\n",
    "V_base = 10e3               # [V] base voltage\n",
    "ω_base = 2 * np.pi * 50     # [Hz] base frequency\n",
    "T_base = S_base / ω_base    # [Nm] base torque\n",
    "Z_base = V_base**2 / S_base # [Ω] base impedance\n",
    "Y_base = 1 / Z_base         # [S] base admittance\n",
    "print('S_base = {:g} MVA'.format(S_base * 1e-6))\n",
    "print('V_base = {:g} kV'.format(V_base * 1e-3))\n",
    "print('F_base = {:g} Hz'.format(ω_base / (2 * np.pi)))\n",
    "print('T_base = {:g} Nm'.format(T_base))\n",
    "print('Z_base = {:g} Ω'.format(Z_base))\n",
    "print('Y_base = {:g} S'.format(Y_base))"
   ]
  },
  {
   "cell_type": "markdown",
   "id": "488078c9-157c-40ac-b556-794923154fa6",
   "metadata": {},
   "source": [
    "Load the power flow data:"
   ]
  },
  {
   "cell_type": "code",
   "execution_count": null,
   "id": "beb93c53-5ca9-4b0c-adc3-f80847a19594",
   "metadata": {},
   "outputs": [],
   "source": [
    "AC_fname = '../data/SM_with_load/adynamic_load_const_S/LD1/SM_with_load_AC.npz'\n",
    "data = np.load(AC_fname, allow_pickle=True)\n",
    "PF = data['PF_without_slack'].item()\n",
    "PF_load = PF['loads']['LD1']\n",
    "PF_gen = PF['SMs']['G1']\n",
    "PF_bus = PF['buses']['Bus1']"
   ]
  },
  {
   "cell_type": "markdown",
   "id": "b8a69c7d-168c-491b-89a2-1171ba23024e",
   "metadata": {},
   "source": [
    "#### Generator parameters"
   ]
  },
  {
   "cell_type": "code",
   "execution_count": null,
   "id": "913740f3-59f7-438b-bd1c-e14f26eef8cc",
   "metadata": {},
   "outputs": [],
   "source": [
    "# with the following value of generator apparent power, the Z_base of the\n",
    "# generator is equivalent to the system one (i.e., the one computed above\n",
    "# using V_base and S_base\n",
    "S_gen = 1.732051e6            # [MVA] apparent power of the generator\n",
    "tag = 8                       # [s] acceleration time constant\n",
    "H = tag / 2                   # [s] inertia constant\n",
    "E_kin = H * S_gen             # [J] kinetic energy of the generator\n",
    "J = 2 * E_kin / (ω_base ** 2) # [kgm2] moment of inertia of the generator\n",
    "\n",
    "I_base_gen = S_gen / (np.sqrt(3) * V_base)\n",
    "assert abs(PF_gen['I'] * 1e3 / PF_gen['i'] - I_base_gen) < 1e-4\n",
    "Z_base_gen = V_base / I_base_gen              # [Ω]\n",
    "iGr = PF_gen['ir'] * I_base_gen               # [A]\n",
    "iGi = PF_gen['ii'] * I_base_gen               # [A]\n",
    "assert abs(PF_gen['I'] * 1e3 - np.abs(iGr + 1j * iGi)) < 1e-4\n",
    "\n",
    "rstr, xstr = 0.2, 0.4                         # [pu] stator parameters\n",
    "R_gen = rstr * Z_base_gen                     # [Ω]\n",
    "X_gen = xstr * Z_base_gen                     # [Ω]\n",
    "Z_gen = R_gen + 1j * X_gen                    # [Ω]\n",
    "\n",
    "print('============ SM ===========')\n",
    "print('       tag = {:g} s'.format(tag))\n",
    "print('         H = {:g} s'.format(H))\n",
    "print('     E_kin = {:g} MJ'.format(E_kin*1e-6))\n",
    "print('         J = {:g} kgm2'.format(J))\n",
    "print('I_base_gen = {:.2f} A'.format(I_base_gen))\n",
    "print('Z_base_gen = {:.2f} Ω'.format(Z_base_gen))\n",
    "print('     I_gen = {:.2f} A'.format(iGr + 1j * iGi))\n",
    "print('     Z_gen = {:.2f} Ω'.format(Z_gen))"
   ]
  },
  {
   "cell_type": "markdown",
   "id": "ec2f3bd2-dd2a-49ef-b03e-48aec29d51c8",
   "metadata": {},
   "source": [
    "#### Load parameters"
   ]
  },
  {
   "cell_type": "code",
   "execution_count": null,
   "id": "a2751664-3a8d-4d5a-9f0b-b3e31d60294b",
   "metadata": {},
   "outputs": [],
   "source": [
    "assert abs(V_base - PF_load['Vl'] * 1e3 / PF_load['u']) < 1e-10\n",
    "P_load = PF_load['P'] * 1e6   # [W]\n",
    "Q_load = PF_load['Q'] * 1e6   # [VAR]\n",
    "S_load = P_load + 1j * Q_load # [VA]\n",
    "V_load = (PF_load['ur'] + 1j * PF_load['ui']) * V_base\n",
    "I_load = (S_load / (V_load * np.sqrt(3))).conjugate()\n",
    "Z_load = V_load / I_load\n",
    "iLr, iLi = float(I_load.real), float(I_load.imag)\n",
    "assert abs(PF_load['ir'] * np.abs(I_load) - iLr) < 1e-6, 'Real part of the current does not match'\n",
    "assert abs(PF_load['ii'] * np.abs(I_load) - iLi) < 1e-6, 'Imaginary part of the current does not match'\n",
    "print('========== LOAD ========')\n",
    "print('S_load = {:g} MVA'.format(S_load * 1e-6))\n",
    "print('I_load = {:.2f} A'.format(I_load))\n",
    "print('Z_load = {:.2f} Ω'.format(Z_load))"
   ]
  },
  {
   "cell_type": "markdown",
   "id": "90f3b04c-175e-495d-a639-2a00f4cc9ddd",
   "metadata": {},
   "source": [
    "#### Bus parameters"
   ]
  },
  {
   "cell_type": "code",
   "execution_count": null,
   "id": "00363573-8ad4-43f9-b8f1-a0e3c19f9a02",
   "metadata": {},
   "outputs": [],
   "source": [
    "assert abs(V_base - PF_bus['Vl'] * 1e3 / PF_bus['u']) < 1e-10\n",
    "uBr = PF_bus['ur'] * V_base\n",
    "uBi = PF_bus['ui'] * V_base\n",
    "assert abs(PF_bus['Vl'] * 1e3 - np.abs(uBr + 1j * uBi)) < 1e-10\n",
    "print('========= BUS ========')\n",
    "print('V_bus = {:.2f} kV'.format((uBr + 1j * uBi) * 1e-3))"
   ]
  },
  {
   "cell_type": "markdown",
   "id": "5711f1e7-4dd8-44f6-808e-70ddc6930e5c",
   "metadata": {},
   "source": [
    "#### First algebraic equation:"
   ]
  },
  {
   "cell_type": "code",
   "execution_count": null,
   "id": "a974c61f-4a0d-491e-8a9f-9d0fe8489270",
   "metadata": {},
   "outputs": [],
   "source": [
    "Ggnd = 1e-4                  # couldn't figure out the units of measure\n",
    "Ggnd_S = float(iGr - iLr) / uBr   # [S]\n",
    "iG = iGr + 1j * iGi\n",
    "iL = iLr + 1j * iLi\n",
    "uB = uBr + 1j * uBi\n",
    "assert abs(iGr - (iLr + Ggnd_S * uBr)) < 1e-6\n",
    "assert abs(iGi - (iLi + Ggnd_S * uBi)) < 1e-6"
   ]
  },
  {
   "cell_type": "markdown",
   "id": "35af3890-49e5-4c5e-a3a2-bbefb495367d",
   "metadata": {},
   "source": [
    "#### Second algebraic equation:"
   ]
  },
  {
   "cell_type": "code",
   "execution_count": null,
   "id": "05eb9e4c-30be-496d-a030-627681ab34d8",
   "metadata": {},
   "outputs": [],
   "source": [
    "den = np.sqrt(3) * (uBr ** 2 + uBi ** 2)\n",
    "assert np.abs(iLr - (P_load * uBr + Q_load * uBi) / den) < 1e-10\n",
    "assert np.abs(iLi - (-Q_load * uBr + P_load * uBi) / den) < 1e-10"
   ]
  },
  {
   "cell_type": "markdown",
   "id": "927fa7f3-07e0-4c73-8629-85c023dafc2d",
   "metadata": {},
   "source": [
    "#### Third algebraic equation:"
   ]
  },
  {
   "cell_type": "code",
   "execution_count": null,
   "id": "2d6857ae-eed2-45a2-977b-7fc4716963b2",
   "metadata": {},
   "outputs": [],
   "source": [
    "# the voltage of the ideal generator in the synchronous machine\n",
    "ve = uB + Z_gen * iG\n",
    "E0, ϕG = float(np.abs(ve)), float(np.angle(ve))\n",
    "assert np.abs(uBr + R_gen * iGr - X_gen * iGi - E0 * np.cos(ϕG)) < 1e-10\n",
    "assert np.abs(uBi + X_gen * iGr + R_gen * iGi - E0 * np.sin(ϕG)) < 1e-10"
   ]
  },
  {
   "cell_type": "markdown",
   "id": "84357372-87ab-4695-8eef-ca98b6d86179",
   "metadata": {},
   "source": [
    "### Torques\n",
    "General parameters:"
   ]
  },
  {
   "cell_type": "code",
   "execution_count": null,
   "id": "14e46505-0503-4392-aa24-e505a14bfd9d",
   "metadata": {},
   "outputs": [],
   "source": [
    "n = 1     # [pu]\n",
    "nref = 1  # [pu]\n",
    "cosn = 1  # rated power factor"
   ]
  },
  {
   "cell_type": "markdown",
   "id": "6186dc50-6f70-4778-a35f-a744beda2695",
   "metadata": {},
   "source": [
    "#### Electrical torque"
   ]
  },
  {
   "cell_type": "code",
   "execution_count": null,
   "id": "2a2d40e6-47c4-4ac9-8bd3-1633de7c2b1f",
   "metadata": {},
   "outputs": [],
   "source": [
    "ut = PF_gen['ur'] + 1j * PF_gen['ui']                    # [pu]\n",
    "it = PF_gen['ir'] + 1j * PF_gen['ii']                    # [pu]\n",
    "ψstr = (ut + rstr * it) / (1j * n)                       # [pu]\n",
    "te = (it.imag * ψstr.real - it.real * ψstr.imag) / cosn  # [pu]\n",
    "Te = te * T_base                                         # [Nm]\n",
    "print('Stator flux: {:g} p.u.'.format(ψstr))\n",
    "print('Electrical torque: {:g} p.u.'.format(te))\n",
    "print('Electrical torque: {:g} Nm'.format(Te))"
   ]
  },
  {
   "cell_type": "markdown",
   "id": "8b0765a9-93f6-4186-bf30-c52ec78f3c7e",
   "metadata": {},
   "source": [
    "#### Mechanical torque"
   ]
  },
  {
   "cell_type": "code",
   "execution_count": null,
   "id": "df3420d2-2b3a-4504-8c36-baaaaef787eb",
   "metadata": {},
   "outputs": [],
   "source": [
    "dpu   = 0\n",
    "xmdm  = 0\n",
    "addmt = 0\n",
    "pt = (te + dpu * n + xmdm) * n\n",
    "tm = pt / n - (xmdm + dpu * n - addmt)\n",
    "Tm = tm * T_base\n",
    "print('Mechanical torque: {:g} p.u.'.format(tm))\n",
    "print('Mechanical torque: {:g} Nm'.format(Tm))"
   ]
  },
  {
   "cell_type": "markdown",
   "id": "9eb4460b-012b-4e4b-a6a7-79ca0820b790",
   "metadata": {},
   "source": [
    "#### Damping torque"
   ]
  },
  {
   "cell_type": "code",
   "execution_count": null,
   "id": "1964c23a-f34a-49bd-9bdc-60e51a0700f4",
   "metadata": {},
   "outputs": [],
   "source": [
    "dkd, dpe = 0, 0\n",
    "tdkd = dkd * (n - nref)\n",
    "tdpe = dpe / n * (n - nref)\n",
    "Tdkd, Tdpe = tdkd * T_base, tdpe * T_base\n",
    "print('Damping torques: ({:g},{:g}) p.u.'.format(tdkd, tdpe))\n",
    "print('Damping torques: ({:g},{:g}) Nm.'.format(Tdkd, Tdpe))"
   ]
  },
  {
   "cell_type": "markdown",
   "id": "589ede4f-071a-4f25-b735-d48da72a55b3",
   "metadata": {},
   "source": [
    "#### First ODE:"
   ]
  },
  {
   "cell_type": "code",
   "execution_count": null,
   "id": "5b166a20-ce78-4d93-b088-7e6bc4634a43",
   "metadata": {},
   "outputs": [],
   "source": [
    "assert (tm - te - tdkd - tdpe) / tag * ω_base == 0\n",
    "assert (Tm - Te - Tdkd - Tdpe) / tag * ω_base == 0"
   ]
  },
  {
   "cell_type": "markdown",
   "id": "e30c2be1-6128-4b84-b9f5-efbc97496240",
   "metadata": {},
   "source": [
    "### The system of DAEs"
   ]
  },
  {
   "cell_type": "code",
   "execution_count": null,
   "id": "f3470361-8dc6-48ef-98f7-3d0ec05750b4",
   "metadata": {},
   "outputs": [],
   "source": [
    "class Parameters (object):\n",
    "    def __init__(self, **kwargs):\n",
    "        for k,v in kwargs.items():\n",
    "            setattr(self, k, v)\n",
    "    def __str__(self):\n",
    "        par_names = 'w_base', 'V_base', 'T_base', 'P_load', 'Q_load', 'Ggnd', 'rstr', \\\n",
    "            'R_gen', 'X_gen', 'tag', 'E0', 'phiG', 'cosn', 'I_base_gen', 'pt', 'xmdm', \\\n",
    "            'dpu', 'addmt'\n",
    "        return '\\n'.join(map(str, [getattr(self, name) for name in par_names]))\n",
    "\n",
    "def fun(t, y, ydot, params, res):\n",
    "    w, phi, uBr, uBi, iLr, iLi, iGr, iGi = y\n",
    "    wdot, phidot = ydot[:2]\n",
    "    den = np.sqrt(3) * (uBr ** 2 + uBi ** 2)\n",
    "\n",
    "    # mechanical torque\n",
    "    n = w / params.w_base\n",
    "    tm = params.pt / n - (params.xmdm + params.dpu * n - params.addmt)\n",
    "    Tm = tm * params.T_base\n",
    "\n",
    "    # electrical torque\n",
    "    n = 1 # neglect rotor speed variations\n",
    "    ut = (uBr + 1j * uBi) / params.V_base                          # [p.u.]\n",
    "    it = (iGr + 1j * iGi) / params.I_base_gen                      # [p.u.]\n",
    "    ψstr = (ut + params.rstr * it) / (1j * n)                      # [p.u.]\n",
    "    te = (it.imag * ψstr.real - it.real * ψstr.imag) / params.cosn # [p.u.]\n",
    "    Te = te * params.T_base                                        # [Nm]\n",
    "\n",
    "    res[0] = wdot - (tm - te) / params.tag * params.w_base\n",
    "    res[1] = phidot\n",
    "    res[2] = iGr - (iLr + params.Ggnd * uBr)\n",
    "    res[3] = iGi - (iLi + params.Ggnd * uBi)\n",
    "    res[4] = iLr - ( params.P_load * uBr + params.Q_load * uBi) / den\n",
    "    res[5] = iLi - (-params.Q_load * uBr + params.P_load * uBi) / den\n",
    "    res[6] = uBr + params.R_gen * iGr - params.X_gen * iGi - params.E0 * np.cos(params.phiG)\n",
    "    res[7] = uBi + params.X_gen * iGr + params.R_gen * iGi - params.E0 * np.sin(params.phiG)"
   ]
  },
  {
   "cell_type": "markdown",
   "id": "758c003f-cc13-4508-9369-627fb0a70c0d",
   "metadata": {},
   "source": [
    "#### Apply a step in the active power of the load\n",
    "\n",
    "The figures below taken from PowerFactory refer to a step in the load active power of +1%.\n",
    "\n",
    "First of all, check that at the PF the system is at an equilibrium:"
   ]
  },
  {
   "cell_type": "code",
   "execution_count": null,
   "id": "24237711-5dae-4cad-8918-86b2a4323363",
   "metadata": {},
   "outputs": [],
   "source": [
    "params = Parameters(w_base=ω_base, V_base=V_base, T_base=T_base, P_load=P_load,\n",
    "                    Q_load=Q_load, Ggnd=Ggnd_S, rstr=rstr, R_gen=R_gen, X_gen=X_gen,\n",
    "                    tag=tag, E0=E0, phiG=ϕG, cosn=cosn, I_base_gen=I_base_gen,\n",
    "                    pt=pt, xmdm=xmdm, dpu=dpu, addmt=addmt)\n",
    "y0 = np.array([ω_base, 0, uBr, uBi, iLr, iLi, iGr, iGi], dtype=float)\n",
    "ydot0 = np.zeros(8, dtype=float)\n",
    "res = np.zeros(8, dtype=float)\n",
    "fun(0, y0, ydot0, params, res)\n",
    "res"
   ]
  },
  {
   "cell_type": "raw",
   "id": "5355699e-b49b-437e-9d02-70760ad0172c",
   "metadata": {},
   "source": [
    "with open('../DAE_ICs_pars.txt', 'w') as fid:\n",
    "    fid.write(' '.join(map(str, y0)) + '\\n')\n",
    "    fid.write(' '.join(map(str, ydot0)) + '\\n')\n",
    "    fid.write(params.__str__())"
   ]
  },
  {
   "cell_type": "code",
   "execution_count": null,
   "id": "7887bc33-9723-4342-8141-686a81d35454",
   "metadata": {},
   "outputs": [],
   "source": []
  },
  {
   "cell_type": "markdown",
   "id": "00679b65-5dba-4947-ac23-3d0bfc5eb817",
   "metadata": {},
   "source": [
    "Integrate the system:"
   ]
  },
  {
   "cell_type": "code",
   "execution_count": null,
   "id": "1c9012fb-2064-4113-982e-93d8b5d630aa",
   "metadata": {},
   "outputs": [],
   "source": [
    "algebraic_vars_idx = [2, 3, 4, 5, 6, 7]\n",
    "solver = dae('ida', lambda t,y,ydot,res: fun(t, y, ydot, params, res), \n",
    "             compute_initcond='yp0',\n",
    "             first_step_size=1e-12,\n",
    "             atol=1e-4,\n",
    "             rtol=1e-4,\n",
    "             algebraic_vars_idx=algebraic_vars_idx,\n",
    "             compute_initcond_t0=10,\n",
    "             old_api=False)\n",
    "dt = 5e-3\n",
    "t0, t1 = 0, 60\n",
    "t_eval = np.r_[t0 : t1 : dt]\n",
    "sol1 = solver.solve(t_eval, y0, ydot0)"
   ]
  },
  {
   "cell_type": "markdown",
   "id": "65f13da5-7a04-46c6-a126-a761deb4a981",
   "metadata": {},
   "source": [
    "Change the value of the load:"
   ]
  },
  {
   "cell_type": "code",
   "execution_count": null,
   "id": "9ee8586b-e010-4337-868e-d01af619ca49",
   "metadata": {},
   "outputs": [],
   "source": [
    "params.P_load *= 1.01\n",
    "y0 = sol1.values.y[-1,:]\n",
    "ydot0 = sol1.values.ydot[-1,:]\n",
    "fun(t1, y0, ydot0, params, res)\n",
    "res"
   ]
  },
  {
   "cell_type": "markdown",
   "id": "f020fafb-f52e-48a4-8b4f-0db01f9dcb7c",
   "metadata": {},
   "source": [
    "Perform a second integration:"
   ]
  },
  {
   "cell_type": "code",
   "execution_count": null,
   "id": "991d2a87-c13f-473e-929b-0f119c2453d2",
   "metadata": {},
   "outputs": [],
   "source": [
    "t0, t1 = t1, t1+300\n",
    "t_eval = np.r_[t0 : t1 : dt]\n",
    "sol2 = solver.solve(t_eval, y0, ydot0)"
   ]
  },
  {
   "cell_type": "markdown",
   "id": "386efe1c-56ea-444f-b079-3c2aa92b8145",
   "metadata": {},
   "source": [
    "### Results comparison\n",
    "\n",
    "#### Generator speed\n",
    "\n",
    "PowerFactory results:\n",
    "\n",
    "<img src=\"../data/SM_with_load/adynamic_load_const_S/LD1/generator_speed.png\" width=700px>"
   ]
  },
  {
   "cell_type": "code",
   "execution_count": null,
   "id": "7baaf10f-cbd7-47c2-992d-6e928e6af47e",
   "metadata": {},
   "outputs": [],
   "source": [
    "ω_1 = sol1.values.y[:,0] / ω_base\n",
    "ω_2 = sol2.values.y[:,0] / ω_base\n",
    "fig,ax = plt.subplots(1, 1, figsize=(5,3))\n",
    "ax.plot(sol1.values.t, ω_1, 'k', lw=1)\n",
    "ax.plot(sol2.values.t, ω_2, 'r', lw=1)\n",
    "ax.set_xlabel('Time [s]')\n",
    "ax.set_ylabel('Generator speed [p.u.]')\n",
    "sns.despine()\n",
    "fig.tight_layout()"
   ]
  },
  {
   "cell_type": "markdown",
   "id": "40c33c30-50a1-4a41-a860-d781a00d0e73",
   "metadata": {},
   "source": [
    "#### Line-ground voltage\n",
    "\n",
    "PowerFactory results:\n",
    "\n",
    "<img src=\"../data/SM_with_load/adynamic_load_const_S/LD1/bus_voltage_load_step.png\" width=700px>"
   ]
  },
  {
   "cell_type": "code",
   "execution_count": null,
   "id": "b22d3c81-baea-4d27-a6ff-02164e391f3f",
   "metadata": {},
   "outputs": [],
   "source": [
    "ur, ui = sol1.values.y[:,2], sol1.values.y[:,3]\n",
    "V_bus_1 = np.abs(ur + 1j * ui) / np.sqrt(3) * 1e-3\n",
    "ur, ui = sol2.values.y[:,2], sol2.values.y[:,3]\n",
    "V_bus_2 = np.abs(ur + 1j * ui) / np.sqrt(3) * 1e-3\n",
    "fig,ax = plt.subplots(1, 1, figsize=(5,3))\n",
    "ax.plot(sol1.values.t, V_bus_1, 'k', lw=1)\n",
    "ax.plot(sol2.values.t, V_bus_2, 'r', lw=1)\n",
    "ax.set_xlabel('Time [s]')\n",
    "ax.set_ylabel('Line-Ground voltage [kV]')\n",
    "sns.despine()\n",
    "fig.tight_layout()\n",
    "print('Line-ground voltage before load step: {:g} kV'.format(V_bus_1[-1]))\n",
    "print('Line-ground voltage  after load step: {:g} kV'.format(V_bus_2[-1]))"
   ]
  },
  {
   "cell_type": "markdown",
   "id": "e6349ac8-0be6-4e6a-8977-cec6f40e03a4",
   "metadata": {},
   "source": [
    "#### Load and generator currents\n",
    "\n",
    "PowerFactory results:\n",
    "\n",
    "<img src=\"../data/SM_with_load/adynamic_load_const_S/LD1/load_generator_currents_load_step.png\" width=700px>"
   ]
  },
  {
   "cell_type": "code",
   "execution_count": null,
   "id": "dec87f2d-96eb-48d3-8421-f8fd02de588a",
   "metadata": {},
   "outputs": [],
   "source": [
    "iLr, iLi = sol1.values.y[:,4], sol1.values.y[:,5]\n",
    "I_load_1 = np.abs(iLr + 1j * iLi)\n",
    "iLr, iLi = sol2.values.y[:,4], sol2.values.y[:,5]\n",
    "I_load_2 = np.abs(iLr + 1j * iLi)\n",
    "iGr, iGi = sol1.values.y[:,6], sol1.values.y[:,7]\n",
    "I_gen_1 = np.abs(iGr + 1j * iGi)\n",
    "iGr, iGi = sol2.values.y[:,6], sol2.values.y[:,7]\n",
    "I_gen_2 = np.abs(iGr + 1j * iGi)\n",
    "fig,ax = plt.subplots(2, 1, figsize=(5,5), sharex=True)\n",
    "ax[0].plot(sol1.values.t, I_load_1, 'k', lw=1)\n",
    "ax[0].plot(sol2.values.t, I_load_2, 'r', lw=1)\n",
    "ax[1].plot(sol1.values.t, I_gen_1, 'k', lw=1)\n",
    "ax[1].plot(sol2.values.t, I_gen_2, 'r', lw=1)\n",
    "ax[-1].set_xlabel('Time [s]')\n",
    "ax[0].set_ylabel('Load current [A]')\n",
    "ax[1].set_ylabel('Generator current [A]')\n",
    "sns.despine()\n",
    "fig.tight_layout()\n",
    "print('Load current before load step: {:g} kV'.format(I_load_1[-1]))\n",
    "print('Load current  after load step: {:g} kV'.format(I_load_2[-1]))\n",
    "print('Generator current before load step: {:g} kV'.format(I_gen_1[-1]))\n",
    "print('Generator current  after load step: {:g} kV'.format(I_gen_2[-1]))"
   ]
  }
 ],
 "metadata": {
  "kernelspec": {
   "display_name": "Python 3 (ipykernel)",
   "language": "python",
   "name": "python3"
  },
  "language_info": {
   "codemirror_mode": {
    "name": "ipython",
    "version": 3
   },
   "file_extension": ".py",
   "mimetype": "text/x-python",
   "name": "python",
   "nbconvert_exporter": "python",
   "pygments_lexer": "ipython3",
   "version": "3.10.17"
  }
 },
 "nbformat": 4,
 "nbformat_minor": 5
}
