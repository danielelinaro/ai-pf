{
 "cells": [
  {
   "cell_type": "code",
   "execution_count": null,
   "id": "e1cf9224",
   "metadata": {},
   "outputs": [],
   "source": [
    "import os\n",
    "import sys\n",
    "from tqdm.notebook import tqdm\n",
    "import numpy as np\n",
    "from scipy.signal import lti, lsim, welch\n",
    "if not '..' in sys.path:\n",
    "    sys.path.append('..')\n",
    "from pfcommon import OU_2, combine_output_spectra\n",
    "\n",
    "dB = 10"
   ]
  },
  {
   "cell_type": "code",
   "execution_count": null,
   "id": "16431ba5",
   "metadata": {},
   "outputs": [],
   "source": [
    "import matplotlib\n",
    "import matplotlib.pyplot as plt\n",
    "from matplotlib.ticker import FixedLocator, NullLocator, FixedFormatter\n",
    "import seaborn as sns\n",
    "\n",
    "fontsize = 9\n",
    "lw = 0.75\n",
    "matplotlib.rc('font', **{'family': 'Times', 'size': fontsize})\n",
    "matplotlib.rc('axes', **{'linewidth': 0.75, 'labelsize': fontsize})\n",
    "matplotlib.rc('xtick', **{'labelsize': fontsize})\n",
    "matplotlib.rc('ytick', **{'labelsize': fontsize})\n",
    "matplotlib.rc('xtick.major', **{'width': lw, 'size':3})\n",
    "matplotlib.rc('ytick.major', **{'width': lw, 'size':3})\n",
    "matplotlib.rc('ytick.minor', **{'width': lw, 'size':1.5})"
   ]
  },
  {
   "cell_type": "markdown",
   "id": "140ccc92",
   "metadata": {},
   "source": [
    "Load the data:"
   ]
  },
  {
   "cell_type": "code",
   "execution_count": null,
   "id": "5f8e1a58",
   "metadata": {},
   "outputs": [],
   "source": [
    "N = 100\n",
    "data_file = os.path.join('..','data','Sardinia','SM_configs_from_data','001',\n",
    "                         'V2020_Rete_Sardegna_2021_06_03cr_AC_TF_-6.0_2.0_{}.npz'.format(N))\n",
    "data = np.load(data_file, allow_pickle=True)\n",
    "F = data['F']\n",
    "TF = data['TF'][1:,:,:]\n",
    "OUT = data['OUT'][1:,:,:]\n",
    "var_names = list(data['var_names'])\n",
    "load_names = list(data['load_names'])[1:]\n",
    "N_loads = len(load_names)\n",
    "# power flow solution\n",
    "PF = data['PF'].item()\n",
    "# power absorbed by the loads\n",
    "P_loads = np.array([PF['loads'][name]['P'] for name in load_names]) # [MW]\n",
    "# figure labels\n",
    "labels = ['{}: {:.1f} MW'.format(name.split('__')[0][4:9], P) for name,P in zip(load_names, P_loads)]"
   ]
  },
  {
   "cell_type": "code",
   "execution_count": null,
   "id": "eb57f5c5",
   "metadata": {},
   "outputs": [],
   "source": [
    "var_type = 'm:ur'\n",
    "if var_type == 's:xspeed':\n",
    "    var_name = 'Grid-CODCTI-CODCTI0201________SUBNET__-CODCTI0201GGR1____GEN_____.ElmSym.speed'\n",
    "elif var_type == 'm:fe':\n",
    "#     var_name = 'Grid-BNFC_I-BNFC_I0601________SUBNET__-BNFC_I0601A1______BUS_____.ElmTerm.fe'\n",
    "    var_name = 'Grid-CODCTI-CODCTI3801________SUBNET__-CODCTI3801B1______BUS_____.ElmTerm.fe'\n",
    "elif var_type == 'm:ur':\n",
    "#     var_name = 'Grid-BNFC_I-BNFC_I0601________SUBNET__-BNFC_I0601A1______BUS_____.ElmTerm.ur'\n",
    "    var_name = 'Grid-CODCTI-CODCTI3801________SUBNET__-CODCTI3801B1______BUS_____.ElmTerm.ur'\n",
    "else:\n",
    "    raise Exception(f\"Unknown variable type '{var_type}'\")\n",
    "IDX = var_names.index(var_name)"
   ]
  },
  {
   "cell_type": "code",
   "execution_count": null,
   "id": "eda3d52a",
   "metadata": {},
   "outputs": [],
   "source": [
    "device_name = os.path.splitext(var_name)[0]\n",
    "F0 = 50.\n",
    "OUT_multi = combine_output_spectra(OUT,\n",
    "                                   var_type,\n",
    "                                   [device_name],\n",
    "                                   var_names,\n",
    "                                   data['ref_SM_name'].item(),\n",
    "                                   data['F'],\n",
    "                                   F0,\n",
    "                                   data['PF'].item(),\n",
    "                                   data['bus_equiv_terms'].item(),\n",
    "                                   dB=None)\n",
    "out_multi = OUT_multi[device_name]"
   ]
  },
  {
   "cell_type": "code",
   "execution_count": null,
   "id": "40e71f92",
   "metadata": {},
   "outputs": [],
   "source": [
    "fig,ax = plt.subplots(1, 1, figsize=(5,3.5))\n",
    "cmap = plt.get_cmap('viridis', N_loads)\n",
    "ax.semilogx(F, dB*np.log10(np.abs(out_multi)), 'k', lw=2, label='Total')\n",
    "for i in range(N_loads):\n",
    "    ax.semilogx(F, dB*np.log10(np.abs(OUT[i,:,IDX])), color=cmap(i), lw=1, label=labels[i])\n",
    "ax.set_xlabel('Frequency [Hz]')\n",
    "ax.legend(loc='lower left', frameon=False, fontsize=9)\n",
    "ax.set_ylabel('PSD [dB]')\n",
    "sns.despine()\n",
    "fig.tight_layout()"
   ]
  },
  {
   "cell_type": "markdown",
   "id": "7f984b38",
   "metadata": {},
   "source": [
    "Performs the vector fitting for a given number of poles:"
   ]
  },
  {
   "cell_type": "code",
   "execution_count": null,
   "id": "28dcd15f",
   "metadata": {},
   "outputs": [],
   "source": [
    "def run_vf(X, F, n_poles, n_iter=3, weights=None, poles_guess=None, do_plot=False):\n",
    "    Y = X.astype(np.complex128)\n",
    "    if weights is None:\n",
    "        weights = np.ones(F.size, dtype=np.float64)\n",
    "    else:\n",
    "        assert weights.size == F.size\n",
    "        weights = weights.astype(np.float64)\n",
    "\n",
    "    F0,F1 = np.log10(F[[0,-1]])\n",
    "    s = (2j*np.pi*F).astype(np.complex128)\n",
    "\n",
    "    import vectfit3 as vf\n",
    "    opts = vf.opts.copy()\n",
    "    opts['asymp'] = 2\n",
    "    opts['skip_res'] = True  # skip residue computation\n",
    "    opts['spy2'] = False     # do not plot the results\n",
    "\n",
    "    # initial guess for pole positions\n",
    "    if poles_guess is not None:\n",
    "        poles = poles_guess\n",
    "    else:\n",
    "        # logarithmically evenly spaced poles in the range [F0,F1]\n",
    "        poles = -2*np.pi*np.logspace(F0, F1, n_poles, dtype=np.complex128)\n",
    "    for i in range(n_iter):\n",
    "        if i == n_iter-1:\n",
    "            opts['skip_res'] = False\n",
    "            opts['spy2'] = do_plot\n",
    "        SER,poles,rmserr,fit = vf.vectfit(Y, s, poles, weights, opts)\n",
    "    return SER,poles,rmserr,fit"
   ]
  },
  {
   "cell_type": "markdown",
   "id": "d7bc803d",
   "metadata": {},
   "source": [
    "Choose the number of poles based on a threshold of the RMS error:"
   ]
  },
  {
   "cell_type": "code",
   "execution_count": null,
   "id": "edeea172",
   "metadata": {},
   "outputs": [],
   "source": [
    "N_poles = np.zeros(N_loads, dtype=int)\n",
    "SER = []\n",
    "poles = []\n",
    "rms_err = np.zeros(N_loads)\n",
    "rms_thresh = np.zeros(N_loads)\n",
    "fit = np.zeros((N_loads, F.size), dtype=complex)\n",
    "systems = []\n",
    "max_N_poles = 50\n",
    "for i in range(N_loads):\n",
    "    rms_thresh[i] = 10 ** (np.floor(np.log10(np.abs(TF[i,:,IDX]).mean())) - 3)\n",
    "    for n in range(max_N_poles):\n",
    "        ser,p,rms_err[i],fit[i,:] = run_vf(TF[i,:,IDX], F, n+1)\n",
    "        if abs(rms_err[i]) < rms_thresh[i]:\n",
    "            break\n",
    "    SER.append(ser)\n",
    "    poles.append(p)\n",
    "    N_poles[i] = n+1\n",
    "    systems.append(lti(SER[i]['A'],SER[i]['B'],SER[i]['C'],SER[i]['D']))\n",
    "    print('[{:2d}] # of poles sufficient to have an RMS error below {:g}: {}.'.\\\n",
    "          format(i+1, rms_thresh[i], N_poles[i]))"
   ]
  },
  {
   "cell_type": "markdown",
   "id": "59187081",
   "metadata": {},
   "source": [
    "The results of the vector fitting:"
   ]
  },
  {
   "cell_type": "code",
   "execution_count": null,
   "id": "00eb72a5",
   "metadata": {},
   "outputs": [],
   "source": [
    "fig,ax = plt.subplots(1, 1, figsize=(5,3.5))\n",
    "for i in range(N_loads):\n",
    "    col = np.array(cmap(i)) + 0.3\n",
    "    col[col > 1] = 1\n",
    "    ax.plot(F, dB*np.log10(np.abs(TF[i,:,IDX])), color=cmap(i), lw=2, label=labels[i])\n",
    "    ax.plot(F, dB*np.log10(np.abs(fit[i])), '--', color=col, lw=1)\n",
    "ax.set_xscale('log')\n",
    "ax.set_xlabel('Frequency [Hz]')\n",
    "ax.legend(loc='lower left', frameon=False, fontsize=9)\n",
    "ax.set_ylabel('PSD [dB]')\n",
    "sns.despine()\n",
    "fig.tight_layout()"
   ]
  },
  {
   "cell_type": "markdown",
   "id": "9de58fe9",
   "metadata": {},
   "source": [
    "Generate an OU process with the appropriate statistics:"
   ]
  },
  {
   "cell_type": "code",
   "execution_count": null,
   "id": "4f58e402",
   "metadata": {},
   "outputs": [],
   "source": [
    "tend = 10800\n",
    "srate = 200\n",
    "dt = 1/srate\n",
    "mean,stddev,tau = 0,0.1*P_loads,20e-3\n",
    "μ,c,α = mean,stddev*np.sqrt(2/tau),1/tau\n",
    "cutoff = α/(2*np.pi)\n",
    "time = np.r_[0 : tend+dt/2 : dt]\n",
    "N_samples = time.size\n",
    "U = np.zeros((N_loads,N_samples))\n",
    "for i in tqdm(range(N_loads)):\n",
    "    U[i,:] = OU_2(dt, α, μ, c[i], N_samples)"
   ]
  },
  {
   "cell_type": "markdown",
   "id": "d1f6913c",
   "metadata": {},
   "source": [
    "Filter the OU process with the TFs extracted above:"
   ]
  },
  {
   "cell_type": "code",
   "execution_count": null,
   "id": "47d8bd3e",
   "metadata": {},
   "outputs": [],
   "source": [
    "Y = []\n",
    "for i in tqdm(range(N_loads)):\n",
    "    _,y,_ = lsim(systems[i], U[i,:], time)\n",
    "    assert y.imag.max() < 1e-10\n",
    "    Y.append(y.real)\n",
    "Y = np.array(Y)"
   ]
  },
  {
   "cell_type": "markdown",
   "id": "cdd04916",
   "metadata": {},
   "source": [
    "Plot the OU process and the corresponding filtered signal:"
   ]
  },
  {
   "cell_type": "code",
   "execution_count": null,
   "id": "3941da0c",
   "metadata": {},
   "outputs": [],
   "source": [
    "ds = 100\n",
    "fig,ax = plt.subplots(N_loads, 2, figsize=(8,1*N_loads), sharex=True)\n",
    "for i in range(N_loads):\n",
    "    ax[i,0].plot(time[::ds], U[i,::ds], 'k', lw=0.5, label='U')\n",
    "    ax[i,1].plot(time[::ds], Y[i,::ds], 'r', lw=0.5, label='Y')\n",
    "    ax[i,0].set_ylabel('U [MW]')\n",
    "    ax[i,1].set_ylabel('Y [MW]')\n",
    "for a in ax[-1,:]:\n",
    "    a.set_xlabel('Time [s]')\n",
    "sns.despine()\n",
    "fig.tight_layout()"
   ]
  },
  {
   "cell_type": "markdown",
   "id": "ac303024",
   "metadata": {},
   "source": [
    "Compute the PSDs:"
   ]
  },
  {
   "cell_type": "code",
   "execution_count": null,
   "id": "ea819911",
   "metadata": {},
   "outputs": [],
   "source": [
    "window = 200 / dt\n",
    "onesided = True\n",
    "def run_welch(x, dt, window, onesided):\n",
    "    freq,P = welch(x, 1/dt, window='hamming',\n",
    "                   nperseg=window, noverlap=window/2,\n",
    "                   return_onesided=onesided, scaling='density')\n",
    "    if onesided:\n",
    "        P /= 2\n",
    "    else:\n",
    "        Nf = freq.size\n",
    "        freq = freq[:Nf//2]\n",
    "        P = P[:Nf//2]\n",
    "    return freq, P, np.sqrt(P)\n",
    "\n",
    "P_U,abs_U = [],[]\n",
    "for i in range(N_loads):\n",
    "    _,pu,absu = run_welch(U[i,:], dt, window, onesided)\n",
    "    P_U.append(pu)\n",
    "    abs_U.append(absu)\n",
    "P_U,abs_U = np.array(P_U),np.array(abs_U)\n",
    "P_U_dB = dB*np.log10(P_U)\n",
    "abs_U_dB = dB*np.log10(abs_U)\n",
    "\n",
    "P_Y,abs_Y = [],[]\n",
    "for i in range(N_loads):\n",
    "    _,py,absy = run_welch(Y[i,:], dt, window, onesided)\n",
    "    P_Y.append(py)\n",
    "    abs_Y.append(absy)\n",
    "P_Y_dB = dB*np.log10(P_Y)\n",
    "abs_Y_dB = dB*np.log10(abs_Y)\n",
    "freq,P_Y_multi,abs_Y_multi = run_welch(Y.sum(axis=0), dt, window, onesided)\n",
    "P_Y_multi_dB = dB*np.log10(P_Y_multi)\n",
    "abs_Y_multi_dB = dB*np.log10(abs_Y_multi)\n",
    "\n",
    "P_U_theor = np.array([(ci/α)**2 / (1 + (2*np.pi*F/α)**2) for ci in c])\n",
    "P_U_theor_dB = dB*np.log10(P_U_theor)\n",
    "abs_U_theor = np.sqrt(P_U_theor)\n",
    "abs_U_theor_dB = dB*np.log10(abs_U_theor)\n",
    "\n",
    "abs_TFxU = np.abs(TF[:,:,IDX]) * abs_U_theor\n",
    "P_TFxU = abs_TFxU**2\n",
    "abs_TFxU_dB = dB*np.log10(abs_TFxU)\n",
    "P_TFxU_dB = dB*np.log10(P_TFxU)"
   ]
  },
  {
   "cell_type": "markdown",
   "id": "bd68ac06",
   "metadata": {},
   "source": [
    "Plot the PSDs:"
   ]
  },
  {
   "cell_type": "code",
   "execution_count": null,
   "id": "242d8bec",
   "metadata": {},
   "outputs": [],
   "source": [
    "fig,ax = plt.subplots(1, 2, figsize=(8,4), sharex=True)\n",
    "\n",
    "for i in range(N_loads):\n",
    "    col = np.array(cmap(i)[:3]) + 0.3\n",
    "    col[col>1] = 1\n",
    "    ax[0].plot(freq, abs_U[i,:], color=cmap(i), lw=0.75, label=labels[i])\n",
    "    ax[0].plot(F, abs_U_theor[i,:], color=cmap(i), lw=2)\n",
    "    ax[1].plot(F, np.abs(OUT[i,:,IDX]), color=cmap(i), lw=1)\n",
    "\n",
    "ax[0].plot(cutoff+np.zeros(2), ax[0].get_ylim(), '--', color=[1,0,0], lw=1, label='OU cutoff')\n",
    "ax[1].plot(F, np.abs(out_multi), 'k', lw=2, label='OUT')\n",
    "ax[1].plot(freq, abs_Y_multi, color=[1,.5,0], lw=1, label='Y', alpha=0.75)\n",
    "\n",
    "for a in ax:\n",
    "    a.legend(loc='upper left', frameon=False)\n",
    "    a.set_xscale('log')\n",
    "    a.set_xlabel('Frequency [Hz]')\n",
    "ax[0].set_ylabel('|U(j$\\omega$)|')\n",
    "\n",
    "sns.despine()\n",
    "fig.tight_layout()"
   ]
  },
  {
   "cell_type": "code",
   "execution_count": null,
   "id": "512704f6",
   "metadata": {},
   "outputs": [],
   "source": [
    "i = 0\n",
    "gray = 0.7 + np.zeros(3)\n",
    "fig,ax = plt.subplots(3, 1, figsize=(3.5,4.5), sharex=True)\n",
    "ax[0].plot(freq[1:], P_U_dB[i,1:], color=gray, lw=0.75, label='OU')\n",
    "ax[0].plot(F, P_U_theor_dB[i,:], 'k', lw=2, label='OU theor.')\n",
    "ax[0].plot(cutoff+np.zeros(2), ax[0].get_ylim(), '--', color='k',\n",
    "           lw=1, label='OU cutoff')\n",
    "ax[1].plot(F, dB*np.log10(np.abs(TF[i,:,IDX])), 'k', lw=2, label='TF')\n",
    "ax[1].plot(F, dB*np.log10(np.abs(fit[i,:])), color=gray,\n",
    "           lw=1, label=f'Fit (# poles = {N_poles[i]})')\n",
    "ax[2].plot(freq, P_Y_dB[i,:], color=gray, lw=1, label='OUT')\n",
    "ax[2].plot(F, P_TFxU_dB[i,:], 'k', lw=1, label='TF x OU theor.')\n",
    "\n",
    "ax[0].set_ylabel('PSD')\n",
    "ax[1].set_ylabel(r'|Y(j$\\omega$)| [dB{}]'.format(dB))\n",
    "ax[2].set_ylabel('PSD')\n",
    "ticks = np.logspace(-3,2,6)\n",
    "for a in ax:\n",
    "    a.xaxis.set_major_locator(FixedLocator(ticks))\n",
    "    a.xaxis.set_minor_locator(NullLocator())\n",
    "    a.set_xscale('log')\n",
    "    a.grid(which='major', axis='x', ls=':', lw=0.5, color=[.6,.6,.6])\n",
    "ax[0].legend(loc='lower left', frameon=False, fontsize=8)\n",
    "ax[1].legend(loc='best', bbox_to_anchor=(0.55, 0.6, 0.5, 0.5), frameon=False, fontsize=8)\n",
    "ax[2].legend(loc='lower left', frameon=False, fontsize=8)\n",
    "ax[-1].set_xlim(ticks[[0,-1]])\n",
    "ax[-1].set_xlabel('Frequency [Hz]')\n",
    "sns.despine()\n",
    "fig.tight_layout()\n",
    "plt.savefig('spectra_input_output_{}.pdf'.format(labels[i].replace(':','').replace(' ','_')))"
   ]
  }
 ],
 "metadata": {
  "kernelspec": {
   "display_name": "Python 3 (ipykernel)",
   "language": "python",
   "name": "python3"
  },
  "language_info": {
   "codemirror_mode": {
    "name": "ipython",
    "version": 3
   },
   "file_extension": ".py",
   "mimetype": "text/x-python",
   "name": "python",
   "nbconvert_exporter": "python",
   "pygments_lexer": "ipython3",
   "version": "3.10.14"
  }
 },
 "nbformat": 4,
 "nbformat_minor": 5
}
