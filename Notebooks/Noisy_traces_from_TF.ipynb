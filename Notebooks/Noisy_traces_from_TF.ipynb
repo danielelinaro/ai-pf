{
 "cells": [
  {
   "cell_type": "markdown",
   "id": "af94cf91-c8ef-4b32-a7a0-c60257712685",
   "metadata": {},
   "source": [
    "__DO NOT USE THIS NOTEBOOK!__\n",
    "\n",
    "Use [this](Spectra_comparison_tran_small_signal_Sardinia.ipynb) instead."
   ]
  },
  {
   "cell_type": "code",
   "execution_count": null,
   "id": "e1cf9224",
   "metadata": {},
   "outputs": [],
   "source": [
    "import os\n",
    "import sys\n",
    "from tqdm.notebook import tqdm\n",
    "import numpy as np\n",
    "from scipy.signal import lti, lsim, welch\n",
    "if not '..' in sys.path:\n",
    "    sys.path.append('..')\n",
    "from pfcommon import OU_2, combine_output_spectra\n",
    "\n",
    "dB = 10"
   ]
  },
  {
   "cell_type": "code",
   "execution_count": null,
   "id": "16431ba5",
   "metadata": {},
   "outputs": [],
   "source": [
    "import matplotlib\n",
    "import matplotlib.pyplot as plt\n",
    "from matplotlib.ticker import FixedLocator, NullLocator, FixedFormatter\n",
    "import seaborn as sns\n",
    "\n",
    "fontsize = 9\n",
    "lw = 0.75\n",
    "matplotlib.rc('font', **{'family': 'Times', 'size': fontsize})\n",
    "matplotlib.rc('axes', **{'linewidth': 0.75, 'labelsize': fontsize})\n",
    "matplotlib.rc('xtick', **{'labelsize': fontsize})\n",
    "matplotlib.rc('ytick', **{'labelsize': fontsize})\n",
    "matplotlib.rc('xtick.major', **{'width': lw, 'size':3})\n",
    "matplotlib.rc('ytick.major', **{'width': lw, 'size':3})\n",
    "matplotlib.rc('ytick.minor', **{'width': lw, 'size':1.5})"
   ]
  },
  {
   "cell_type": "markdown",
   "id": "140ccc92",
   "metadata": {},
   "source": [
    "Load the data:"
   ]
  },
  {
   "cell_type": "code",
   "execution_count": null,
   "id": "5f8e1a58",
   "metadata": {},
   "outputs": [],
   "source": [
    "N = 100\n",
    "data_file = os.path.join('..','data','Sardinia','SM_configs_from_data','001',\n",
    "                         'V2020_Rete_Sardegna_2021_06_03cr_AC_TF_-6.0_2.0_{}.npz'.format(N))\n",
    "data = np.load(data_file, allow_pickle=True)\n",
    "# names of all the variables for which we have some transfer function\n",
    "all_var_names = list(data['var_names'])\n",
    "# names of all the loads that were used as inputs in the computation of the transfer functions\n",
    "all_load_names = list(data['load_names'])\n",
    "# power flow solution\n",
    "PF = data['PF'].item()"
   ]
  },
  {
   "cell_type": "code",
   "execution_count": null,
   "id": "198edebb",
   "metadata": {},
   "outputs": [],
   "source": [
    "# names of the loads that we want to use as input\n",
    "load_names = ['EqX_MIMC_I2201TR1_____LOAD____', 'EqX_ALIC_I1501TR1_____LOAD____']\n",
    "N_loads = len(load_names)\n",
    "loads_idx = [all_load_names.index(load_name) for load_name in load_names]\n",
    "# power absorbed by the loads\n",
    "P_loads = np.array([PF['loads'][name]['P'] for name in load_names]) # [MW]\n",
    "# figure labels\n",
    "labels = ['{}: {:.1f} MW'.format(name.split('__')[0][4:9], P) for name,P in zip(load_names, P_loads)]"
   ]
  },
  {
   "cell_type": "code",
   "execution_count": null,
   "id": "eb57f5c5",
   "metadata": {},
   "outputs": [],
   "source": [
    "# 's:xspeed'\n",
    "# 'Grid-CODCTI-CODCTI0201________SUBNET__-CODCTI0201GGR1____GEN_____.ElmSym.speed'\n",
    "\n",
    "# 'm:fe'\n",
    "# 'Grid-BNFC_I-BNFC_I0601________SUBNET__-BNFC_I0601A1______BUS_____.ElmTerm.fe'\n",
    "# 'Grid-CODCTI-CODCTI3801________SUBNET__-CODCTI3801B1______BUS_____.ElmTerm.fe'\n",
    "\n",
    "# 'm:ur'\n",
    "# 'Grid-BNFC_I-BNFC_I0601________SUBNET__-BNFC_I0601A1______BUS_____.ElmTerm.ur'\n",
    "# 'Grid-CODCTI-CODCTI3801________SUBNET__-CODCTI3801B1______BUS_____.ElmTerm.ur'\n",
    "\n",
    "var_types = ['m:ur','m:ur']\n",
    "# names of the \"output\" variables of which we want to compute the PSD\n",
    "var_names = ['Grid-NARCDI-NARCDI1501________SUBNET__-NARCDI1501A5______BUS_____.ElmTerm.ur',\n",
    "             'Grid-BDNC_I-BDNC_I1501________SUBNET__-BDNC_I1501A2______BUS_____.ElmTerm.ur']\n",
    "N_vars = len(var_names)\n",
    "vars_idx = [all_var_names.index(var_name) for var_name in var_names]\n",
    "\n",
    "titles = []\n",
    "for i in range(N_vars):\n",
    "    title = var_names[i].split('-')[-1].split('.')[0].split('__')[0]\n",
    "    title += '.' + '.'.join(var_names[i].split('.')[-2:])\n",
    "    titles.append(title)"
   ]
  },
  {
   "cell_type": "code",
   "execution_count": null,
   "id": "0eabb869",
   "metadata": {},
   "outputs": [],
   "source": [
    "N_freq_samples,N_all_loads,N_all_vars = data['TF'].shape\n",
    "print('The shape of the TF matrix is {}x{}x{} (# of frequency samples by # of loads by # of variables).'.\\\n",
    "      format(N_freq_samples,N_all_loads,N_all_vars))"
   ]
  },
  {
   "cell_type": "markdown",
   "id": "f3e8d553",
   "metadata": {},
   "source": [
    "In the following, we must use meshgrid to create indexing matrixes, since the variables `loads_idx` and `vars_idx` are not slices. Using\n",
    "\n",
    "`TF = data['TF'][:, loads_idx, vars_idx]`\n",
    "\n",
    "would only work if `loads_idx` and `vars_idx` had the same shape and in any case would not return the subset of rows and columns expected. See [here](https://numpy.org/doc/stable/user/basics.indexing.html#integer-array-indexing) for a thorough explanation of indexing on ndarrays."
   ]
  },
  {
   "cell_type": "code",
   "execution_count": null,
   "id": "e2caf5f8",
   "metadata": {},
   "outputs": [],
   "source": [
    "LOADS_IDX,VARS_IDX = np.meshgrid(loads_idx, vars_idx, indexing='ij')\n",
    "TF = data['TF'][:, LOADS_IDX, VARS_IDX]"
   ]
  },
  {
   "cell_type": "code",
   "execution_count": null,
   "id": "eda3d52a",
   "metadata": {},
   "outputs": [],
   "source": [
    "OUT = data['OUT']\n",
    "F = data['F']\n",
    "F0 = 50.\n",
    "out_multi = combine_output_spectra(OUT, load_names, var_names, all_load_names, all_var_names,\n",
    "                                   var_types, F, PF, data['bus_equiv_terms'].item())"
   ]
  },
  {
   "cell_type": "code",
   "execution_count": null,
   "id": "40e71f92",
   "metadata": {},
   "outputs": [],
   "source": [
    "fig,ax = plt.subplots(N_vars, 1, figsize=(5,2.5*N_vars), squeeze=False)\n",
    "ax = ax[:,0]\n",
    "cmap = plt.get_cmap('viridis', N_loads)\n",
    "use_dBs = False\n",
    "loc = 'lower left' if use_dBs else 'upper left'\n",
    "\n",
    "for i in range(N_vars):\n",
    "    y = np.abs(out_multi[i])\n",
    "    if use_dBs:\n",
    "        y = dB*np.log10(y)\n",
    "    ax[i].semilogx(F, y, 'k', lw=2, label='Total')\n",
    "    ax[i].set_ylabel('PSD [dB]')\n",
    "    ax[i].set_title(titles[i])\n",
    "    for j in range(N_loads):\n",
    "        y = np.abs(OUT[:,loads_idx[j],vars_idx[i]])\n",
    "        if use_dBs:\n",
    "            y = dB*np.log10(y)\n",
    "        ax[i].semilogx(F, y, color=cmap(j), lw=1, label=labels[j])\n",
    "ax[-1].set_xlabel('Frequency [Hz]')\n",
    "ax[0].legend(loc=loc, frameon=False, fontsize=9)\n",
    "sns.despine()\n",
    "fig.tight_layout()"
   ]
  },
  {
   "cell_type": "markdown",
   "id": "7f984b38",
   "metadata": {},
   "source": [
    "Performs the vector fitting for a given number of poles:"
   ]
  },
  {
   "cell_type": "code",
   "execution_count": null,
   "id": "28dcd15f",
   "metadata": {},
   "outputs": [],
   "source": [
    "def run_vf(X, F, n_poles, n_iter=3, weights=None, poles_guess=None, do_plot=False):\n",
    "    Y = X.astype(np.complex128)\n",
    "    if weights is None:\n",
    "        weights = np.ones(F.size, dtype=np.float64)\n",
    "    else:\n",
    "        assert weights.size == F.size\n",
    "        weights = weights.astype(np.float64)\n",
    "\n",
    "    F0,F1 = np.log10(F[[0,-1]])\n",
    "    s = (2j*np.pi*F).astype(np.complex128)\n",
    "\n",
    "    import vectfit3 as vf\n",
    "    opts = vf.opts.copy()\n",
    "    opts['asymp'] = 2\n",
    "    opts['skip_res'] = True  # skip residue computation\n",
    "    opts['spy2'] = False     # do not plot the results\n",
    "\n",
    "    # initial guess for pole positions\n",
    "    if poles_guess is not None:\n",
    "        poles = poles_guess\n",
    "    else:\n",
    "        # logarithmically evenly spaced poles in the range [F0,F1]\n",
    "        poles = -2*np.pi*np.logspace(F0, F1, n_poles, dtype=np.complex128)\n",
    "    for i in range(n_iter):\n",
    "        if i == n_iter-1:\n",
    "            opts['skip_res'] = False\n",
    "            opts['spy2'] = do_plot\n",
    "        SER,poles,rmserr,fit = vf.vectfit(Y, s, poles, weights, opts)\n",
    "    return SER,poles,rmserr,fit"
   ]
  },
  {
   "cell_type": "markdown",
   "id": "d7bc803d",
   "metadata": {},
   "source": [
    "Choose the number of poles based on a threshold of the RMS error:"
   ]
  },
  {
   "cell_type": "code",
   "execution_count": null,
   "id": "edeea172",
   "metadata": {},
   "outputs": [],
   "source": [
    "shp = N_vars,N_loads\n",
    "N_poles = np.zeros(shp, dtype=int)\n",
    "rms_err = np.zeros(shp)\n",
    "rms_thresh = np.zeros(shp)\n",
    "fit = np.zeros((N_vars, N_loads, F.size), dtype=complex)\n",
    "systems = [[] for _ in range(N_vars)]\n",
    "max_N_poles = 50\n",
    "for i in range(N_vars):\n",
    "    for j in range(N_loads):\n",
    "        tf = TF[:,j,i]\n",
    "        rms_thresh[i,j] = 10 ** (np.floor(np.log10(np.abs(tf).mean())) - 3)\n",
    "        for n in range(max_N_poles):\n",
    "            SER,_,rms_err[i,j],fit[i,j,:] = run_vf(tf, F, n+1)\n",
    "            if abs(rms_err[i,j]) < rms_thresh[i,j]:\n",
    "                break\n",
    "        N_poles[i,j] = n+1\n",
    "        systems[i].append(lti(SER['A'],SER['B'],SER['C'],SER['D']))\n",
    "        print('[{:2d}][{:2d}] # of poles sufficient to have an RMS error below {:g}: {}.'.\\\n",
    "              format(i+1, j+1, rms_thresh[i,j], N_poles[i,j]))"
   ]
  },
  {
   "cell_type": "markdown",
   "id": "59187081",
   "metadata": {},
   "source": [
    "The results of the vector fitting:"
   ]
  },
  {
   "cell_type": "code",
   "execution_count": null,
   "id": "00eb72a5",
   "metadata": {},
   "outputs": [],
   "source": [
    "fig,ax = plt.subplots(N_vars, 1, figsize=(5,2.5*N_vars), squeeze=False)\n",
    "ax = ax[:,0]\n",
    "for i in range(N_vars):\n",
    "    for j in range(N_loads):\n",
    "        tf = TF[:,j,i]\n",
    "        if np.array(cmap(j))[:3].mean() > 0.5:\n",
    "            col = 'k'\n",
    "        else:\n",
    "            col = 'w'\n",
    "        ax[i].plot(F, dB*np.log10(np.abs(tf)), color=cmap(j), lw=3, label=labels[j])\n",
    "        ax[i].plot(F, dB*np.log10(np.abs(fit[i,j])), '--', color=col, lw=1)\n",
    "    ax[i].set_xscale('log')\n",
    "    ax[i].set_ylabel('PSD [dB]')\n",
    "ax[-1].set_xlabel('Frequency [Hz]')\n",
    "ax[-1].legend(loc='lower left', frameon=False, fontsize=9)\n",
    "sns.despine()\n",
    "fig.tight_layout()"
   ]
  },
  {
   "cell_type": "markdown",
   "id": "9de58fe9",
   "metadata": {},
   "source": [
    "Generate an OU process with the appropriate statistics:"
   ]
  },
  {
   "cell_type": "code",
   "execution_count": null,
   "id": "4f58e402",
   "metadata": {},
   "outputs": [],
   "source": [
    "tend = 12000\n",
    "srate = 200\n",
    "dt = 1/srate\n",
    "mean,stddev,tau = 0,0.1*P_loads,20e-3\n",
    "μ,c,α = mean,stddev*np.sqrt(2/tau),1/tau\n",
    "cutoff = α/(2*np.pi)\n",
    "time = np.r_[0 : tend+dt/2 : dt]\n",
    "N_samples = time.size\n",
    "U = np.zeros((N_loads,N_samples))\n",
    "for i in tqdm(range(N_loads)):\n",
    "    U[i,:] = OU_2(dt, α, μ, c[i], N_samples)"
   ]
  },
  {
   "cell_type": "markdown",
   "id": "d1f6913c",
   "metadata": {},
   "source": [
    "Filter the OU process with the TFs extracted above:"
   ]
  },
  {
   "cell_type": "code",
   "execution_count": null,
   "id": "47d8bd3e",
   "metadata": {},
   "outputs": [],
   "source": [
    "Y = np.zeros((N_vars,N_samples))\n",
    "for i in tqdm(range(N_vars)):\n",
    "    ys = []\n",
    "    for j in range(N_loads):\n",
    "        _,y,_ = lsim(systems[i][j], U[j,:], time)\n",
    "        assert y.imag.max() < 1e-10\n",
    "        ys.append(y.real)\n",
    "    Y[i,:] = np.sum(ys,axis=0)"
   ]
  },
  {
   "cell_type": "markdown",
   "id": "ac303024",
   "metadata": {},
   "source": [
    "Compute the PSDs:"
   ]
  },
  {
   "cell_type": "code",
   "execution_count": null,
   "id": "ea819911",
   "metadata": {},
   "outputs": [],
   "source": [
    "window = 200 / dt\n",
    "onesided = True\n",
    "def run_welch(x, dt, window, onesided):\n",
    "    freq,P = welch(x, 1/dt, window='hamming',\n",
    "                   nperseg=window, noverlap=window/2,\n",
    "                   return_onesided=onesided, scaling='density')\n",
    "    if onesided:\n",
    "        P /= 2\n",
    "    else:\n",
    "        Nf = freq.size\n",
    "        freq = freq[:Nf//2]\n",
    "        P = P[:Nf//2]\n",
    "    return freq, P, np.sqrt(P)\n",
    "\n",
    "freq,P_U,abs_U = run_welch(U, dt, window, onesided)\n",
    "P_U_dB = dB*np.log10(P_U)\n",
    "abs_U_dB = dB*np.log10(abs_U)\n",
    "\n",
    "_,P_Y,abs_Y = run_welch(Y, dt, window, onesided)\n",
    "P_Y_dB = dB*np.log10(P_Y)\n",
    "abs_Y_dB = dB*np.log10(abs_Y)\n",
    "\n",
    "P_U_theor = np.array([(ci/α)**2 / (1 + (2*np.pi*F/α)**2) for ci in c])\n",
    "P_U_theor_dB = dB*np.log10(P_U_theor)\n",
    "abs_U_theor = np.sqrt(P_U_theor)\n",
    "abs_U_theor_dB = dB*np.log10(abs_U_theor)\n",
    "\n",
    "# abs_TFxU = np.abs(TF[:,:,IDX]) * abs_U_theor\n",
    "# P_TFxU = abs_TFxU**2\n",
    "# abs_TFxU_dB = dB*np.log10(abs_TFxU)\n",
    "# P_TFxU_dB = dB*np.log10(P_TFxU)"
   ]
  },
  {
   "cell_type": "markdown",
   "id": "bd68ac06",
   "metadata": {},
   "source": [
    "Plot the PSDs:"
   ]
  },
  {
   "cell_type": "code",
   "execution_count": null,
   "id": "242d8bec",
   "metadata": {},
   "outputs": [],
   "source": [
    "fig,ax = plt.subplots(N_vars+1, 1, figsize=(5,2.5*(N_vars+1)), sharex=True)\n",
    "\n",
    "for i in range(N_loads):\n",
    "    ax[0].plot(freq, abs_U[i,:], color=cmap(i), lw=0.75, label=labels[i])\n",
    "    ax[0].plot(F, abs_U_theor[i,:], color='k', lw=2)\n",
    "ax[0].legend(loc='lower left', frameon=False)\n",
    "\n",
    "for i in range(N_vars):\n",
    "    col = np.array(cmap(i)[:3]) + 0.3\n",
    "    col[col>1] = 1\n",
    "    ax[i+1].plot(freq, np.abs(abs_Y[i,:]), color=[.6,.6,.6], lw=1)\n",
    "    for j in range(N_loads):\n",
    "        ax[i+1].plot(F, np.abs(OUT[:,loads_idx[j],vars_idx[i]]), color='k', lw=1)\n",
    "    ax[i+1].plot(F, np.abs(out_multi[i,:]), color='r', lw=1)\n",
    "    ax[i+1].set_title(titles[i])\n",
    "\n",
    "for a in ax:\n",
    "    a.set_xscale('log')\n",
    "    a.set_ylabel('| (j$\\omega$)|')\n",
    "ax[-1].set_xlabel('Frequency [Hz]')\n",
    "\n",
    "sns.despine()\n",
    "fig.tight_layout()"
   ]
  },
  {
   "cell_type": "raw",
   "id": "5ba8589c",
   "metadata": {},
   "source": [
    "fig,ax = plt.subplots(1, 2, figsize=(8,4), sharex=True)\n",
    "\n",
    "for i in range(N_loads):\n",
    "    col = np.array(cmap(i)[:3]) + 0.3\n",
    "    col[col>1] = 1\n",
    "    ax[0].plot(freq, abs_U[i,:], color=cmap(i), lw=0.75, label=labels[i])\n",
    "    ax[0].plot(F, abs_U_theor[i,:], color=cmap(i), lw=2)\n",
    "    ax[1].plot(F, np.abs(OUT[i,:,IDX]), color=cmap(i), lw=1)\n",
    "\n",
    "ax[0].plot(cutoff+np.zeros(2), ax[0].get_ylim(), '--', color=[1,0,0], lw=1, label='OU cutoff')\n",
    "ax[1].plot(F, np.abs(out_multi), 'k', lw=2, label='OUT')\n",
    "ax[1].plot(freq, abs_Y_multi, color=[1,.5,0], lw=1, label='Y', alpha=0.75)\n",
    "\n",
    "for a in ax:\n",
    "    a.legend(loc='upper left', frameon=False)\n",
    "    a.set_xscale('log')\n",
    "    a.set_xlabel('Frequency [Hz]')\n",
    "ax[0].set_ylabel('|U(j$\\omega$)|')\n",
    "\n",
    "sns.despine()\n",
    "fig.tight_layout()"
   ]
  },
  {
   "cell_type": "raw",
   "id": "8b0af792",
   "metadata": {},
   "source": [
    "i = 0\n",
    "gray = 0.7 + np.zeros(3)\n",
    "fig,ax = plt.subplots(3, 1, figsize=(3.5,4.5), sharex=True)\n",
    "ax[0].plot(freq[1:], P_U_dB[i,1:], color=gray, lw=0.75, label='OU')\n",
    "ax[0].plot(F, P_U_theor_dB[i,:], 'k', lw=2, label='OU theor.')\n",
    "ax[0].plot(cutoff+np.zeros(2), ax[0].get_ylim(), '--', color='k',\n",
    "           lw=1, label='OU cutoff')\n",
    "ax[1].plot(F, dB*np.log10(np.abs(TF[i,:,IDX])), 'k', lw=2, label='TF')\n",
    "ax[1].plot(F, dB*np.log10(np.abs(fit[i,:])), color=gray,\n",
    "           lw=1, label=f'Fit (# poles = {N_poles[i]})')\n",
    "ax[2].plot(freq, P_Y_dB[i,:], color=gray, lw=1, label='OUT')\n",
    "ax[2].plot(F, P_TFxU_dB[i,:], 'k', lw=1, label='TF x OU theor.')\n",
    "\n",
    "ax[0].set_ylabel('PSD')\n",
    "ax[1].set_ylabel(r'|Y(j$\\omega$)| [dB{}]'.format(dB))\n",
    "ax[2].set_ylabel('PSD')\n",
    "ticks = np.logspace(-3,2,6)\n",
    "for a in ax:\n",
    "    a.xaxis.set_major_locator(FixedLocator(ticks))\n",
    "    a.xaxis.set_minor_locator(NullLocator())\n",
    "    a.set_xscale('log')\n",
    "    a.grid(which='major', axis='x', ls=':', lw=0.5, color=[.6,.6,.6])\n",
    "ax[0].legend(loc='lower left', frameon=False, fontsize=8)\n",
    "ax[1].legend(loc='best', bbox_to_anchor=(0.55, 0.6, 0.5, 0.5), frameon=False, fontsize=8)\n",
    "ax[2].legend(loc='lower left', frameon=False, fontsize=8)\n",
    "ax[-1].set_xlim(ticks[[0,-1]])\n",
    "ax[-1].set_xlabel('Frequency [Hz]')\n",
    "sns.despine()\n",
    "fig.tight_layout()\n",
    "plt.savefig('spectra_input_output_{}.pdf'.format(labels[i].replace(':','').replace(' ','_')))"
   ]
  }
 ],
 "metadata": {
  "kernelspec": {
   "display_name": "Python 3 (ipykernel)",
   "language": "python",
   "name": "python3"
  },
  "language_info": {
   "codemirror_mode": {
    "name": "ipython",
    "version": 3
   },
   "file_extension": ".py",
   "mimetype": "text/x-python",
   "name": "python",
   "nbconvert_exporter": "python",
   "pygments_lexer": "ipython3",
   "version": "3.10.17"
  }
 },
 "nbformat": 4,
 "nbformat_minor": 5
}
