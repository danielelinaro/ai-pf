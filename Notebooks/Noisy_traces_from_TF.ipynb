{
 "cells": [
  {
   "cell_type": "code",
   "execution_count": null,
   "id": "e1cf9224",
   "metadata": {},
   "outputs": [],
   "source": [
    "import os\n",
    "import sys\n",
    "import numpy as np\n",
    "from scipy.signal import lti, lsim, welch\n",
    "if not '..' in sys.path:\n",
    "    sys.path.append('..')\n",
    "from pfcommon import OU_2\n",
    "\n",
    "DEBUG = False\n",
    "db = 10"
   ]
  },
  {
   "cell_type": "code",
   "execution_count": null,
   "id": "16431ba5",
   "metadata": {},
   "outputs": [],
   "source": [
    "import matplotlib\n",
    "import matplotlib.pyplot as plt\n",
    "from matplotlib.ticker import FixedLocator, NullLocator, FixedFormatter\n",
    "import seaborn as sns\n",
    "\n",
    "fontsize = 9\n",
    "lw = 0.75\n",
    "matplotlib.rc('font', **{'family': 'Times', 'size': fontsize})\n",
    "matplotlib.rc('axes', **{'linewidth': 0.75, 'labelsize': fontsize})\n",
    "matplotlib.rc('xtick', **{'labelsize': fontsize})\n",
    "matplotlib.rc('ytick', **{'labelsize': fontsize})\n",
    "matplotlib.rc('xtick.major', **{'width': lw, 'size':3})\n",
    "matplotlib.rc('ytick.major', **{'width': lw, 'size':3})\n",
    "matplotlib.rc('ytick.minor', **{'width': lw, 'size':1.5})"
   ]
  },
  {
   "cell_type": "markdown",
   "id": "140ccc92",
   "metadata": {},
   "source": [
    "Load the data:"
   ]
  },
  {
   "cell_type": "code",
   "execution_count": null,
   "id": "5f8e1a58",
   "metadata": {},
   "outputs": [],
   "source": [
    "N = 100\n",
    "data_file = os.path.join('..','data','Sardinia','SM_configs_from_data','001',\n",
    "                         'V2020_Rete_Sardegna_2021_06_03cr_AC_TF_-6.0_2.0_{}.npz'.format(N))\n",
    "data = np.load(data_file, allow_pickle=True)\n",
    "F = data['F']"
   ]
  },
  {
   "cell_type": "code",
   "execution_count": null,
   "id": "eb57f5c5",
   "metadata": {},
   "outputs": [],
   "source": [
    "if DEBUG:\n",
    "    F0 = 1\n",
    "    Z,P,K = np.array([]),-2*np.pi*np.array([F0]),0.01*2*np.pi*F0\n",
    "    csys = lti(Z,P,K)\n",
    "    _,tf = csys.freqresp(2*np.pi*F)\n",
    "else:\n",
    "    TF = data['TF']\n",
    "    OUT = data['OUT']\n",
    "    var_names = data['var_names']\n",
    "    var_type = 'bus_ur'\n",
    "    if var_type == 'gen':\n",
    "        gen_name = 'Grid-CODCTI-CODCTI0201________SUBNET__-CODCTI0201GGR1____GEN_____.ElmSym.speed'\n",
    "        idx = np.where(var_names==gen_name)[0][0]\n",
    "    elif var_type == 'bus_fe':\n",
    "        bus_name = 'Grid-BNFC_I-BNFC_I0601________SUBNET__-BNFC_I0601A1______BUS_____.ElmTerm.fe'\n",
    "        idx = np.where(var_names==bus_name)[0][0]\n",
    "    elif var_type == 'bus_ur':\n",
    "#         bus_name = 'Grid-BNFC_I-BNFC_I0601________SUBNET__-BNFC_I0601A1______BUS_____.ElmTerm.ur'\n",
    "        bus_name = 'Grid-CODCTI-CODCTI3801________SUBNET__-CODCTI3801B1______BUS_____.ElmTerm.ur'\n",
    "        idx = np.where(var_names==bus_name)[0][0]\n",
    "    else:\n",
    "        raise Exception(f\"Unknown variable type '{var_type}'\")\n",
    "    tf = TF[0,:,idx]\n",
    "    out = OUT[0,:,idx]"
   ]
  },
  {
   "cell_type": "code",
   "execution_count": null,
   "id": "40e71f92",
   "metadata": {},
   "outputs": [],
   "source": [
    "fig,ax = plt.subplots(1, 1, figsize=(5,3))\n",
    "ax.semilogx(F, db*np.log10(np.abs(tf)), 'k', lw=1.5)\n",
    "ax.set_xlabel('Frequency [Hz]')\n",
    "ax.set_ylabel('PSD [dB]')\n",
    "sns.despine()\n",
    "fig.tight_layout()"
   ]
  },
  {
   "cell_type": "markdown",
   "id": "7f984b38",
   "metadata": {},
   "source": [
    "Performs the vector fitting for a given number of poles:"
   ]
  },
  {
   "cell_type": "code",
   "execution_count": null,
   "id": "28dcd15f",
   "metadata": {},
   "outputs": [],
   "source": [
    "def run_vf(X, F, n_poles, n_iter=3, weights=None, do_plot=False):\n",
    "    Y = X.astype(np.complex128)\n",
    "    if weights is None:\n",
    "        weights = np.ones(F.size, dtype=np.float64)\n",
    "    else:\n",
    "        assert weights.size == F.size\n",
    "        weights = weights.astype(np.float64)\n",
    "\n",
    "    F0,F1 = np.log10(F[[0,-1]])\n",
    "    s = (2j*np.pi*F).astype(np.complex128)\n",
    "\n",
    "    import vectfit3 as vf\n",
    "    opts = vf.opts.copy()\n",
    "    opts['asymp'] = 2\n",
    "    opts['skip_res'] = True  # skip residue computation\n",
    "    opts['spy2'] = False     # do not plot the results\n",
    "\n",
    "    # initial guess for pole positions\n",
    "    poles = -2*np.pi*np.logspace(F0, F1, n, dtype=np.complex128)\n",
    "    for i in range(n_iter):\n",
    "        if i == n_iter-1:\n",
    "            opts['skip_res'] = False\n",
    "            opts['spy2'] = do_plot\n",
    "        SER,poles,rmserr,fit = vf.vectfit(Y, s, poles, weights, opts)\n",
    "    return SER,poles,rmserr,fit"
   ]
  },
  {
   "cell_type": "markdown",
   "id": "d7bc803d",
   "metadata": {},
   "source": [
    "Choose the number of poles based on a threshold the RMS error:"
   ]
  },
  {
   "cell_type": "code",
   "execution_count": null,
   "id": "edeea172",
   "metadata": {},
   "outputs": [],
   "source": [
    "if not DEBUG:\n",
    "    n_poles = np.r_[1:51]\n",
    "    rms_thresh = 10 ** (np.floor(np.log10(np.abs(tf).mean())) - 3)\n",
    "    for n in n_poles:\n",
    "        SER,poles,rmserr,fit = run_vf(tf, F, n)\n",
    "        if abs(rmserr) < rms_thresh:\n",
    "            break\n",
    "    print('Number of poles sufficient to have an RMS error below {:g}: {}.'.format(rms_thresh, n))"
   ]
  },
  {
   "cell_type": "markdown",
   "id": "59187081",
   "metadata": {},
   "source": [
    "The results of the vector fitting:"
   ]
  },
  {
   "cell_type": "code",
   "execution_count": null,
   "id": "c033c3d0",
   "metadata": {
    "scrolled": false
   },
   "outputs": [],
   "source": [
    "if not DEBUG:\n",
    "    SER,poles,rmserr,fit = run_vf(tf, F, n, do_plot=True)\n",
    "    csys = lti(SER['A'],SER['B'],SER['C'],SER['D'])"
   ]
  },
  {
   "cell_type": "markdown",
   "id": "c8cd40b5",
   "metadata": {},
   "source": [
    "Load information:"
   ]
  },
  {
   "cell_type": "code",
   "execution_count": null,
   "id": "a5c1c731",
   "metadata": {},
   "outputs": [],
   "source": [
    "load_name = 'EqX_BNFC_I0601TRR_____LOAD____'\n",
    "PF = data['PF'].item()\n",
    "P = PF['loads'][load_name]['P'] # [MW]"
   ]
  },
  {
   "cell_type": "markdown",
   "id": "9de58fe9",
   "metadata": {},
   "source": [
    "Generate an OU process with the appropriate statistics:"
   ]
  },
  {
   "cell_type": "code",
   "execution_count": null,
   "id": "4f58e402",
   "metadata": {},
   "outputs": [],
   "source": [
    "tend = 10800\n",
    "srate = 200\n",
    "dt = 1/srate\n",
    "mean,stddev,tau = 0,0.1*P,20e-3\n",
    "μ,c,α = mean,stddev*np.sqrt(2/tau),1/tau\n",
    "cutoff = α/(2*np.pi)\n",
    "time = np.r_[0 : tend+dt/2 : dt]\n",
    "N = time.size\n",
    "U = OU_2(dt, α, μ, c, N)"
   ]
  },
  {
   "cell_type": "markdown",
   "id": "d1f6913c",
   "metadata": {},
   "source": [
    "Filter the OU process with the TF extracted above:"
   ]
  },
  {
   "cell_type": "code",
   "execution_count": null,
   "id": "47d8bd3e",
   "metadata": {},
   "outputs": [],
   "source": [
    "_,Y,X = lsim(csys, U, time)\n",
    "assert Y.imag.max() < 1e-10\n",
    "Y = Y.real"
   ]
  },
  {
   "cell_type": "markdown",
   "id": "cdd04916",
   "metadata": {},
   "source": [
    "Plot the OU process and the corresponding filtered signal:"
   ]
  },
  {
   "cell_type": "code",
   "execution_count": null,
   "id": "3941da0c",
   "metadata": {},
   "outputs": [],
   "source": [
    "ds = 100\n",
    "fig,ax = plt.subplots(1, 1, figsize=(5,3))\n",
    "ax.plot(time[::ds], U[::ds], 'k', lw=0.5, label='U')\n",
    "ax.plot(time[::ds], Y[::ds], 'r', lw=0.5, label='Y')\n",
    "ax.set_xlabel('Time [s]')\n",
    "ax.legend(loc='upper left')\n",
    "sns.despine()\n",
    "fig.tight_layout()"
   ]
  },
  {
   "cell_type": "markdown",
   "id": "ac303024",
   "metadata": {},
   "source": [
    "Compute the PSDs:"
   ]
  },
  {
   "cell_type": "code",
   "execution_count": null,
   "id": "ea819911",
   "metadata": {},
   "outputs": [],
   "source": [
    "window = 200 / dt\n",
    "onesided = True\n",
    "def run_welch(x, dt, window, onesided):\n",
    "    freq,P = welch(x, 1/dt, window='hamming',\n",
    "                   nperseg=window, noverlap=window/2,\n",
    "                   return_onesided=onesided, scaling='density')\n",
    "    if onesided:\n",
    "        P /= 2\n",
    "    else:\n",
    "        Nf = freq.size\n",
    "        freq = freq[:Nf//2]\n",
    "        P = P[:Nf//2]\n",
    "    return freq, P, np.sqrt(P)\n",
    "\n",
    "freq,P_U,abs_U = run_welch(U, dt, window, onesided)\n",
    "P_U_db = db*np.log10(P_U)\n",
    "abs_U_db = db*np.log10(abs_U)\n",
    "\n",
    "freq,P_Y,abs_Y = run_welch(Y, dt, window, onesided)\n",
    "P_Y_db = db*np.log10(P_Y)\n",
    "abs_Y_db = db*np.log10(abs_Y)\n",
    "\n",
    "P_U_theor = (c/α)**2 / (1 + (2*np.pi*F/α)**2)\n",
    "P_U_theor_db = db*np.log10(P_U_theor)\n",
    "abs_U_theor = np.sqrt(P_U_theor)\n",
    "abs_U_theor_db = db*np.log10(abs_U_theor)\n",
    "\n",
    "abs_TFxU = np.abs(tf)*abs_U_theor\n",
    "P_TFxU = abs_TFxU**2\n",
    "abs_TFxU_db = db*np.log10(abs_TFxU)\n",
    "P_TFxU_db = db*np.log10(P_TFxU)"
   ]
  },
  {
   "cell_type": "markdown",
   "id": "bd68ac06",
   "metadata": {},
   "source": [
    "Plot the PSDs:"
   ]
  },
  {
   "cell_type": "code",
   "execution_count": null,
   "id": "242d8bec",
   "metadata": {},
   "outputs": [],
   "source": [
    "fig,ax = plt.subplots(1, 2, figsize=(8,4), sharex=True)\n",
    "# ax[0].plot(freq, abs_U_db, 'k', lw=0.75, label='U')\n",
    "# ax[0].plot(freq, abs_U_theor_db, color=[1,0,1], lw=2, label='U theor')\n",
    "ax[0].plot(freq, abs_U, 'k', lw=0.75, label='U')\n",
    "ax[0].plot(F, abs_U_theor, color=[1,0,1], lw=2, label='U theor')\n",
    "ax[0].plot(cutoff+np.zeros(2), ax[0].get_ylim(), '--', color=[0,1,0], lw=1, label='OU cutoff')\n",
    "# ax[1].plot(freq, abs_Y_db, 'r', lw=0.75, label='Y')\n",
    "# ax[1].plot(F, db*np.log10(np.abs(tf)), 'b', lw=1, label='TF')\n",
    "# ax[1].plot(freq, abs_U, 'k', lw=0.75, label='U')\n",
    "ax[1].plot(freq, abs_Y, 'r', lw=0.75, label='Y')\n",
    "ax[1].plot(F, np.abs(tf), 'b', lw=1, label='TF')\n",
    "ax[1].plot(F, np.abs(tf)*abs_U_theor, 'g', lw=1, label='TF*IN')\n",
    "if not DEBUG:\n",
    "    ax[1].plot(F, np.abs(out), 'm--', lw=1, label='OUT')\n",
    "# ax[1].set_ylim([-70, 10])\n",
    "for a in ax:\n",
    "    a.legend(loc='lower left', frameon=False)\n",
    "    a.set_xscale('log')\n",
    "    a.set_xlabel('Frequency [Hz]')\n",
    "# ax[0].set_ylabel('PSD')\n",
    "sns.despine()\n",
    "fig.tight_layout()"
   ]
  },
  {
   "cell_type": "code",
   "execution_count": null,
   "id": "7fa113f7",
   "metadata": {},
   "outputs": [],
   "source": [
    "gray = 0.7 + np.zeros(3)\n",
    "fig,ax = plt.subplots(3, 1, figsize=(3.5,4.5), sharex=True)\n",
    "ax[0].plot(freq[1:], P_U_db[1:], color=gray, lw=0.75, label='OU')\n",
    "ax[0].plot(F, P_U_theor_db, 'k', lw=2, label='OU theor.')\n",
    "ax[0].plot(cutoff+np.zeros(2), ax[0].get_ylim(), '--', color='k',\n",
    "           lw=1, label='OU cutoff')\n",
    "ax[1].plot(F, db*np.log10(np.abs(tf)), 'k', lw=2, label='TF')\n",
    "ax[1].plot(F, db*np.log10(np.abs(np.squeeze(fit))), color=gray,\n",
    "           lw=1, label=f'Fit (# poles = {poles.size})')\n",
    "ax[2].plot(freq, P_Y_db, color=gray, lw=1, label='OUT')\n",
    "ax[2].plot(F, P_TFxU_db, 'k', lw=1, label='TF x OU theor.')\n",
    "\n",
    "ax[0].set_ylabel('PSD')\n",
    "ax[1].set_ylabel(r'|Y(j$\\omega$)| [dB{}]'.format(db))\n",
    "ax[2].set_ylabel('PSD')\n",
    "ticks = np.logspace(-3,2,6)\n",
    "for a in ax:\n",
    "    a.xaxis.set_major_locator(FixedLocator(ticks))\n",
    "    a.xaxis.set_minor_locator(NullLocator())\n",
    "    a.set_xscale('log')\n",
    "    a.grid(which='major', axis='x', ls=':', lw=0.5, color=[.6,.6,.6])\n",
    "ax[0].legend(loc='lower left', frameon=False, fontsize=8)\n",
    "ax[1].legend(loc='best', bbox_to_anchor=(0.55, 0.6, 0.5, 0.5), frameon=False, fontsize=8)\n",
    "ax[2].legend(loc='lower left', frameon=False, fontsize=8)\n",
    "ax[-1].set_xlim(ticks[[0,-1]])\n",
    "# ax[-1].xaxis.set_major_formatter(FixedFormatter([f'{tick:g}' for tick in ticks]))\n",
    "ax[-1].set_xlabel('Frequency [Hz]')\n",
    "sns.despine()\n",
    "fig.tight_layout()\n",
    "plt.savefig(f'spectra_input_output_{var_type}.pdf')"
   ]
  }
 ],
 "metadata": {
  "kernelspec": {
   "display_name": "Python 3 (ipykernel)",
   "language": "python",
   "name": "python3"
  },
  "language_info": {
   "codemirror_mode": {
    "name": "ipython",
    "version": 3
   },
   "file_extension": ".py",
   "mimetype": "text/x-python",
   "name": "python",
   "nbconvert_exporter": "python",
   "pygments_lexer": "ipython3",
   "version": "3.10.14"
  }
 },
 "nbformat": 4,
 "nbformat_minor": 5
}
